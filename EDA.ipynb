{
 "cells": [
  {
   "cell_type": "code",
   "execution_count": 318,
   "metadata": {},
   "outputs": [],
   "source": [
    "# importing the required libraries\n",
    "\n",
    "import pandas as pd\n",
    "import numpy as np\n",
    "import matplotlib.pyplot as plt\n",
    "import seaborn as sns\n",
    "plt.style.use('ggplot')"
   ]
  },
  {
   "cell_type": "code",
   "execution_count": 319,
   "metadata": {},
   "outputs": [
    {
     "data": {
      "text/html": [
       "<div>\n",
       "<style scoped>\n",
       "    .dataframe tbody tr th:only-of-type {\n",
       "        vertical-align: middle;\n",
       "    }\n",
       "\n",
       "    .dataframe tbody tr th {\n",
       "        vertical-align: top;\n",
       "    }\n",
       "\n",
       "    .dataframe thead th {\n",
       "        text-align: right;\n",
       "    }\n",
       "</style>\n",
       "<table border=\"1\" class=\"dataframe\">\n",
       "  <thead>\n",
       "    <tr style=\"text-align: right;\">\n",
       "      <th></th>\n",
       "      <th>BROKERTITLE</th>\n",
       "      <th>TYPE</th>\n",
       "      <th>PRICE</th>\n",
       "      <th>BEDS</th>\n",
       "      <th>BATH</th>\n",
       "      <th>PROPERTYSQFT</th>\n",
       "      <th>ADDRESS</th>\n",
       "      <th>STATE</th>\n",
       "      <th>MAIN_ADDRESS</th>\n",
       "      <th>ADMINISTRATIVE_AREA_LEVEL_2</th>\n",
       "      <th>LOCALITY</th>\n",
       "      <th>SUBLOCALITY</th>\n",
       "      <th>STREET_NAME</th>\n",
       "      <th>LONG_NAME</th>\n",
       "      <th>FORMATTED_ADDRESS</th>\n",
       "      <th>LATITUDE</th>\n",
       "      <th>LONGITUDE</th>\n",
       "    </tr>\n",
       "  </thead>\n",
       "  <tbody>\n",
       "    <tr>\n",
       "      <th>0</th>\n",
       "      <td>Brokered by Douglas Elliman  -111 Fifth Ave</td>\n",
       "      <td>Condo for sale</td>\n",
       "      <td>315000</td>\n",
       "      <td>2</td>\n",
       "      <td>2.000000</td>\n",
       "      <td>1400.0</td>\n",
       "      <td>2 E 55th St Unit 803</td>\n",
       "      <td>New York, NY 10022</td>\n",
       "      <td>2 E 55th St Unit 803New York, NY 10022</td>\n",
       "      <td>New York County</td>\n",
       "      <td>New York</td>\n",
       "      <td>Manhattan</td>\n",
       "      <td>East 55th Street</td>\n",
       "      <td>Regis Residence</td>\n",
       "      <td>Regis Residence, 2 E 55th St #803, New York, N...</td>\n",
       "      <td>40.761255</td>\n",
       "      <td>-73.974483</td>\n",
       "    </tr>\n",
       "    <tr>\n",
       "      <th>1</th>\n",
       "      <td>Brokered by Serhant</td>\n",
       "      <td>Condo for sale</td>\n",
       "      <td>195000000</td>\n",
       "      <td>7</td>\n",
       "      <td>10.000000</td>\n",
       "      <td>17545.0</td>\n",
       "      <td>Central Park Tower Penthouse-217 W 57th New Yo...</td>\n",
       "      <td>New York, NY 10019</td>\n",
       "      <td>Central Park Tower Penthouse-217 W 57th New Yo...</td>\n",
       "      <td>United States</td>\n",
       "      <td>New York</td>\n",
       "      <td>New York County</td>\n",
       "      <td>New York</td>\n",
       "      <td>West 57th Street</td>\n",
       "      <td>217 W 57th St, New York, NY 10019, USA</td>\n",
       "      <td>40.766393</td>\n",
       "      <td>-73.980991</td>\n",
       "    </tr>\n",
       "    <tr>\n",
       "      <th>2</th>\n",
       "      <td>Brokered by Sowae Corp</td>\n",
       "      <td>House for sale</td>\n",
       "      <td>260000</td>\n",
       "      <td>4</td>\n",
       "      <td>2.000000</td>\n",
       "      <td>2015.0</td>\n",
       "      <td>620 Sinclair Ave</td>\n",
       "      <td>Staten Island, NY 10312</td>\n",
       "      <td>620 Sinclair AveStaten Island, NY 10312</td>\n",
       "      <td>United States</td>\n",
       "      <td>New York</td>\n",
       "      <td>Richmond County</td>\n",
       "      <td>Staten Island</td>\n",
       "      <td>Sinclair Avenue</td>\n",
       "      <td>620 Sinclair Ave, Staten Island, NY 10312, USA</td>\n",
       "      <td>40.541805</td>\n",
       "      <td>-74.196109</td>\n",
       "    </tr>\n",
       "    <tr>\n",
       "      <th>3</th>\n",
       "      <td>Brokered by COMPASS</td>\n",
       "      <td>Condo for sale</td>\n",
       "      <td>69000</td>\n",
       "      <td>3</td>\n",
       "      <td>1.000000</td>\n",
       "      <td>445.0</td>\n",
       "      <td>2 E 55th St Unit 908W33</td>\n",
       "      <td>Manhattan, NY 10022</td>\n",
       "      <td>2 E 55th St Unit 908W33Manhattan, NY 10022</td>\n",
       "      <td>United States</td>\n",
       "      <td>New York</td>\n",
       "      <td>New York County</td>\n",
       "      <td>New York</td>\n",
       "      <td>East 55th Street</td>\n",
       "      <td>2 E 55th St, New York, NY 10022, USA</td>\n",
       "      <td>40.761398</td>\n",
       "      <td>-73.974613</td>\n",
       "    </tr>\n",
       "    <tr>\n",
       "      <th>4</th>\n",
       "      <td>Brokered by Sotheby's International Realty - E...</td>\n",
       "      <td>Townhouse for sale</td>\n",
       "      <td>55000000</td>\n",
       "      <td>7</td>\n",
       "      <td>2.373861</td>\n",
       "      <td>14175.0</td>\n",
       "      <td>5 E 64th St</td>\n",
       "      <td>New York, NY 10065</td>\n",
       "      <td>5 E 64th StNew York, NY 10065</td>\n",
       "      <td>United States</td>\n",
       "      <td>New York</td>\n",
       "      <td>New York County</td>\n",
       "      <td>New York</td>\n",
       "      <td>East 64th Street</td>\n",
       "      <td>5 E 64th St, New York, NY 10065, USA</td>\n",
       "      <td>40.767224</td>\n",
       "      <td>-73.969856</td>\n",
       "    </tr>\n",
       "  </tbody>\n",
       "</table>\n",
       "</div>"
      ],
      "text/plain": [
       "                                         BROKERTITLE                TYPE  \\\n",
       "0        Brokered by Douglas Elliman  -111 Fifth Ave      Condo for sale   \n",
       "1                                Brokered by Serhant      Condo for sale   \n",
       "2                             Brokered by Sowae Corp      House for sale   \n",
       "3                                Brokered by COMPASS      Condo for sale   \n",
       "4  Brokered by Sotheby's International Realty - E...  Townhouse for sale   \n",
       "\n",
       "       PRICE  BEDS       BATH  PROPERTYSQFT  \\\n",
       "0     315000     2   2.000000        1400.0   \n",
       "1  195000000     7  10.000000       17545.0   \n",
       "2     260000     4   2.000000        2015.0   \n",
       "3      69000     3   1.000000         445.0   \n",
       "4   55000000     7   2.373861       14175.0   \n",
       "\n",
       "                                             ADDRESS                    STATE  \\\n",
       "0                               2 E 55th St Unit 803       New York, NY 10022   \n",
       "1  Central Park Tower Penthouse-217 W 57th New Yo...       New York, NY 10019   \n",
       "2                                   620 Sinclair Ave  Staten Island, NY 10312   \n",
       "3                            2 E 55th St Unit 908W33      Manhattan, NY 10022   \n",
       "4                                        5 E 64th St       New York, NY 10065   \n",
       "\n",
       "                                        MAIN_ADDRESS  \\\n",
       "0             2 E 55th St Unit 803New York, NY 10022   \n",
       "1  Central Park Tower Penthouse-217 W 57th New Yo...   \n",
       "2            620 Sinclair AveStaten Island, NY 10312   \n",
       "3         2 E 55th St Unit 908W33Manhattan, NY 10022   \n",
       "4                      5 E 64th StNew York, NY 10065   \n",
       "\n",
       "  ADMINISTRATIVE_AREA_LEVEL_2  LOCALITY      SUBLOCALITY       STREET_NAME  \\\n",
       "0             New York County  New York        Manhattan  East 55th Street   \n",
       "1               United States  New York  New York County          New York   \n",
       "2               United States  New York  Richmond County     Staten Island   \n",
       "3               United States  New York  New York County          New York   \n",
       "4               United States  New York  New York County          New York   \n",
       "\n",
       "          LONG_NAME                                  FORMATTED_ADDRESS  \\\n",
       "0   Regis Residence  Regis Residence, 2 E 55th St #803, New York, N...   \n",
       "1  West 57th Street             217 W 57th St, New York, NY 10019, USA   \n",
       "2   Sinclair Avenue     620 Sinclair Ave, Staten Island, NY 10312, USA   \n",
       "3  East 55th Street               2 E 55th St, New York, NY 10022, USA   \n",
       "4  East 64th Street               5 E 64th St, New York, NY 10065, USA   \n",
       "\n",
       "    LATITUDE  LONGITUDE  \n",
       "0  40.761255 -73.974483  \n",
       "1  40.766393 -73.980991  \n",
       "2  40.541805 -74.196109  \n",
       "3  40.761398 -73.974613  \n",
       "4  40.767224 -73.969856  "
      ]
     },
     "execution_count": 319,
     "metadata": {},
     "output_type": "execute_result"
    }
   ],
   "source": [
    "#loading the data\n",
    "df = pd.read_csv('NY-House-Dataset.csv')\n",
    "\n",
    "df.head()"
   ]
  },
  {
   "cell_type": "code",
   "execution_count": 320,
   "metadata": {},
   "outputs": [
    {
     "data": {
      "text/plain": [
       "(4801, 17)"
      ]
     },
     "execution_count": 320,
     "metadata": {},
     "output_type": "execute_result"
    }
   ],
   "source": [
    "#checking the shape of the data\n",
    "df.shape"
   ]
  },
  {
   "cell_type": "code",
   "execution_count": 321,
   "metadata": {},
   "outputs": [
    {
     "name": "stdout",
     "output_type": "stream",
     "text": [
      "<class 'pandas.core.frame.DataFrame'>\n",
      "RangeIndex: 4801 entries, 0 to 4800\n",
      "Data columns (total 17 columns):\n",
      " #   Column                       Non-Null Count  Dtype  \n",
      "---  ------                       --------------  -----  \n",
      " 0   BROKERTITLE                  4801 non-null   object \n",
      " 1   TYPE                         4801 non-null   object \n",
      " 2   PRICE                        4801 non-null   int64  \n",
      " 3   BEDS                         4801 non-null   int64  \n",
      " 4   BATH                         4801 non-null   float64\n",
      " 5   PROPERTYSQFT                 4801 non-null   float64\n",
      " 6   ADDRESS                      4801 non-null   object \n",
      " 7   STATE                        4801 non-null   object \n",
      " 8   MAIN_ADDRESS                 4801 non-null   object \n",
      " 9   ADMINISTRATIVE_AREA_LEVEL_2  4801 non-null   object \n",
      " 10  LOCALITY                     4801 non-null   object \n",
      " 11  SUBLOCALITY                  4801 non-null   object \n",
      " 12  STREET_NAME                  4801 non-null   object \n",
      " 13  LONG_NAME                    4801 non-null   object \n",
      " 14  FORMATTED_ADDRESS            4801 non-null   object \n",
      " 15  LATITUDE                     4801 non-null   float64\n",
      " 16  LONGITUDE                    4801 non-null   float64\n",
      "dtypes: float64(4), int64(2), object(11)\n",
      "memory usage: 637.8+ KB\n"
     ]
    }
   ],
   "source": [
    "#checking the data types\n",
    "df.info()"
   ]
  },
  {
   "cell_type": "markdown",
   "metadata": {},
   "source": [
    "#### Data Cleaning"
   ]
  },
  {
   "cell_type": "code",
   "execution_count": 322,
   "metadata": {},
   "outputs": [
    {
     "data": {
      "text/html": [
       "<div>\n",
       "<style scoped>\n",
       "    .dataframe tbody tr th:only-of-type {\n",
       "        vertical-align: middle;\n",
       "    }\n",
       "\n",
       "    .dataframe tbody tr th {\n",
       "        vertical-align: top;\n",
       "    }\n",
       "\n",
       "    .dataframe thead th {\n",
       "        text-align: right;\n",
       "    }\n",
       "</style>\n",
       "<table border=\"1\" class=\"dataframe\">\n",
       "  <thead>\n",
       "    <tr style=\"text-align: right;\">\n",
       "      <th></th>\n",
       "      <th>BROKERTITLE</th>\n",
       "      <th>TYPE</th>\n",
       "      <th>PRICE</th>\n",
       "      <th>BEDS</th>\n",
       "      <th>BATH</th>\n",
       "      <th>PROPERTYSQFT</th>\n",
       "      <th>LOCALITY</th>\n",
       "    </tr>\n",
       "  </thead>\n",
       "  <tbody>\n",
       "    <tr>\n",
       "      <th>0</th>\n",
       "      <td>Brokered by Douglas Elliman  -111 Fifth Ave</td>\n",
       "      <td>Condo for sale</td>\n",
       "      <td>315000</td>\n",
       "      <td>2</td>\n",
       "      <td>2.000000</td>\n",
       "      <td>1400.0</td>\n",
       "      <td>New York</td>\n",
       "    </tr>\n",
       "    <tr>\n",
       "      <th>1</th>\n",
       "      <td>Brokered by Serhant</td>\n",
       "      <td>Condo for sale</td>\n",
       "      <td>195000000</td>\n",
       "      <td>7</td>\n",
       "      <td>10.000000</td>\n",
       "      <td>17545.0</td>\n",
       "      <td>New York</td>\n",
       "    </tr>\n",
       "    <tr>\n",
       "      <th>2</th>\n",
       "      <td>Brokered by Sowae Corp</td>\n",
       "      <td>House for sale</td>\n",
       "      <td>260000</td>\n",
       "      <td>4</td>\n",
       "      <td>2.000000</td>\n",
       "      <td>2015.0</td>\n",
       "      <td>New York</td>\n",
       "    </tr>\n",
       "    <tr>\n",
       "      <th>3</th>\n",
       "      <td>Brokered by COMPASS</td>\n",
       "      <td>Condo for sale</td>\n",
       "      <td>69000</td>\n",
       "      <td>3</td>\n",
       "      <td>1.000000</td>\n",
       "      <td>445.0</td>\n",
       "      <td>New York</td>\n",
       "    </tr>\n",
       "    <tr>\n",
       "      <th>4</th>\n",
       "      <td>Brokered by Sotheby's International Realty - E...</td>\n",
       "      <td>Townhouse for sale</td>\n",
       "      <td>55000000</td>\n",
       "      <td>7</td>\n",
       "      <td>2.373861</td>\n",
       "      <td>14175.0</td>\n",
       "      <td>New York</td>\n",
       "    </tr>\n",
       "  </tbody>\n",
       "</table>\n",
       "</div>"
      ],
      "text/plain": [
       "                                         BROKERTITLE                TYPE  \\\n",
       "0        Brokered by Douglas Elliman  -111 Fifth Ave      Condo for sale   \n",
       "1                                Brokered by Serhant      Condo for sale   \n",
       "2                             Brokered by Sowae Corp      House for sale   \n",
       "3                                Brokered by COMPASS      Condo for sale   \n",
       "4  Brokered by Sotheby's International Realty - E...  Townhouse for sale   \n",
       "\n",
       "       PRICE  BEDS       BATH  PROPERTYSQFT  LOCALITY  \n",
       "0     315000     2   2.000000        1400.0  New York  \n",
       "1  195000000     7  10.000000       17545.0  New York  \n",
       "2     260000     4   2.000000        2015.0  New York  \n",
       "3      69000     3   1.000000         445.0  New York  \n",
       "4   55000000     7   2.373861       14175.0  New York  "
      ]
     },
     "execution_count": 322,
     "metadata": {},
     "output_type": "execute_result"
    }
   ],
   "source": [
    "#Drop unneccessary columns\n",
    "#The only columns that will be retained are :BROKERTITLE, TYPE, PRICE, BEDS, BATH, PROPERTYSQFT, LOCALITY\n",
    "\n",
    "df = df[['BROKERTITLE', 'TYPE', 'PRICE', 'BEDS', 'BATH', 'PROPERTYSQFT', 'LOCALITY']]\n",
    "df.head()\n"
   ]
  },
  {
   "cell_type": "code",
   "execution_count": 323,
   "metadata": {},
   "outputs": [
    {
     "name": "stdout",
     "output_type": "stream",
     "text": [
      "['New York' 'New York County' 'The Bronx' 'Kings County' 'Bronx County'\n",
      " 'Queens County' 'Richmond County' 'United States' 'Brooklyn' 'Queens'\n",
      " 'Flatbush']\n"
     ]
    }
   ],
   "source": [
    "#checking on locality of the houses\n",
    "print(df['LOCALITY'].unique())"
   ]
  },
  {
   "cell_type": "code",
   "execution_count": 324,
   "metadata": {},
   "outputs": [
    {
     "data": {
      "text/plain": [
       "LOCALITY\n",
       "New York           2505\n",
       "New York County     979\n",
       "Queens County       557\n",
       "Kings County        464\n",
       "Bronx County        182\n",
       "Richmond County      59\n",
       "United States        37\n",
       "Brooklyn              6\n",
       "Queens                6\n",
       "The Bronx             5\n",
       "Flatbush              1\n",
       "Name: count, dtype: int64"
      ]
     },
     "execution_count": 324,
     "metadata": {},
     "output_type": "execute_result"
    }
   ],
   "source": [
    "#checking on the count of the localities\n",
    "df['LOCALITY'].value_counts()"
   ]
  },
  {
   "cell_type": "code",
   "execution_count": 325,
   "metadata": {},
   "outputs": [
    {
     "name": "stdout",
     "output_type": "stream",
     "text": [
      "LOCALITY\n",
      "New York County    3484\n",
      "Queens County       563\n",
      "Kings County        470\n",
      "Bronx County        187\n",
      "Richmond County      59\n",
      "Name: count, dtype: int64\n"
     ]
    }
   ],
   "source": [
    "# We need to clean up the locality column, merge some localities and remove the ones that are not necessary\n",
    "\n",
    "#Delete the rows which have United States and Flatbush as the locality\n",
    "df = df[df.LOCALITY != 'United States']\n",
    "df = df[df.LOCALITY != 'Flatbush']\n",
    "\n",
    "#Under locality column merge the rows which has New York and New York County as the locality to form New York County\n",
    "df['LOCALITY'] = df['LOCALITY'].replace(['New York', 'New York County'], 'New York County')\n",
    "\n",
    "#merge the rows which has Brooklyn and Kings County as the locality to form Kings County\n",
    "df['LOCALITY'] = df['LOCALITY'].replace(['Brooklyn', 'Kings County'], 'Kings County')\n",
    "\n",
    "#merge the rows which has Queens and Queens County as the locality to form Queens County\n",
    "df['LOCALITY'] = df['LOCALITY'].replace(['Queens', 'Queens County'], 'Queens County')\n",
    "\n",
    "#merge the rows which has The Bronx and Bronx County as the locality to form Bronx County\n",
    "df['LOCALITY'] = df['LOCALITY'].replace(['The Bronx', 'Bronx County'], 'Bronx County')\n",
    "\n",
    "#checking the data\n",
    "print(df['LOCALITY'].value_counts())"
   ]
  },
  {
   "cell_type": "code",
   "execution_count": 326,
   "metadata": {},
   "outputs": [
    {
     "data": {
      "text/plain": [
       "(4763, 7)"
      ]
     },
     "execution_count": 326,
     "metadata": {},
     "output_type": "execute_result"
    }
   ],
   "source": [
    "#shape of the data\n",
    "df.shape"
   ]
  },
  {
   "cell_type": "code",
   "execution_count": 327,
   "metadata": {},
   "outputs": [
    {
     "name": "stdout",
     "output_type": "stream",
     "text": [
      "<class 'pandas.core.frame.DataFrame'>\n",
      "Index: 4763 entries, 0 to 4800\n",
      "Data columns (total 7 columns):\n",
      " #   Column        Non-Null Count  Dtype  \n",
      "---  ------        --------------  -----  \n",
      " 0   BROKERTITLE   4763 non-null   object \n",
      " 1   TYPE          4763 non-null   object \n",
      " 2   PRICE         4763 non-null   int64  \n",
      " 3   BEDS          4763 non-null   int64  \n",
      " 4   BATH          4763 non-null   float64\n",
      " 5   PROPERTYSQFT  4763 non-null   float64\n",
      " 6   LOCALITY      4763 non-null   object \n",
      "dtypes: float64(2), int64(2), object(3)\n",
      "memory usage: 297.7+ KB\n"
     ]
    }
   ],
   "source": [
    "#info of the data\n",
    "df.info()"
   ]
  },
  {
   "cell_type": "code",
   "execution_count": 328,
   "metadata": {},
   "outputs": [
    {
     "name": "stdout",
     "output_type": "stream",
     "text": [
      "TYPE\n",
      "Co-op for sale                1442\n",
      "House for sale                1000\n",
      "Condo for sale                 888\n",
      "Multi-family home for sale     716\n",
      "Townhouse for sale             299\n",
      "Pending                        242\n",
      "Contingent                      87\n",
      "Land for sale                   47\n",
      "For sale                        20\n",
      "Foreclosure                     14\n",
      "Condop for sale                  5\n",
      "Coming Soon                      2\n",
      "Mobile house for sale            1\n",
      "Name: count, dtype: int64\n",
      "['Condo for sale' 'House for sale' 'Townhouse for sale' 'Co-op for sale'\n",
      " 'Multi-family home for sale' 'For sale' 'Contingent' 'Land for sale'\n",
      " 'Foreclosure' 'Pending' 'Coming Soon' 'Mobile house for sale'\n",
      " 'Condop for sale']\n",
      "13\n"
     ]
    }
   ],
   "source": [
    "#inspect the type column\n",
    "print(df['TYPE'].value_counts())\n",
    "\n",
    "#unique values in the type column\n",
    "print(df['TYPE'].unique())\n",
    "\n",
    "#how many unique values in the type column\n",
    "print(df['TYPE'].nunique())"
   ]
  },
  {
   "cell_type": "code",
   "execution_count": 329,
   "metadata": {},
   "outputs": [
    {
     "name": "stdout",
     "output_type": "stream",
     "text": [
      "TYPE\n",
      "Co-op for sale                1442\n",
      "House for sale                1000\n",
      "Condo for sale                 893\n",
      "Multi-family home for sale     716\n",
      "Townhouse for sale             299\n",
      "Pending                        242\n",
      "Contingent                      87\n",
      "Land for sale                   47\n",
      "For sale                        20\n",
      "Foreclosure                     14\n",
      "Coming Soon                      2\n",
      "Mobile house for sale            1\n",
      "Name: count, dtype: int64\n"
     ]
    }
   ],
   "source": [
    "#merge Condo for sale and Condop for sale to form Condo for sale\n",
    "df['TYPE'] = df['TYPE'].replace(['Condo for sale', 'Condop for sale'], 'Condo for sale')\n",
    "\n",
    "print(df['TYPE'].value_counts())\n",
    "\n",
    "\n"
   ]
  },
  {
   "cell_type": "code",
   "execution_count": 330,
   "metadata": {},
   "outputs": [
    {
     "name": "stdout",
     "output_type": "stream",
     "text": [
      "BEDS\n",
      "3     1443\n",
      "2      990\n",
      "1      815\n",
      "4      564\n",
      "5      357\n",
      "6      269\n",
      "7      103\n",
      "8       84\n",
      "9       39\n",
      "10      21\n",
      "12      21\n",
      "11      20\n",
      "14       7\n",
      "15       5\n",
      "13       5\n",
      "16       4\n",
      "20       3\n",
      "24       3\n",
      "32       2\n",
      "35       1\n",
      "50       1\n",
      "36       1\n",
      "42       1\n",
      "40       1\n",
      "30       1\n",
      "19       1\n",
      "18       1\n",
      "Name: count, dtype: int64\n",
      "[ 2  7  4  3  5  8  1  6 10 11  9 12 15 14 16 20 35 24 50 13 32 36 42 40\n",
      " 30 19 18]\n",
      "27\n"
     ]
    }
   ],
   "source": [
    "#inspect the beds column\n",
    "print(df['BEDS'].value_counts())\n",
    "\n",
    "#unique values in the beds column\n",
    "print(df['BEDS'].unique())\n",
    "\n",
    "#how many unique values in the beds column\n",
    "print(df['BEDS'].nunique())"
   ]
  },
  {
   "cell_type": "code",
   "execution_count": 331,
   "metadata": {},
   "outputs": [
    {
     "name": "stdout",
     "output_type": "stream",
     "text": [
      "98.36237665336972\n"
     ]
    }
   ],
   "source": [
    "#percentage of houses with 10 beds and above\n",
    "print((df[df['BEDS'] <= 10].shape[0]/df.shape[0])*100)"
   ]
  },
  {
   "cell_type": "code",
   "execution_count": 332,
   "metadata": {},
   "outputs": [],
   "source": [
    "#drop the rows with 10 beds and above\n",
    "df = df[df['BEDS'] <= 10]\n",
    "\n"
   ]
  },
  {
   "cell_type": "code",
   "execution_count": 333,
   "metadata": {},
   "outputs": [
    {
     "name": "stdout",
     "output_type": "stream",
     "text": [
      "BATH\n",
      "2.000000     1664\n",
      "1.000000     1509\n",
      "4.000000      474\n",
      "3.000000      458\n",
      "2.373861      296\n",
      "6.000000      115\n",
      "5.000000       97\n",
      "8.000000       32\n",
      "7.000000       17\n",
      "10.000000      12\n",
      "9.000000        3\n",
      "0.000000        3\n",
      "16.000000       1\n",
      "32.000000       1\n",
      "13.000000       1\n",
      "11.000000       1\n",
      "17.000000       1\n",
      "Name: count, dtype: int64\n",
      "[ 2.         10.          1.          2.37386086 16.          3.\n",
      "  4.          6.          8.          5.          9.          7.\n",
      " 32.         13.         11.          0.         17.        ]\n",
      "17\n"
     ]
    }
   ],
   "source": [
    "#inspect the bath column\n",
    "print(df['BATH'].value_counts())\n",
    "\n",
    "#unique values in the bath column\n",
    "print(df['BATH'].unique())\n",
    "\n",
    "#how many unique values in the bath column\n",
    "print(df['BATH'].nunique())"
   ]
  },
  {
   "cell_type": "code",
   "execution_count": 334,
   "metadata": {},
   "outputs": [
    {
     "name": "stdout",
     "output_type": "stream",
     "text": [
      "99.89327641408752\n"
     ]
    }
   ],
   "source": [
    "#Percentage of houses with 10 baths and below\n",
    "print((df[df['BATH'] <= 10].shape[0]/df.shape[0])*100)  "
   ]
  },
  {
   "cell_type": "code",
   "execution_count": 335,
   "metadata": {},
   "outputs": [],
   "source": [
    "#drop the rows with 10 baths and above\n",
    "df = df[df['BATH'] <= 10]"
   ]
  },
  {
   "cell_type": "code",
   "execution_count": 336,
   "metadata": {},
   "outputs": [
    {
     "name": "stdout",
     "output_type": "stream",
     "text": [
      "BATH\n",
      "2.000000     1664\n",
      "1.000000     1509\n",
      "4.000000      474\n",
      "3.000000      458\n",
      "2.373861      296\n",
      "6.000000      115\n",
      "5.000000       97\n",
      "8.000000       32\n",
      "7.000000       17\n",
      "10.000000      12\n",
      "9.000000        3\n",
      "0.000000        3\n",
      "Name: count, dtype: int64\n",
      "BATH\n",
      "2.000000     1664\n",
      "1.000000     1509\n",
      "4.000000      474\n",
      "3.000000      458\n",
      "2.373861      296\n",
      "6.000000      115\n",
      "5.000000       97\n",
      "8.000000       32\n",
      "7.000000       17\n",
      "10.000000      12\n",
      "9.000000        3\n",
      "Name: count, dtype: int64\n"
     ]
    }
   ],
   "source": [
    "#inspect the bath column\n",
    "print(df['BATH'].value_counts())\n",
    "\n",
    "#Drop the rows with 0 baths\n",
    "df = df[df['BATH'] != 0]\n",
    "\n",
    "#print value counts of the bath column\n",
    "print(df['BATH'].value_counts())\n",
    "\n",
    "\n"
   ]
  },
  {
   "cell_type": "code",
   "execution_count": 337,
   "metadata": {},
   "outputs": [
    {
     "name": "stdout",
     "output_type": "stream",
     "text": [
      "2147483647\n"
     ]
    },
    {
     "data": {
      "text/plain": [
       "(4676,)"
      ]
     },
     "execution_count": 337,
     "metadata": {},
     "output_type": "execute_result"
    }
   ],
   "source": [
    "#inspect the price column\n",
    "# The house with the highest price\n",
    "print(df['PRICE'].max())\n",
    "\n",
    "#shape of the price series\n",
    "df['PRICE'].shape\n",
    "\n",
    "\n",
    "#drop the house with the highest price\n",
    "df = df[df['PRICE'] != 2147483647]\n",
    "\n",
    "#shape of the price series\n",
    "df['PRICE'].shape\n",
    "\n",
    "\n"
   ]
  },
  {
   "cell_type": "code",
   "execution_count": 338,
   "metadata": {},
   "outputs": [
    {
     "name": "stdout",
     "output_type": "stream",
     "text": [
      "BROKERTITLE     0\n",
      "TYPE            0\n",
      "PRICE           0\n",
      "BEDS            0\n",
      "BATH            0\n",
      "PROPERTYSQFT    0\n",
      "LOCALITY        0\n",
      "dtype: int64\n"
     ]
    }
   ],
   "source": [
    "#checking the missing values\n",
    "\n",
    "missing_values = df.isnull().sum()\n",
    "\n",
    "print(missing_values)\n"
   ]
  },
  {
   "cell_type": "code",
   "execution_count": 339,
   "metadata": {},
   "outputs": [
    {
     "data": {
      "text/html": [
       "<div>\n",
       "<style scoped>\n",
       "    .dataframe tbody tr th:only-of-type {\n",
       "        vertical-align: middle;\n",
       "    }\n",
       "\n",
       "    .dataframe tbody tr th {\n",
       "        vertical-align: top;\n",
       "    }\n",
       "\n",
       "    .dataframe thead th {\n",
       "        text-align: right;\n",
       "    }\n",
       "</style>\n",
       "<table border=\"1\" class=\"dataframe\">\n",
       "  <thead>\n",
       "    <tr style=\"text-align: right;\">\n",
       "      <th></th>\n",
       "      <th>PRICE</th>\n",
       "      <th>BEDS</th>\n",
       "      <th>BATH</th>\n",
       "      <th>PROPERTYSQFT</th>\n",
       "    </tr>\n",
       "  </thead>\n",
       "  <tbody>\n",
       "    <tr>\n",
       "      <th>count</th>\n",
       "      <td>4.676000e+03</td>\n",
       "      <td>4676.000000</td>\n",
       "      <td>4676.000000</td>\n",
       "      <td>4676.000000</td>\n",
       "    </tr>\n",
       "    <tr>\n",
       "      <th>mean</th>\n",
       "      <td>1.873226e+06</td>\n",
       "      <td>3.139649</td>\n",
       "      <td>2.245651</td>\n",
       "      <td>2103.708360</td>\n",
       "    </tr>\n",
       "    <tr>\n",
       "      <th>std</th>\n",
       "      <td>4.872900e+06</td>\n",
       "      <td>1.768277</td>\n",
       "      <td>1.372862</td>\n",
       "      <td>2185.930253</td>\n",
       "    </tr>\n",
       "    <tr>\n",
       "      <th>min</th>\n",
       "      <td>2.494000e+03</td>\n",
       "      <td>1.000000</td>\n",
       "      <td>1.000000</td>\n",
       "      <td>230.000000</td>\n",
       "    </tr>\n",
       "    <tr>\n",
       "      <th>25%</th>\n",
       "      <td>4.950000e+05</td>\n",
       "      <td>2.000000</td>\n",
       "      <td>1.000000</td>\n",
       "      <td>1200.000000</td>\n",
       "    </tr>\n",
       "    <tr>\n",
       "      <th>50%</th>\n",
       "      <td>7.999990e+05</td>\n",
       "      <td>3.000000</td>\n",
       "      <td>2.000000</td>\n",
       "      <td>2184.207862</td>\n",
       "    </tr>\n",
       "    <tr>\n",
       "      <th>75%</th>\n",
       "      <td>1.450000e+06</td>\n",
       "      <td>4.000000</td>\n",
       "      <td>3.000000</td>\n",
       "      <td>2184.207862</td>\n",
       "    </tr>\n",
       "    <tr>\n",
       "      <th>max</th>\n",
       "      <td>1.950000e+08</td>\n",
       "      <td>10.000000</td>\n",
       "      <td>10.000000</td>\n",
       "      <td>65535.000000</td>\n",
       "    </tr>\n",
       "  </tbody>\n",
       "</table>\n",
       "</div>"
      ],
      "text/plain": [
       "              PRICE         BEDS         BATH  PROPERTYSQFT\n",
       "count  4.676000e+03  4676.000000  4676.000000   4676.000000\n",
       "mean   1.873226e+06     3.139649     2.245651   2103.708360\n",
       "std    4.872900e+06     1.768277     1.372862   2185.930253\n",
       "min    2.494000e+03     1.000000     1.000000    230.000000\n",
       "25%    4.950000e+05     2.000000     1.000000   1200.000000\n",
       "50%    7.999990e+05     3.000000     2.000000   2184.207862\n",
       "75%    1.450000e+06     4.000000     3.000000   2184.207862\n",
       "max    1.950000e+08    10.000000    10.000000  65535.000000"
      ]
     },
     "execution_count": 339,
     "metadata": {},
     "output_type": "execute_result"
    }
   ],
   "source": [
    "#descriptive statistics\n",
    "df.describe()"
   ]
  },
  {
   "cell_type": "code",
   "execution_count": 340,
   "metadata": {},
   "outputs": [
    {
     "data": {
      "text/plain": [
       "(4437, 7)"
      ]
     },
     "execution_count": 340,
     "metadata": {},
     "output_type": "execute_result"
    }
   ],
   "source": [
    "#checking for duplicates and removing them\n",
    "\n",
    "df.duplicated().sum()\n",
    "\n",
    "df.drop_duplicates(inplace=True)\n",
    "\n",
    "#checking the shape of the data\n",
    "df.shape\n",
    "\n",
    "\n",
    "\n"
   ]
  },
  {
   "cell_type": "code",
   "execution_count": 341,
   "metadata": {},
   "outputs": [
    {
     "data": {
      "text/plain": [
       "count    4.437000e+03\n",
       "mean     1.880854e+06\n",
       "std      4.934854e+06\n",
       "min      2.494000e+03\n",
       "25%      4.950000e+05\n",
       "50%      7.999990e+05\n",
       "75%      1.459000e+06\n",
       "max      1.950000e+08\n",
       "Name: PRICE, dtype: float64"
      ]
     },
     "execution_count": 341,
     "metadata": {},
     "output_type": "execute_result"
    }
   ],
   "source": [
    "# price analysis\n",
    "df['PRICE'].describe()\n"
   ]
  },
  {
   "cell_type": "code",
   "execution_count": 343,
   "metadata": {},
   "outputs": [
    {
     "data": {
      "image/png": "[encoded data removed]",
      "text/plain": [
       "<Figure size 640x480 with 1 Axes>"
      ]
     },
     "metadata": {
      "image/png": {
       "height": 480,
       "width": 640
      },
      "needs_background": "light"
     },
     "output_type": "display_data"
    },
    {
     "data": {
      "text/plain": [
       "<Figure Size: (640 x 480)>"
      ]
     },
     "execution_count": 343,
     "metadata": {},
     "output_type": "execute_result"
    }
   ],
   "source": [
    "import plotnine as p9\n",
    "from plotnine import ggplot, aes, geom_histogram, labs, scale_x_log10, theme_minimal\n",
    "(ggplot(df) +\n",
    " geom_histogram(aes(x='PRICE'), bins=100, fill='steelblue', color='black') +\n",
    " labs(title='Distribution of Price', x='Price', y='Frequency') +\n",
    " scale_x_log10() +\n",
    " theme_minimal()\n",
    ")\n",
    "\n",
    "\n",
    "#Explain the analysis\n",
    "#The distribution of price is right skewed. This means that most of the houses are in the lower price range.\n",
    "#There are very few houses in the higher price range.\n",
    "#The distribution of price is not normal.\n"
   ]
  },
  {
   "cell_type": "code",
   "execution_count": 344,
   "metadata": {},
   "outputs": [
    {
     "data": {
      "image/png": "[encoded data removed]",
      "text/plain": [
       "<Figure size 640x480 with 1 Axes>"
      ]
     },
     "metadata": {
      "image/png": {
       "height": 480,
       "width": 640
      },
      "needs_background": "light"
     },
     "output_type": "display_data"
    },
    {
     "data": {
      "text/plain": [
       "<Figure Size: (640 x 480)>"
      ]
     },
     "execution_count": 344,
     "metadata": {},
     "output_type": "execute_result"
    }
   ],
   "source": [
    "from plotnine import ggplot, aes, geom_boxplot, theme_minimal\n",
    "#from plotnine.scales import scale_x_discrete, scale_y_log10  # import the scale_y_log10 function\n",
    "\n",
    "# importing the required libraries\n",
    "# creating the boxplot\n",
    "boxplot = (ggplot(df) +\n",
    "           aes(x='1', y='PRICE') +\n",
    "           geom_boxplot(fill='steelblue', color='black') +\n",
    "           theme_minimal() +\n",
    "           labs(title='Boxplot of House Price', x='', y='Price') \n",
    "          )\n",
    "\n",
    "# displaying the boxplot\n",
    "boxplot\n"
   ]
  },
  {
   "cell_type": "code",
   "execution_count": 345,
   "metadata": {},
   "outputs": [
    {
     "data": {
      "application/vnd.plotly.v1+json": {
       "config": {
        "plotlyServerURL": "https://plot.ly"
       },
       "data": [
        {
         "alignmentgroup": "True",
         "hovertemplate": "PRICE=%{y}<extra></extra>",
         "legendgroup": "",
         "marker": {
          "color": "#636efa"
         },
         "name": "",
         "notched": false,
         "offsetgroup": "",
         "orientation": "v",
         "showlegend": false,
         "type": "box",
         "x0": " ",
         "xaxis": "x",
         "y": [
          315000,
          195000000,
          260000,
          69000,
          55000000,
          690000,
          899500,
          265000,
          440000,
          375000,
          689000,
          259000,
          430000,
          895000,
          549000,
          975000,
          199000,
          350000,
          599000,
          639999,
          1300000,
          1100000,
          349900,
          750000,
          1690000,
          325000,
          230000,
          1299888,
          925000,
          329000,
          1300000,
          848000,
          279000,
          528000,
          275000,
          1165000,
          1199000,
          700000,
          2150000,
          1280000,
          199900,
          369000,
          699000,
          4250000,
          825000,
          329000,
          889000,
          769000,
          1200000,
          220500,
          1999000,
          3250000,
          1650000,
          1049000,
          998800,
          3150000,
          849000,
          559500,
          750000,
          1900000,
          1250000,
          1395000,
          198000,
          619888,
          1489000,
          65000000,
          1595000,
          655000,
          1175000,
          2880000,
          798000,
          1685000,
          31000000,
          2550000,
          119000,
          269000,
          1650000,
          12950000,
          5750000,
          250000,
          950000,
          585000,
          8750000,
          595000,
          215000,
          950000,
          314000,
          395000,
          600000,
          790000,
          539000,
          1295000,
          245000,
          400000,
          55000000,
          280000,
          899000,
          2280000,
          649000,
          739000,
          1495000,
          3950000,
          325000,
          299999,
          2695000,
          4800000,
          694000,
          688888,
          400000,
          346000,
          265000,
          319000,
          24800000,
          1100000,
          309000,
          650000,
          799000,
          259000,
          1195000,
          17500000,
          189000,
          759000,
          275000,
          499000,
          1249000,
          69900,
          1749900,
          1399000,
          649000,
          499000,
          1050000,
          5000000,
          90000,
          650000,
          500000,
          350000,
          1099000,
          90000,
          839000,
          659000,
          399999,
          250000,
          1740000,
          650000,
          1165000,
          729900,
          1880000,
          449000,
          1175000,
          2750000,
          995000,
          2000000,
          15000000,
          2800000,
          2600000,
          3500000,
          550000,
          769000,
          675000,
          879000,
          918888,
          2400000,
          1730000,
          425000,
          2500000,
          998000,
          1195000,
          1649000,
          955000,
          949000,
          880000,
          39995000,
          1250000,
          899999,
          198000,
          549000,
          1088888,
          888000,
          65000,
          1449999,
          14900000,
          1695000,
          2499000,
          1970000,
          1895000,
          689000,
          649999,
          669000,
          800000,
          2375000,
          2400000,
          390000,
          2250000,
          1450000,
          725000,
          269000,
          695000,
          1300000,
          459000,
          689999,
          425000,
          10000000,
          1525000,
          1499000,
          519000,
          358000,
          975000,
          498000,
          385000,
          999000,
          399000,
          599000,
          699998,
          1088000,
          999000,
          265000,
          288000,
          999995,
          1495000,
          925000,
          349000,
          2000000,
          839000,
          329000,
          899000,
          615000,
          800000,
          430000,
          499000,
          439500,
          299000,
          2580000,
          200000,
          425000,
          69000,
          1995000,
          230000,
          220000,
          198000,
          1495000,
          475000,
          199900,
          1150000,
          1575000,
          229000,
          2700000,
          320000,
          295000,
          550000,
          285000,
          328000,
          1388000,
          3000000,
          2198888,
          650000,
          1100000,
          2649000,
          849000,
          6500000,
          560000,
          418888,
          2600000,
          899000,
          979000,
          199000,
          815000,
          1025000,
          1375000,
          875000,
          1350000,
          989000,
          815156,
          1949000,
          669000,
          900500,
          1465000,
          899000,
          1100000,
          1199000,
          325000,
          1230000,
          3950000,
          1350000,
          799000,
          1599000,
          1299900,
          370000,
          3225,
          3649000,
          860000,
          765000,
          259000,
          1500000,
          850000,
          2494,
          99000,
          535000,
          849998,
          1100000,
          998000,
          1500000,
          875000,
          2350000,
          850000,
          4000000,
          1200000,
          12000000,
          1300000,
          799000,
          339000,
          875000,
          799000,
          285000,
          2499000,
          795000,
          1799995,
          250000,
          5999000,
          668000,
          699900,
          5295000,
          2265000,
          459000,
          1369000,
          879000,
          559000,
          869888,
          799888,
          749000,
          499000,
          1295000,
          879900,
          400000,
          699999,
          289000,
          699000,
          5800,
          479000,
          1355000,
          1225000,
          9999000,
          105000,
          799000,
          202000,
          720000,
          600000,
          599000,
          235000,
          319000,
          1088888,
          1250000,
          650000,
          774888,
          105509,
          995000,
          769000,
          395995,
          975000,
          499999,
          1649000,
          365000,
          748999,
          635000,
          149000,
          1099000,
          3950000,
          1529999,
          675000,
          2650000,
          420000,
          2999950,
          559900,
          549000,
          999000,
          289000,
          790000,
          2295000,
          1150000,
          13995000,
          6100000,
          350000,
          450000,
          2999999,
          2500000,
          350000,
          150000,
          3600000,
          235000,
          2000000,
          2200000,
          650000,
          149000,
          215000,
          799999,
          299000,
          265000,
          795000,
          1245000,
          549000,
          7495000,
          2850000,
          215000,
          299000,
          275000,
          898000,
          275000,
          599000,
          189000,
          678990,
          800000,
          549000,
          849000,
          675000,
          130000,
          759999,
          489000,
          799900,
          295000,
          159000,
          999500,
          589000,
          329000,
          799000,
          1188000,
          729000,
          614900,
          599000,
          950000,
          11000000,
          348000,
          965000,
          1095000,
          2295000,
          13500000,
          49500,
          460000,
          1230250,
          799999,
          259500,
          749000,
          265000,
          575000,
          849000,
          875000,
          599999,
          1150000,
          1188000,
          579900,
          1295000,
          250000,
          1395000,
          1648000,
          1675000,
          950000,
          449500,
          184888,
          399000,
          209000,
          280000,
          625000,
          275000,
          924800,
          1300000,
          995000,
          16500000,
          695000,
          998000,
          899000,
          849000,
          235000,
          399999,
          520000,
          485000,
          215000,
          1288000,
          270000,
          375000,
          565000,
          849000,
          199000,
          5500000,
          899000,
          699000,
          27750000,
          739000,
          425000,
          300000,
          569000,
          789000,
          10500000,
          350000,
          5895000,
          1250000,
          1499999,
          1488000,
          285000,
          699000,
          924900,
          560000,
          309000,
          925000,
          999000,
          699000,
          278500,
          738000,
          900000,
          369000,
          609000,
          758000,
          728000,
          314900,
          2848000,
          1298000,
          1095000,
          434900,
          375000,
          4680000,
          549000,
          549000,
          950000,
          388000,
          5600000,
          1600000,
          6995000,
          1399000,
          399000,
          529900,
          999000,
          575000,
          659900,
          2200000,
          898888,
          1250000,
          1188000,
          869999,
          219000,
          210000,
          799000,
          298000,
          1248888,
          1075000,
          1695000,
          3795000,
          550000,
          775000,
          249900,
          650000,
          410000,
          1650000,
          1600000,
          325000,
          275000,
          700000,
          930000,
          379000,
          1150000,
          568888,
          1200000,
          899900,
          799999,
          300000,
          750000,
          669999,
          575000,
          299000,
          548800,
          28500000,
          259000,
          425000,
          950000,
          185000,
          1688888,
          689000,
          419000,
          1199000,
          2150000,
          899000,
          675000,
          875000,
          899000,
          219000,
          120000,
          470000,
          229000,
          1199000,
          1498000,
          2000000,
          50000000,
          550000,
          499000,
          800000,
          239000,
          674999,
          14000000,
          1228000,
          880000,
          369888,
          500000,
          499000,
          2998888,
          175849,
          899975,
          1474000,
          2750000,
          3999000,
          1288000,
          499000,
          989000,
          650000,
          1999999,
          5990000,
          1235000,
          785000,
          750000,
          1400000,
          865000,
          324000,
          1100000,
          2295000,
          8950000,
          1348888,
          220000,
          185000,
          499000,
          999999,
          4995000,
          700000,
          1180000,
          609000,
          250000,
          689000,
          585000,
          109500,
          299000,
          995000,
          1499000,
          299000,
          279000,
          235000,
          17900000,
          950000,
          859000,
          1999000,
          1458888,
          650000,
          1100000,
          478900,
          560000,
          868000,
          999000,
          149000,
          594900,
          799000,
          985000,
          685000,
          479888,
          2500000,
          355000,
          260000,
          2600000,
          220000,
          489000,
          1288000,
          200000,
          625000,
          2245000,
          899000,
          575000,
          588888,
          650000,
          899999,
          315000,
          1599999,
          10000000,
          825000,
          795000,
          690000,
          1249949,
          799000,
          115000,
          2088000,
          699000,
          119000,
          1275000,
          410000,
          309900,
          435000,
          879000,
          325000,
          1900000,
          868000,
          1770000,
          899000,
          990000,
          818000,
          409000,
          679000,
          259000,
          850000,
          8750000,
          495000,
          825000,
          1075000,
          1950000,
          578000,
          8995000,
          629000,
          329900,
          1788888,
          899000,
          2150000,
          1290000,
          109000,
          545000,
          307000,
          595000,
          1088888,
          650000,
          949999,
          879000,
          850000,
          675000,
          199000,
          395000,
          368000,
          999999,
          374900,
          365000,
          25500000,
          999000,
          825000,
          889000,
          225000,
          799500,
          779000,
          1880000,
          3000000,
          480000,
          820000,
          385000,
          709999,
          699000,
          649000,
          529000,
          325000,
          999000,
          160000,
          3895000,
          699000,
          615000,
          249000,
          1290000,
          850000,
          588000,
          1790000,
          1175000,
          579000,
          249000,
          2480000,
          999000,
          228500,
          305000,
          1500000,
          778000,
          850000,
          428000,
          639000,
          835000,
          1250000,
          1695000,
          502900,
          749000,
          529000,
          705000,
          549000,
          7200000,
          335000,
          599000,
          334999,
          295000,
          560000,
          799000,
          720000,
          249999,
          850000,
          750000,
          625000,
          650000,
          4845000,
          580000,
          887785,
          499999,
          599000,
          1149000,
          988000,
          764600,
          699900,
          5495000,
          3900000,
          999000,
          10495000,
          188000,
          499900,
          545000,
          705000,
          1289000,
          389000,
          350000,
          295000,
          918000,
          1799000,
          989000,
          890000,
          469888,
          310000,
          479000,
          1290000,
          4250000,
          7400000,
          899000,
          16500000,
          659000,
          1150000,
          499000,
          725000,
          929000,
          629000,
          285000,
          315000,
          698000,
          849000,
          1775000,
          3850000,
          4500000,
          465000,
          869900,
          699000,
          799000,
          290000,
          575000,
          500000,
          2750000,
          495000,
          1199000,
          605000,
          550000,
          768000,
          2099000,
          575000,
          639000,
          525000,
          850000,
          674999,
          345000,
          788888,
          379000,
          1495000,
          2288000,
          699000,
          250000,
          1120000,
          25000000,
          858000,
          1275000,
          1070000,
          4800000,
          14600000,
          895000,
          1250000,
          1788000,
          799000,
          879000,
          963000,
          950000,
          410000,
          269000,
          8500000,
          550000,
          940000,
          865000,
          7995000,
          690000,
          330000,
          8750000,
          619000,
          899000,
          1175000,
          2999000,
          1395000,
          800000,
          499000,
          1625000,
          799999,
          1139000,
          529000,
          300000,
          869000,
          749000,
          240900,
          1295000,
          3850000,
          549000,
          129000,
          475000,
          980000,
          1199000,
          1299999,
          265000,
          262500,
          2699000,
          1200000,
          850000,
          989000,
          899999,
          2780000,
          999000,
          699000,
          60000,
          499999,
          599999,
          725000,
          998888,
          980000,
          800000,
          1299000,
          799000,
          995000,
          1250000,
          1275000,
          749999,
          2650000,
          999000,
          279000,
          479000,
          2300000,
          294000,
          1390000,
          450000,
          999000,
          1999000,
          1288000,
          639888,
          569900,
          1630000,
          689888,
          378000,
          23900000,
          149000,
          589000,
          958000,
          195000,
          299000,
          1750000,
          815000,
          989000,
          1075000,
          879000,
          999995,
          430000,
          445000,
          999000,
          2299000,
          1225000,
          849000,
          1350000,
          1600000,
          600000,
          435000,
          4999999,
          800000,
          329000,
          10975000,
          599000,
          699999,
          539000,
          370000,
          1499000,
          299000,
          2400000,
          275000,
          1395000,
          568000,
          1049000,
          899000,
          495000,
          535000,
          799999,
          1989000,
          699000,
          599000,
          169000,
          749000,
          1099000,
          475000,
          124900,
          619000,
          599000,
          689900,
          5900000,
          249000,
          509000,
          549000,
          2995000,
          1999000,
          350000,
          269000,
          7500000,
          9950000,
          2200000,
          479000,
          60000000,
          329000,
          1500000,
          560000,
          588000,
          3300000,
          169999,
          439000,
          758000,
          448000,
          2977000,
          385000,
          1475000,
          978000,
          2700000,
          349000,
          790000,
          750000,
          1195000,
          1750000,
          874999,
          324900,
          97500,
          2200000,
          999000,
          550000,
          519999,
          729000,
          2898555,
          611999,
          1500000,
          5600000,
          299999,
          2358000,
          748888,
          630000,
          1389000,
          319000,
          319000,
          1250000,
          1199000,
          1500000,
          780000,
          350000,
          255000,
          649000,
          1480000,
          628000,
          190000,
          450000,
          2473888,
          785000,
          699900,
          2495000,
          149999,
          208000,
          172800,
          1768888,
          1239998,
          1699000,
          1350000,
          889000,
          1300000,
          310000,
          1149000,
          239900,
          257000,
          1090000,
          799999,
          2045000,
          1195000,
          340000,
          1375000,
          749000,
          1399000,
          775000,
          948000,
          880000,
          699000,
          2250000,
          319000,
          1300000,
          729000,
          425000,
          399000,
          625000,
          269000,
          449000,
          699000,
          550000,
          799900,
          829000,
          789000,
          24990000,
          2250000,
          359000,
          1439000,
          1050000,
          134500,
          11900000,
          270000,
          2280000,
          278999,
          625000,
          605000,
          529000,
          1050000,
          225000,
          1049000,
          259000,
          599000,
          675000,
          3595000,
          789000,
          998000,
          889000,
          825000,
          599999,
          10999000,
          2750000,
          649000,
          989000,
          357000,
          25000000,
          119888,
          1099999,
          749000,
          589999,
          22500000,
          749000,
          499000,
          859000,
          599999,
          899000,
          315000,
          1999999,
          950000,
          13950000,
          1399000,
          595000,
          1618000,
          485000,
          748000,
          1100000,
          3995000,
          659000,
          1099000,
          319000,
          999000,
          398000,
          249000,
          1299000,
          8950000,
          750000,
          1100000,
          1275000,
          689000,
          320000,
          3995000,
          1399000,
          395000,
          1250000,
          719000,
          795000,
          1175000,
          4250000,
          2500000,
          850000,
          1350000,
          929000,
          549990,
          34000000,
          1550000,
          265000,
          879000,
          1200000,
          7500000,
          325000,
          755000,
          325000,
          1395000,
          649000,
          499999,
          999998,
          1358000,
          1650000,
          680000,
          258888,
          660000,
          300000,
          318888,
          330000,
          699000,
          875000,
          385000,
          985000,
          349000,
          5950000,
          968000,
          569000,
          238000,
          1200000,
          4995000,
          911600,
          598000,
          472000,
          549000,
          3995000,
          1085000,
          680000,
          200000,
          210000,
          525000,
          999000,
          1799000,
          1900000,
          519000,
          728900,
          549000,
          2300000,
          299999,
          1800000,
          1195000,
          200000,
          599000,
          7500000,
          1775000,
          1059000,
          1288888,
          1299999,
          1399999,
          725000,
          232500,
          250000,
          639000,
          950000,
          12500000,
          430000,
          279000,
          1725000,
          1698000,
          438000,
          100000,
          299000,
          625000,
          350000,
          699999,
          529000,
          23000000,
          599000,
          279900,
          165000,
          270000,
          625000,
          1970000,
          580000,
          979000,
          269000,
          1700000,
          499000,
          1699888,
          3100000,
          499000,
          1250000,
          245000,
          5800000,
          2350000,
          425000,
          799000,
          725000,
          3695000,
          3100000,
          1499999,
          1250000,
          1199000,
          28000000,
          719000,
          169000,
          99000,
          399000,
          1300000,
          888000,
          1308888,
          1265000,
          558000,
          1280000,
          429000,
          399900,
          499900,
          2489000,
          255500,
          30000000,
          395000,
          1090000,
          471300,
          9450000,
          1089000,
          220000,
          9950000,
          295000,
          1375000,
          399000,
          219999,
          129000,
          329000,
          639000,
          750000,
          499999,
          560000,
          1268000,
          1899000,
          888000,
          2900000,
          1250000,
          1078000,
          3200000,
          555555,
          293900,
          1175000,
          160000,
          999999,
          1448000,
          2950000,
          150000,
          354900,
          580000,
          969000,
          530000,
          624999,
          551000,
          14800000,
          450000,
          475000,
          995000,
          650000,
          250000,
          125000,
          2200000,
          925000,
          639000,
          215000,
          2050000,
          279000,
          785000,
          669000,
          3650000,
          6700000,
          681000,
          530000,
          1700000,
          339000,
          800000,
          189000,
          48000000,
          4995000,
          835000,
          999999,
          575000,
          349750,
          385000,
          7950000,
          324900,
          175000,
          915999,
          40000000,
          175000,
          850000,
          729000,
          5995000,
          480000,
          4200000,
          1198000,
          1848000,
          285000,
          849000,
          549000,
          729000,
          199999,
          4900000,
          600000,
          599000,
          599000,
          725000,
          1295000,
          798888,
          529000,
          999998,
          499000,
          319000,
          759000,
          245000,
          1249000,
          455000,
          999900,
          395000,
          620000,
          1295000,
          849000,
          8995000,
          650000,
          2995000,
          495000,
          675000,
          999000,
          2250000,
          1299000,
          429000,
          649999,
          10995000,
          2050000,
          1299000,
          1075000,
          174000,
          1193000,
          4995000,
          12500000,
          898000,
          1288000,
          1749999,
          575000,
          5100000,
          2000000,
          170000,
          1295000,
          749000,
          1848000,
          465000,
          298999,
          209900,
          539000,
          2975000,
          2099000,
          199900,
          789000,
          919000,
          815599,
          1050000,
          289999,
          4050000,
          7750000,
          1998000,
          1250000,
          680000,
          1299000,
          899000,
          845000,
          2098000,
          899000,
          758888,
          650000,
          169000,
          1350000,
          695000,
          1499000,
          395000,
          499000,
          449000,
          649000,
          335000,
          838000,
          1495000,
          980000,
          688000,
          679000,
          999888,
          375000,
          848724,
          1595000,
          568000,
          1153000,
          2399000,
          349000,
          2999990,
          899000,
          169000,
          449999,
          886545,
          495000,
          749000,
          875000,
          849000,
          110000,
          299999,
          335000,
          549000,
          445000,
          459000,
          399998,
          9500000,
          999000,
          650000,
          880000,
          1350000,
          599000,
          225000,
          220000,
          289000,
          350000,
          719999,
          1100000,
          259000,
          1699999,
          669000,
          3400000,
          549000,
          250000,
          299000,
          1288000,
          3345000,
          1198000,
          897888,
          575000,
          230000,
          775000,
          2100000,
          1080000,
          378888,
          750000,
          7495000,
          698888,
          850000,
          2999999,
          1149999,
          2025000,
          2695000,
          192500,
          395000,
          1200000,
          699000,
          649000,
          689000,
          1895000,
          668000,
          2550000,
          5500000,
          1680000,
          799000,
          680000,
          1650000,
          6750000,
          580000,
          700000,
          550000,
          315000,
          1695000,
          385000,
          2000000,
          249999,
          749000,
          220000,
          270000,
          998000,
          799999,
          395000,
          2800000,
          329888,
          311000,
          649000,
          159000,
          1148000,
          669000,
          305000,
          599000,
          1375000,
          339000,
          849500,
          379000,
          699000,
          565000,
          750000,
          1250000,
          999000,
          1350000,
          669900,
          399000,
          779000,
          1200000,
          895000,
          369000,
          299000,
          1780000,
          988000,
          279000,
          285000,
          988000,
          735000,
          2950000,
          899000,
          850000,
          670000,
          968000,
          320000,
          228888,
          199888,
          5995000,
          1430000,
          1350888,
          699000,
          699000,
          2000000,
          538888,
          2450000,
          574999,
          275000,
          1499888,
          270000,
          675000,
          149000,
          299999,
          595000,
          536000,
          288000,
          19499999,
          6995000,
          799000,
          4000000,
          165000,
          1475000,
          595000,
          3500000,
          2499000,
          699999,
          899000,
          549000,
          3700000,
          768000,
          949000,
          980000,
          849000,
          269000,
          150000,
          770000,
          750000,
          638000,
          199000,
          239000,
          6999500,
          693000,
          1150000,
          549000,
          889000,
          1075000,
          6995000,
          155000,
          349000,
          825000,
          215000,
          1099000,
          2900000,
          555000,
          697777,
          14995000,
          850000,
          1175000,
          545000,
          749000,
          13000000,
          549999,
          365000,
          695000,
          848000,
          699000,
          1075000,
          998000,
          540000,
          165000,
          779000,
          1399999,
          569000,
          285000,
          6295000,
          11500000,
          199999,
          569000,
          345000,
          1448000,
          183000,
          1995000,
          2250000,
          650000,
          14000000,
          785000,
          2599999,
          1850000,
          435000,
          1899000,
          875000,
          1479000,
          2250000,
          799000,
          12000000,
          205000,
          897000,
          1195000,
          1100000,
          1999000,
          1250000,
          9000000,
          575000,
          399000,
          12995000,
          798000,
          475000,
          399000,
          780000,
          450000,
          889000,
          6900000,
          765000,
          399000,
          585000,
          1388888,
          779000,
          948000,
          550000,
          549999,
          950000,
          2295000,
          799000,
          290900,
          474900,
          365000,
          199000,
          7995000,
          480000,
          1450000,
          695000,
          1249000,
          635000,
          1759000,
          499000,
          999000,
          17995000,
          2175000,
          639000,
          1099000,
          318000,
          475000,
          875000,
          739900,
          409000,
          275000,
          989000,
          1750000,
          285000,
          12495000,
          695000,
          3450000,
          435000,
          220000,
          1988800,
          3300000,
          135000,
          468000,
          5999999,
          318000,
          649000,
          1875000,
          1350000,
          3345000,
          899000,
          799000,
          5000000,
          464998,
          5250000,
          1995000,
          504000,
          1295000,
          699000,
          949000,
          1488000,
          800000,
          319999,
          999000,
          475000,
          399000,
          479900,
          615000,
          1150000,
          225000,
          284888,
          585000,
          720000,
          659000,
          249000,
          1495000,
          295000,
          699000,
          738000,
          400000,
          289000,
          187000,
          3500000,
          4995000,
          3400000,
          155000,
          689000,
          2150000,
          675000,
          889000,
          260000,
          4200000,
          749000,
          639000,
          799000,
          700000,
          297000,
          455000,
          6500000,
          799000,
          475000,
          209000,
          1325000,
          259000,
          899000,
          1325000,
          345000,
          1088000,
          669000,
          1388000,
          1475000,
          1375000,
          1099000,
          25000000,
          900000,
          599000,
          1295000,
          479900,
          4200000,
          188000,
          739999,
          475000,
          2250000,
          875000,
          499000,
          749000,
          4400000,
          855000,
          525000,
          715000,
          7950000,
          550000,
          17500000,
          1528000,
          1287777,
          330000,
          375000,
          875000,
          750000,
          1350000,
          27000000,
          599000,
          1200000,
          749000,
          1900000,
          590000,
          1395000,
          3595000,
          868000,
          1248000,
          1449000,
          338000,
          270000,
          765000,
          988000,
          339000,
          1099000,
          1181000,
          219000,
          588000,
          805000,
          929000,
          670000,
          649000,
          439900,
          2850000,
          299000,
          1389000,
          459999,
          1999000,
          2395000,
          1180000,
          650000,
          589000,
          515000,
          750000,
          1499999,
          1525000,
          1395000,
          900000,
          1099999,
          498888,
          199000,
          1495000,
          869000,
          239000,
          1299000,
          2350000,
          1788000,
          325000,
          299900,
          439999,
          899000,
          4950000,
          1895000,
          759000,
          699000,
          1590000,
          234900,
          675000,
          1500000,
          2300000,
          1075000,
          1325000,
          525000,
          385000,
          199000,
          670000,
          975000,
          799000,
          305000,
          299999,
          1980000,
          1299000,
          140000,
          279000,
          1995000,
          329000,
          750000,
          999990,
          430000,
          349000,
          599000,
          175000,
          999000,
          1335000,
          849999,
          136999,
          699000,
          329000,
          825000,
          685000,
          4100000,
          8850000,
          189000,
          8999999,
          408000,
          559000,
          949000,
          379000,
          815000,
          599000,
          280000,
          3999500,
          875000,
          310000,
          1299900,
          2225000,
          1530000,
          594900,
          1080000,
          1425000,
          1399888,
          36000000,
          575000,
          1288000,
          309000,
          999000,
          2700000,
          399000,
          554900,
          399000,
          675000,
          225000,
          999999,
          164999,
          13000000,
          235000,
          29000000,
          715000,
          565000,
          1650000,
          1200000,
          3975000,
          1049000,
          949900,
          1199000,
          765000,
          849000,
          999000,
          1280000,
          1999000,
          560000,
          26995000,
          1450000,
          1599000,
          255000,
          995000,
          5827000,
          569000,
          7195000,
          398000,
          3200000,
          799999,
          758888,
          619999,
          198000,
          485000,
          859000,
          359000,
          725000,
          575000,
          1288000,
          589000,
          239000,
          2050000,
          259000,
          900000,
          219000,
          1795000,
          2290000,
          10850000,
          699000,
          998000,
          1100000,
          425000,
          2750000,
          279999,
          715000,
          980000,
          949000,
          1600000,
          1299999,
          1188000,
          1350000,
          725000,
          309000,
          914999,
          600000,
          1750000,
          950000,
          850000,
          5000000,
          1050000,
          1390000,
          400000,
          750000,
          9995000,
          529000,
          1328888,
          478888,
          1350000,
          2250000,
          728000,
          239900,
          3399000,
          2750000,
          2095000,
          199900,
          2500000,
          1399999,
          2300000,
          735000,
          399990,
          850000,
          215000,
          130000,
          16995000,
          1195000,
          679000,
          299998,
          690000,
          185000,
          859000,
          928888,
          780000,
          1190000,
          1400000,
          599000,
          639999,
          799000,
          14950000,
          749000,
          2999999,
          599000,
          2700000,
          3995000,
          2235000,
          620000,
          1695000,
          1999999,
          1150000,
          339000,
          1390000,
          938000,
          919000,
          425000,
          19995000,
          1249000,
          799000,
          475000,
          3800000,
          325000,
          1200000,
          6975000,
          1150000,
          2400000,
          3500000,
          769000,
          2975000,
          1860000,
          1250000,
          220000,
          1179987,
          949000,
          920000,
          699000,
          4000000,
          649000,
          1175000,
          995000,
          1595000,
          435000,
          1338000,
          499000,
          2280000,
          660000,
          349000,
          14750000,
          160000,
          12500000,
          370000,
          600000,
          1950000,
          2000000,
          1250828,
          1149000,
          329999,
          390000,
          239000,
          1188888,
          18500000,
          567000,
          8900000,
          189000,
          985000,
          839000,
          995000,
          1439000,
          379000,
          3195000,
          1245000,
          1995000,
          365000,
          950000,
          4195000,
          209000,
          1390000,
          8250000,
          429000,
          950000,
          699000,
          450000,
          1190000,
          2995000,
          349980,
          339000,
          649000,
          4695000,
          189999,
          399888,
          1199900,
          1395000,
          2759000,
          2995000,
          399000,
          16995000,
          650000,
          2599000,
          1195000,
          1288000,
          2099000,
          1275000,
          10750000,
          650000,
          4800000,
          1279900,
          1680000,
          299000,
          845000,
          415000,
          449000,
          1250000,
          4395000,
          315000,
          499000,
          699000,
          625000,
          749000,
          949000,
          1495000,
          2395000,
          1250000,
          3165000,
          205000,
          1198000,
          2199000,
          5495000,
          625000,
          1449999,
          1399000,
          525000,
          12000000,
          1299000,
          269000,
          450000,
          899999,
          925000,
          279000,
          1795000,
          1250000,
          560000,
          999000,
          1188000,
          948888,
          735000,
          3600000,
          1850000,
          789000,
          569000,
          1700000,
          12995000,
          295000,
          625000,
          399000,
          5700000,
          618000,
          149999,
          650000,
          1990000,
          550000,
          279000,
          399000,
          2495000,
          3695000,
          299000,
          239500,
          235000,
          680000,
          629000,
          1039000,
          2200000,
          380000,
          599000,
          530000,
          598000,
          1449000,
          459000,
          825000,
          745000,
          440000,
          7750000,
          399900,
          990000,
          1150000,
          2300000,
          4999000,
          350000,
          1900000,
          2498000,
          3500000,
          995000,
          193999,
          245000,
          8495000,
          12500000,
          500000,
          1895000,
          189900,
          5500000,
          10850000,
          999000,
          2195000,
          1260000,
          675000,
          225000,
          229000,
          1275000,
          5495000,
          850000,
          450000,
          950000,
          730000,
          830000,
          829000,
          555000,
          888000,
          1149000,
          648000,
          499000,
          450000,
          3900000,
          558000,
          1695000,
          725000,
          940000,
          539000,
          99000,
          895000,
          995000,
          2550000,
          345000,
          879000,
          945000,
          939999,
          500000,
          475000,
          1288000,
          1238000,
          1450000,
          370000,
          595000,
          2799000,
          289000,
          595000,
          669000,
          13995000,
          2095000,
          585000,
          699000,
          340000,
          15500000,
          199999,
          2495000,
          799000,
          888888,
          1690000,
          8950000,
          1449000,
          1295000,
          599000,
          628000,
          593000,
          634900,
          499900,
          540000,
          1950000,
          379000,
          299000,
          850000,
          199999,
          899000,
          1299000,
          699000,
          579000,
          585000,
          579000,
          499000,
          350000,
          1250000,
          899000,
          1979000,
          599000,
          779000,
          25000000,
          1195000,
          1995000,
          564900,
          1250000,
          15000000,
          1399000,
          1250000,
          335000,
          685000,
          279999,
          418000,
          1780000,
          520000,
          599900,
          885000,
          258000,
          700000,
          25750000,
          999000,
          898000,
          500000,
          695000,
          215000,
          759000,
          375000,
          2100000,
          389888,
          285000,
          2795000,
          674999,
          12995000,
          759000,
          995000,
          229000,
          239000,
          315000,
          1100000,
          225000,
          868000,
          1380000,
          1100000,
          865000,
          1895000,
          749000,
          775000,
          2395000,
          2300000,
          700000,
          450000,
          280000,
          3890000,
          560000,
          198000,
          1099000,
          779000,
          1880000,
          509000,
          499000,
          204888,
          1499000,
          1295000,
          7500000,
          395000,
          760000,
          988000,
          528000,
          949000,
          420000,
          1380000,
          1750000,
          268000,
          849000,
          1095000,
          4295000,
          720000,
          1900000,
          729999,
          425000,
          848000,
          213000,
          795000,
          749000,
          1350000,
          649000,
          439000,
          1699000,
          2375000,
          349999,
          425000,
          1650000,
          1225000,
          699000,
          1150000,
          2399000,
          989000,
          318888,
          799000,
          489000,
          398000,
          1190000,
          795000,
          750000,
          899999,
          1325000,
          595000,
          330000,
          2998000,
          425000,
          345000,
          999000,
          450000,
          135000,
          261250,
          728000,
          199000,
          3200000,
          1950000,
          600000,
          569000,
          749000,
          2488000,
          1138000,
          3720000,
          974998,
          300000,
          729000,
          750000,
          599000,
          11950000,
          825000,
          800000,
          289000,
          4750000,
          899999,
          868000,
          3995000,
          1500000,
          625000,
          749000,
          520000,
          749900,
          799000,
          959000,
          888000,
          725000,
          1065000,
          19995000,
          744000,
          4595000,
          475000,
          189000,
          998888,
          4500000,
          32000000,
          3250000,
          769000,
          648998,
          1699900,
          3250000,
          395250,
          539000,
          1348000,
          1450000,
          465000,
          6500000,
          297000,
          244900,
          2480000,
          230000,
          780000,
          4875000,
          539999,
          750000,
          2249000,
          270000,
          399000,
          1950000,
          240000,
          628000,
          399000,
          687000,
          588000,
          825000,
          285000,
          595000,
          899000,
          2995000,
          1180000,
          799900,
          130000,
          849999,
          185000,
          1275000,
          2798000,
          359000,
          435000,
          988000,
          800000,
          400000,
          965000,
          1389000,
          525000,
          289000,
          10000000,
          279000,
          15995000,
          1850000,
          250000,
          2250000,
          1800000,
          350000,
          1649000,
          1395000,
          1370000,
          360000,
          1050000,
          2200000,
          650000,
          345000,
          7850000,
          4999000,
          4900000,
          299000,
          1578000,
          715000,
          600000,
          850000,
          1949000,
          1599999,
          640000,
          799900,
          1599000,
          695000,
          740000,
          329000,
          750000,
          1450000,
          1999999,
          899888,
          379000,
          879000,
          1030000,
          699999,
          388000,
          1750000,
          995000,
          599999,
          300000,
          389000,
          875000,
          3000000,
          850000,
          3595000,
          925000,
          799000,
          1399000,
          1880000,
          375000,
          269000,
          4500000,
          589000,
          239000,
          385000,
          1000000,
          2800000,
          130000,
          789888,
          798000,
          495000,
          555000,
          1274000,
          349000,
          2500000,
          1250000,
          2495000,
          749900,
          1399900,
          948888,
          775000,
          475000,
          2595000,
          1199000,
          750000,
          713000,
          300000,
          2695000,
          450000,
          699000,
          10950000,
          225000,
          5925000,
          255000,
          2095000,
          10250000,
          750000,
          2999000,
          199000,
          1250000,
          2425000,
          205000,
          2500000,
          3499000,
          649000,
          729000,
          998500,
          765000,
          599000,
          11500000,
          595000,
          675000,
          949000,
          729000,
          895000,
          2449000,
          399999,
          397000,
          950000,
          3995000,
          599000,
          1999999,
          3370000,
          6995000,
          1598000,
          699000,
          265000,
          1699000,
          1098000,
          960000,
          1086300,
          859000,
          945000,
          549000,
          969999,
          1649000,
          2800000,
          449000,
          294500,
          990000,
          314000,
          1598000,
          208000,
          169900,
          235000,
          278000,
          998000,
          6400000,
          385000,
          250000,
          1849000,
          449500,
          1250000,
          1099000,
          1900000,
          2500000,
          1288000,
          1150000,
          825000,
          4195000,
          675000,
          875000,
          297000,
          485000,
          230000,
          629000,
          625000,
          1200000,
          7550000,
          499000,
          485000,
          399000,
          14000000,
          299000,
          2200000,
          465000,
          278000,
          709000,
          685000,
          4500000,
          779000,
          640000,
          449000,
          1100000,
          550000,
          1899000,
          599900,
          22500000,
          739000,
          7995000,
          1425000,
          749000,
          548000,
          950000,
          399000,
          1460000,
          269000,
          1695000,
          155000,
          449000,
          825000,
          690000,
          1499000,
          795000,
          300000,
          1100000,
          5000000,
          2500000,
          425000,
          1149000,
          410000,
          268000,
          6000000,
          4650000,
          24500000,
          660000,
          465000,
          1175000,
          698999,
          5250000,
          1078000,
          349000,
          269995,
          375000,
          6999000,
          1398000,
          750000,
          629000,
          1150000,
          12500000,
          699900,
          1098888,
          519000,
          1200000,
          279000,
          1325000,
          635000,
          499000,
          1100000,
          199000,
          550000,
          518000,
          26000000,
          1250000,
          8750000,
          1465000,
          278000,
          469000,
          225000,
          1100000,
          1960000,
          799000,
          949000,
          799000,
          699000,
          900000,
          1235000,
          3295000,
          595000,
          269000,
          548000,
          6995000,
          1150000,
          595000,
          799000,
          2110000,
          4200000,
          450000,
          385000,
          649999,
          539000,
          550000,
          1525000,
          2100000,
          625000,
          728888,
          739000,
          1290000,
          675000,
          950000,
          550000,
          1099999,
          906300,
          5900000,
          2700000,
          659000,
          898000,
          189990,
          2150000,
          550000,
          2100000,
          1088888,
          499000,
          1795000,
          2300000,
          749000,
          594900,
          1399000,
          639000,
          1995000,
          1250000,
          275000,
          3495000,
          325000,
          500000,
          349000,
          3195000,
          24950000,
          709999,
          774900,
          988000,
          275000,
          219000,
          439000,
          425000,
          599999,
          1139000,
          680000,
          560000,
          1600000,
          699900,
          1650000,
          679000,
          1249000,
          438000,
          449000,
          699000,
          1400000,
          600000,
          686000,
          2255000,
          2500000,
          1848888,
          259900,
          399000,
          1479000,
          559900,
          599000,
          2480000,
          5995000,
          4750000,
          778000,
          1125000,
          550000,
          1775000,
          888000,
          375000,
          15000000,
          849000,
          185000,
          1250000,
          349000,
          259000,
          575000,
          500000,
          399999,
          10800000,
          239000,
          6950000,
          979000,
          599999,
          699000,
          1400000,
          649000,
          5475000,
          224000,
          590000,
          1050000,
          2288000,
          1175000,
          838000,
          995000,
          1345000,
          339000,
          999000,
          2499000,
          289000,
          1350000,
          850000,
          1450000,
          549995,
          995000,
          775000,
          330000,
          789000,
          288000,
          2399000,
          589000,
          250000,
          1495000,
          225000,
          380000,
          939000,
          150000,
          889000,
          665000,
          899000,
          10750000,
          3200000,
          399985,
          437500,
          1385000,
          769000,
          399000,
          318000,
          1580000,
          1300000,
          625000,
          290000,
          419000,
          448000,
          540000,
          549990,
          299000,
          840000,
          15250000,
          420000,
          1550000,
          668888,
          225000,
          975000,
          1900000,
          450500,
          399000,
          249000,
          175000,
          720000,
          6995000,
          2150000,
          1388800,
          1400000,
          2250000,
          1170000,
          350000,
          748800,
          469000,
          1355000,
          1099000,
          250000,
          860000,
          2250000,
          288800,
          285000,
          399000,
          489000,
          1098000,
          1200000,
          1750000,
          999999,
          1890000,
          180000,
          1600000,
          9995000,
          5400000,
          3395000,
          1050000,
          799000,
          698000,
          1699000,
          558000,
          1900000,
          2150000,
          769000,
          1249999,
          419000,
          329000,
          275000,
          438000,
          568000,
          2150000,
          750000,
          999999,
          1995000,
          875000,
          989000,
          499000,
          660400,
          1199999,
          580880,
          1399000,
          630000,
          479999,
          460000,
          1649000,
          5999000,
          845000,
          160000,
          729000,
          995000,
          565000,
          875000,
          1280000,
          248000,
          1295000,
          4995000,
          330000,
          6500000,
          789000,
          3250000,
          3200000,
          1499000,
          1599000,
          549000,
          249999,
          699900,
          1149000,
          219000,
          499000,
          749999,
          449000,
          879000,
          650000,
          750000,
          780000,
          699000,
          275000,
          925000,
          388000,
          224995,
          239000,
          529000,
          995000,
          1030000,
          875000,
          598500,
          265000,
          1995000,
          820000,
          1995000,
          210000,
          2350000,
          6995000,
          1475000,
          1225000,
          1995000,
          2999999,
          292950,
          1540000,
          679000,
          800000,
          998000,
          920000,
          1098000,
          798000,
          525000,
          3900000,
          479500,
          599000,
          6900000,
          629000,
          1650000,
          1100000,
          1450000,
          1049000,
          22500000,
          2925000,
          695000,
          650000,
          1695000,
          1200000,
          4675000,
          1200000,
          4495000,
          462900,
          635000,
          368000,
          12850000,
          350777,
          700000,
          335900,
          1888000,
          1288000,
          750000,
          324888,
          550000,
          165000,
          2950000,
          130000,
          3500000,
          1049000,
          9995000,
          750000,
          219000,
          935000,
          750000,
          1080000,
          2888888,
          860000,
          1180000,
          235000,
          4650000,
          680000,
          595000,
          1200000,
          849999,
          1300000,
          2175000,
          2795000,
          979000,
          589000,
          45000000,
          1995000,
          679000,
          263000,
          7250000,
          169999,
          304900,
          600000,
          999000,
          279000,
          1250000,
          179000,
          268000,
          140000,
          2100000,
          293000,
          649000,
          298888,
          1650000,
          538000,
          990000,
          4145000,
          2545000,
          999888,
          15500000,
          395000,
          999000,
          3125000,
          2995000,
          570000,
          599000,
          239000,
          5000000,
          950000,
          1099000,
          1950000,
          1085000,
          999900,
          759000,
          799000,
          928500,
          6995000,
          1150000,
          349000,
          1400000,
          6495000,
          1450000,
          599000,
          898888,
          2980000,
          829000,
          15850000,
          945000,
          389000,
          185000,
          568000,
          950000,
          2000000,
          1069000,
          599999,
          7600000,
          248000,
          575000,
          350000,
          695000,
          875000,
          119000,
          4000000,
          195000,
          410000,
          699000,
          699999,
          915000,
          995000,
          535000,
          429000,
          2195000,
          1690000,
          1699999,
          235000,
          899000,
          269999,
          1350000,
          735000,
          1499000,
          899999,
          900000,
          629900,
          280000,
          1999000,
          5100000,
          8500000,
          1075000,
          950000,
          875000,
          485000,
          598000,
          2999000,
          600000,
          355000,
          889000,
          650000,
          629000,
          970000,
          515000,
          1900000,
          3395000,
          1795000,
          549000,
          6998000,
          1400000,
          750000,
          750000,
          349000,
          519999,
          1649000,
          1750000,
          868000,
          324900,
          870000,
          355000,
          10900000,
          375000,
          6700000,
          268800,
          640000,
          2800000,
          699000,
          950000,
          749000,
          1800000,
          1025000,
          2449000,
          659000,
          1499000,
          700000,
          235000,
          700000,
          4895000,
          2350000,
          456000,
          1190000,
          5350000,
          335000,
          628000,
          710000,
          790000,
          1300000,
          800000,
          699000,
          1750000,
          416000,
          225000,
          499000,
          425000,
          220000,
          2400000,
          5995000,
          988888,
          369000,
          5799000,
          229000,
          44500000,
          235000,
          3500000,
          875000,
          1099000,
          1795000,
          579000,
          868000,
          699900,
          559900,
          650000,
          209000,
          1695000,
          570000,
          419800,
          1875000,
          5900000,
          1450000,
          975000,
          210000,
          310000,
          8575000,
          1895000,
          10500000,
          2990000,
          440000,
          650000,
          600000,
          160000,
          599900,
          2499000,
          1850000,
          888000,
          500000,
          1995000,
          495000,
          599000,
          178000,
          279900,
          9000000,
          119000,
          935000,
          750000,
          318000,
          3399000,
          528000,
          7800000,
          199888,
          5950000,
          315000,
          899000,
          2050000,
          615000,
          385000,
          209000,
          259000,
          695000,
          1980000,
          1595000,
          919000,
          285000,
          499000,
          359000,
          771770,
          3550000,
          9750000,
          4395000,
          695000,
          1398000,
          645000,
          859000,
          19500000,
          1250000,
          449000,
          7990000,
          3950000,
          1399000,
          7750000,
          1049000,
          995000,
          3195000,
          360000,
          750000,
          18000000,
          300000,
          675888,
          4400000,
          215000,
          250000,
          2749000,
          860000,
          1195000,
          825000,
          295000,
          999000,
          599000,
          1169900,
          2795000,
          6250000,
          2099000,
          339000,
          255000,
          140000,
          240000,
          1195000,
          699000,
          4150000,
          1398000,
          299000,
          500000,
          450888,
          298000,
          230000,
          748000,
          15500000,
          6850000,
          735000,
          229999,
          100000,
          385000,
          458000,
          3750000,
          3100000,
          595000,
          470000,
          399999,
          599000,
          18950000,
          2300000,
          420000,
          1459000,
          1150000,
          299000,
          499000,
          510000,
          825000,
          1150000,
          6895000,
          165000,
          874900,
          1499999,
          495000,
          245000,
          565000,
          1950000,
          699000,
          1200000,
          1425000,
          1595000,
          1495000,
          2375000,
          399000,
          4895000,
          12500000,
          475000,
          11175000,
          1295000,
          825000,
          1849000,
          699000,
          420000,
          320000,
          525000,
          1100000,
          650000,
          1650000,
          1425000,
          418000,
          1399000,
          339000,
          599900,
          400000,
          699000,
          1325000,
          1750000,
          2100000,
          205900,
          265000,
          169999,
          775000,
          685000,
          1245000,
          795000,
          445000,
          399000,
          1990000,
          529000,
          7500000,
          595000,
          525000,
          479000,
          4995000,
          460000,
          1200000,
          5950000,
          599000,
          350000,
          420000,
          2400000,
          2199000,
          595000,
          249000,
          11000000,
          585000,
          1180000,
          115000,
          779000,
          9975000,
          925000,
          360000,
          2750000,
          1450000,
          3400000,
          329000,
          699000,
          1075000,
          790000,
          7750000,
          19995000,
          3375000,
          1175000,
          3150000,
          15000000,
          3150000,
          825000,
          899000,
          795000,
          275000,
          775000,
          2150000,
          899000,
          699000,
          904000,
          669000,
          279000,
          330000,
          399000,
          740000,
          590000,
          1250000,
          975000,
          849000,
          1699000,
          1195000,
          190000,
          405000,
          169500,
          738280,
          950000,
          800000,
          359000,
          1950000,
          999000,
          1950000,
          649000,
          1175000,
          799000,
          2950000,
          358000,
          189999,
          760000,
          675999,
          380000,
          995000,
          649000,
          475000,
          450000,
          7250000,
          1500000,
          3995000,
          2299000,
          210000,
          3200000,
          579000,
          648888,
          989000,
          995000,
          154900,
          399000,
          589000,
          565000,
          760000,
          3795000,
          199999,
          2500000,
          749999,
          1595000,
          258000,
          685000,
          599000,
          3250000,
          245000,
          729000,
          779000,
          1090000,
          365000,
          1099000,
          12495000,
          1990000,
          1200000,
          473000,
          2348000,
          25000000,
          995000,
          850000,
          2950000,
          133000,
          1548000,
          468000,
          850000,
          1850000,
          4995000,
          398800,
          142500,
          2570000,
          225000,
          345000,
          875000,
          1188000,
          694000,
          649000,
          659000,
          429000,
          959000,
          368000,
          758800,
          1795000,
          21500000,
          1595000,
          6500000,
          1089000,
          735000,
          559900,
          350000,
          780000,
          173000,
          995000,
          775000,
          1649000,
          1290000,
          575000,
          1499000,
          800000,
          750000,
          1750000,
          2750000,
          698000,
          425000,
          26000000,
          3999999,
          2295000,
          689900,
          3850000,
          243000,
          1995000,
          250000,
          845000,
          915000,
          599888,
          325000,
          999000,
          688000,
          950000,
          249000,
          465000,
          2499000,
          409000,
          630000,
          874000,
          4995000,
          875000,
          975000,
          475000,
          975000,
          1548000,
          175000,
          3000000,
          2400000,
          14995000,
          988000,
          299999,
          120000,
          1995000,
          1300000,
          1400000,
          1080000,
          670000,
          1499000,
          1200000,
          3299000,
          2500000,
          799000,
          715000,
          925000,
          750000,
          2795000,
          1560000,
          4650000,
          1100000,
          780000,
          1199000,
          2850000,
          680000,
          530000,
          595000,
          475000,
          900000,
          1049000,
          995000,
          245000,
          695000,
          436000,
          555000,
          4950000,
          928000,
          725000,
          938000,
          199000,
          854000,
          1439000,
          389000,
          475000,
          815000,
          474000,
          2350000,
          1325000,
          6600000,
          590000,
          610000,
          1238000,
          789000,
          699888,
          1299000,
          632000,
          499000,
          895000,
          800000,
          725000,
          349500,
          625000,
          1090000,
          1348000,
          2975000,
          280000,
          259000,
          550000,
          12495000,
          4800000,
          398000,
          385000,
          1325000,
          968000,
          350000,
          2750000,
          498000,
          1675000,
          525000,
          280000,
          849000,
          1250000,
          359999,
          1002500,
          3995000,
          1499000,
          2649000,
          385000,
          695000,
          1799000,
          585000,
          1688000,
          179000,
          2100000,
          615000,
          323000,
          880000,
          675000,
          1500000,
          425000,
          2175000,
          1296000,
          3395000,
          450000,
          649000,
          1295000,
          1775000,
          265000,
          3595000,
          769000,
          1350000,
          797777,
          4650000,
          680000,
          549000,
          13650000,
          749000,
          398000,
          680000,
          499000,
          2250000,
          550000,
          4995000,
          2650000,
          7188000,
          999000,
          799000,
          699000,
          940000,
          3460000,
          1395000,
          629000,
          2850000,
          2995000,
          2750000,
          1100000,
          1395000,
          599000,
          1049000,
          4250000,
          925000,
          1695000,
          599000,
          1250000,
          610000,
          2299000,
          1350000,
          2395000,
          1080000,
          450000,
          2250000,
          588888,
          279000,
          1199000,
          1390000,
          1150000,
          6350000,
          650000,
          599999,
          395000,
          299000,
          549000,
          1350000,
          499000,
          1351242,
          249000,
          479000,
          1899000,
          275000,
          2150000,
          1999000,
          1588000,
          3200000,
          1999000,
          1745000,
          1488000,
          1494000,
          1108900,
          3200000,
          650000,
          1250000,
          749000,
          235000,
          399000,
          2465000,
          1200000,
          439000,
          975000,
          1499000,
          2550000,
          3200000,
          1999999,
          460000,
          1395000,
          290000,
          1990000,
          2980000,
          3498000,
          2595000,
          599889,
          3995000,
          589000,
          1139000,
          4500000,
          2695000,
          125000,
          625000,
          775000,
          635000,
          2375000,
          545000,
          599000,
          538000,
          342990,
          1500000,
          939000,
          3150000,
          1750000,
          360000,
          720000,
          1199999,
          710000,
          200000,
          699000,
          559000,
          1050000,
          2649000,
          614000,
          925000,
          800000,
          559000,
          999999,
          269000,
          838000,
          220000,
          729000,
          2045000,
          749000,
          399000,
          3695000,
          680000,
          1599999,
          495000,
          314000,
          165000,
          950000,
          975000,
          449000,
          2995000,
          325000,
          1599000,
          649000,
          1850000,
          1395000,
          1080000,
          309000,
          1499000,
          179000,
          595000,
          849000,
          759000,
          549999,
          1750000,
          4995000,
          725000,
          245000,
          1500000,
          695000,
          15500000,
          1995000,
          655000,
          1799000,
          3250000,
          750000,
          1495000,
          658000,
          395000,
          1999000,
          3950000,
          4395000,
          368888,
          285000,
          1290000,
          11250000,
          458000,
          438000,
          949900,
          599000,
          7500000,
          289000,
          635000,
          1680000,
          1075000,
          580000,
          838000,
          8575000,
          2500000,
          200000,
          2595000,
          619000,
          1200000,
          8250000,
          1150000,
          375000,
          2488000,
          625000,
          1510000,
          4500000,
          935000,
          604200,
          375000,
          339000,
          1149000,
          5200000,
          950000,
          329000,
          279000,
          2495000,
          19995000,
          595000,
          850000,
          849990,
          799000,
          550000,
          3200000,
          639000,
          2199999,
          950000,
          1099500,
          2495000,
          1500000,
          720000,
          4780000,
          760000,
          2350000,
          339999,
          220000,
          499000,
          445000,
          299000,
          4075000,
          580000,
          299900,
          995000,
          825000,
          1525000,
          222888,
          1995000,
          217000,
          468000,
          1739888,
          650000,
          1690000,
          2100000,
          7450000,
          295000,
          450000,
          995000,
          629000,
          235000,
          485000,
          1588000,
          2695000,
          585000,
          1598000,
          848880,
          268000,
          3700000,
          1125000,
          329000,
          799000,
          1380000,
          990000,
          2395000,
          600000,
          745000,
          8525000,
          1229000,
          799000,
          625000,
          1225000,
          299000,
          240000,
          165000,
          1285000,
          765000,
          309000,
          1250000,
          2099000,
          560000,
          3795000,
          269500,
          3275000,
          3795000,
          4150000,
          285000,
          649999,
          780000,
          1075000,
          345000,
          365000,
          750000,
          1850000,
          1288000,
          5250000,
          769000,
          925000,
          500000,
          625000,
          1375000,
          1273000,
          15000000,
          499000,
          3585000,
          749999,
          499000,
          595000,
          5000000,
          1495000,
          2995000,
          469900,
          1995000,
          159999,
          758000,
          599999,
          749000,
          2100000,
          32000000,
          620000,
          849000,
          3250000,
          338000,
          3400000,
          1575000,
          259000,
          2300000,
          975000,
          879000,
          950000,
          749999,
          639000,
          2300000,
          289000,
          1698888,
          1180000,
          6750000,
          499000,
          799000,
          600000,
          699000,
          1578000,
          849000,
          4275000,
          1550000,
          489000,
          6700000,
          319000,
          10750000,
          520000,
          715000,
          689000,
          885000,
          899000,
          1250000,
          580000,
          1825000,
          249000,
          1175000,
          232000,
          1100000,
          1695000,
          300000,
          4999000,
          849999,
          1695000,
          3900000,
          669000,
          350000,
          489000,
          2800000,
          949000,
          459000,
          899000,
          13650000,
          21000000,
          15900000,
          4995000,
          2250000,
          989000,
          309999,
          4880000,
          600000,
          5400000,
          265000,
          240000,
          1790000,
          225000,
          1299000,
          1625000,
          420000,
          385000,
          2720000,
          1396000,
          1195000,
          620000,
          300000,
          539000,
          599000,
          5200000,
          5600000,
          700000,
          469000,
          1950000,
          729888,
          2225000,
          890000,
          949000,
          650000,
          16500000,
          579999,
          1499000,
          535000,
          1250000,
          1388000,
          845000,
          550000,
          2599000,
          498000,
          840000,
          2800000,
          699000,
          225000,
          4995000,
          2800000,
          4100000,
          725000,
          349999,
          280000,
          595000,
          3200000,
          15990000,
          2350000,
          369000,
          705000,
          599999,
          488888,
          600000,
          1300000,
          925000,
          1675000,
          499998,
          1395000,
          1450000,
          1488000,
          439000,
          674999,
          3950000,
          329000,
          685000,
          589000,
          599000,
          1325000,
          2495000,
          1299999,
          1050000,
          799000,
          31500000,
          399000,
          399000,
          1095000,
          14950000,
          1195000,
          300000,
          565000,
          649000,
          815000,
          1250000,
          3900000,
          795000,
          970000,
          478000,
          999000,
          2499000,
          460000,
          669000,
          6900000,
          499000,
          1250000,
          1000000,
          534900,
          1175000,
          865000,
          1249000,
          1500000,
          10750000,
          495000,
          249000,
          319000,
          338000,
          1095000,
          625000,
          1650000,
          1575000,
          459000,
          6300000,
          375000,
          749000,
          410000,
          8100000,
          399000,
          549000,
          625000,
          700000,
          495000,
          1399995,
          375000,
          270000,
          389990,
          1700000,
          700000,
          2695000,
          499000,
          375000,
          8950000,
          559000,
          3995000,
          695000,
          715000,
          929888,
          948000,
          999000,
          1025000,
          167999,
          250000,
          1345000,
          634999,
          1675000,
          410000,
          3550000,
          900000,
          5500000,
          600000,
          2599000,
          288000,
          2750000,
          750000,
          2150000,
          3995000,
          1398000,
          849000,
          995000,
          899000,
          519000,
          659000,
          15000000,
          1080000,
          599000,
          1195000,
          1059000,
          1200000,
          24500000,
          490000,
          580000,
          465000,
          499500,
          225000,
          7995000,
          529000,
          378023,
          309000,
          295500,
          21000000,
          749000,
          1125000,
          795000,
          872500,
          654250,
          749000,
          699000,
          1350000,
          460000,
          10500000,
          829999,
          1950000,
          740000,
          518000,
          1175000,
          275000,
          2500000,
          2000000,
          975000,
          279000,
          1058000,
          189000,
          3450000,
          550000,
          1499000,
          1299999,
          219000,
          2600000,
          825900,
          370000,
          569000,
          890000,
          555000,
          799000,
          799000,
          2500000,
          799000,
          349000,
          1299999,
          499000,
          4750000,
          285000,
          789000,
          370000,
          1700000,
          1950000,
          945000,
          599000,
          245000,
          1275000,
          598125,
          349000
         ],
         "y0": " ",
         "yaxis": "y"
        }
       ],
       "layout": {
        "boxmode": "group",
        "legend": {
         "tracegroupgap": 0
        },
        "template": {
         "data": {
          "bar": [
           {
            "error_x": {
             "color": "#2a3f5f"
            },
            "error_y": {
             "color": "#2a3f5f"
            },
            "marker": {
             "line": {
              "color": "#E5ECF6",
              "width": 0.5
             },
             "pattern": {
              "fillmode": "overlay",
              "size": 10,
              "solidity": 0.2
             }
            },
            "type": "bar"
           }
          ],
          "barpolar": [
           {
            "marker": {
             "line": {
              "color": "#E5ECF6",
              "width": 0.5
             },
             "pattern": {
              "fillmode": "overlay",
              "size": 10,
              "solidity": 0.2
             }
            },
            "type": "barpolar"
           }
          ],
          "carpet": [
           {
            "aaxis": {
             "endlinecolor": "#2a3f5f",
             "gridcolor": "white",
             "linecolor": "white",
             "minorgridcolor": "white",
             "startlinecolor": "#2a3f5f"
            },
            "baxis": {
             "endlinecolor": "#2a3f5f",
             "gridcolor": "white",
             "linecolor": "white",
             "minorgridcolor": "white",
             "startlinecolor": "#2a3f5f"
            },
            "type": "carpet"
           }
          ],
          "choropleth": [
           {
            "colorbar": {
             "outlinewidth": 0,
             "ticks": ""
            },
            "type": "choropleth"
           }
          ],
          "contour": [
           {
            "colorbar": {
             "outlinewidth": 0,
             "ticks": ""
            },
            "colorscale": [
             [
              0,
              "#0d0887"
             ],
             [
              0.1111111111111111,
              "#46039f"
             ],
             [
              0.2222222222222222,
              "#7201a8"
             ],
             [
              0.3333333333333333,
              "#9c179e"
             ],
             [
              0.4444444444444444,
              "#bd3786"
             ],
             [
              0.5555555555555556,
              "#d8576b"
             ],
             [
              0.6666666666666666,
              "#ed7953"
             ],
             [
              0.7777777777777778,
              "#fb9f3a"
             ],
             [
              0.8888888888888888,
              "#fdca26"
             ],
             [
              1,
              "#f0f921"
             ]
            ],
            "type": "contour"
           }
          ],
          "contourcarpet": [
           {
            "colorbar": {
             "outlinewidth": 0,
             "ticks": ""
            },
            "type": "contourcarpet"
           }
          ],
          "heatmap": [
           {
            "colorbar": {
             "outlinewidth": 0,
             "ticks": ""
            },
            "colorscale": [
             [
              0,
              "#0d0887"
             ],
             [
              0.1111111111111111,
              "#46039f"
             ],
             [
              0.2222222222222222,
              "#7201a8"
             ],
             [
              0.3333333333333333,
              "#9c179e"
             ],
             [
              0.4444444444444444,
              "#bd3786"
             ],
             [
              0.5555555555555556,
              "#d8576b"
             ],
             [
              0.6666666666666666,
              "#ed7953"
             ],
             [
              0.7777777777777778,
              "#fb9f3a"
             ],
             [
              0.8888888888888888,
              "#fdca26"
             ],
             [
              1,
              "#f0f921"
             ]
            ],
            "type": "heatmap"
           }
          ],
          "heatmapgl": [
           {
            "colorbar": {
             "outlinewidth": 0,
             "ticks": ""
            },
            "colorscale": [
             [
              0,
              "#0d0887"
             ],
             [
              0.1111111111111111,
              "#46039f"
             ],
             [
              0.2222222222222222,
              "#7201a8"
             ],
             [
              0.3333333333333333,
              "#9c179e"
             ],
             [
              0.4444444444444444,
              "#bd3786"
             ],
             [
              0.5555555555555556,
              "#d8576b"
             ],
             [
              0.6666666666666666,
              "#ed7953"
             ],
             [
              0.7777777777777778,
              "#fb9f3a"
             ],
             [
              0.8888888888888888,
              "#fdca26"
             ],
             [
              1,
              "#f0f921"
             ]
            ],
            "type": "heatmapgl"
           }
          ],
          "histogram": [
           {
            "marker": {
             "pattern": {
              "fillmode": "overlay",
              "size": 10,
              "solidity": 0.2
             }
            },
            "type": "histogram"
           }
          ],
          "histogram2d": [
           {
            "colorbar": {
             "outlinewidth": 0,
             "ticks": ""
            },
            "colorscale": [
             [
              0,
              "#0d0887"
             ],
             [
              0.1111111111111111,
              "#46039f"
             ],
             [
              0.2222222222222222,
              "#7201a8"
             ],
             [
              0.3333333333333333,
              "#9c179e"
             ],
             [
              0.4444444444444444,
              "#bd3786"
             ],
             [
              0.5555555555555556,
              "#d8576b"
             ],
             [
              0.6666666666666666,
              "#ed7953"
             ],
             [
              0.7777777777777778,
              "#fb9f3a"
             ],
             [
              0.8888888888888888,
              "#fdca26"
             ],
             [
              1,
              "#f0f921"
             ]
            ],
            "type": "histogram2d"
           }
          ],
          "histogram2dcontour": [
           {
            "colorbar": {
             "outlinewidth": 0,
             "ticks": ""
            },
            "colorscale": [
             [
              0,
              "#0d0887"
             ],
             [
              0.1111111111111111,
              "#46039f"
             ],
             [
              0.2222222222222222,
              "#7201a8"
             ],
             [
              0.3333333333333333,
              "#9c179e"
             ],
             [
              0.4444444444444444,
              "#bd3786"
             ],
             [
              0.5555555555555556,
              "#d8576b"
             ],
             [
              0.6666666666666666,
              "#ed7953"
             ],
             [
              0.7777777777777778,
              "#fb9f3a"
             ],
             [
              0.8888888888888888,
              "#fdca26"
             ],
             [
              1,
              "#f0f921"
             ]
            ],
            "type": "histogram2dcontour"
           }
          ],
          "mesh3d": [
           {
            "colorbar": {
             "outlinewidth": 0,
             "ticks": ""
            },
            "type": "mesh3d"
           }
          ],
          "parcoords": [
           {
            "line": {
             "colorbar": {
              "outlinewidth": 0,
              "ticks": ""
             }
            },
            "type": "parcoords"
           }
          ],
          "pie": [
           {
            "automargin": true,
            "type": "pie"
           }
          ],
          "scatter": [
           {
            "fillpattern": {
             "fillmode": "overlay",
             "size": 10,
             "solidity": 0.2
            },
            "type": "scatter"
           }
          ],
          "scatter3d": [
           {
            "line": {
             "colorbar": {
              "outlinewidth": 0,
              "ticks": ""
             }
            },
            "marker": {
             "colorbar": {
              "outlinewidth": 0,
              "ticks": ""
             }
            },
            "type": "scatter3d"
           }
          ],
          "scattercarpet": [
           {
            "marker": {
             "colorbar": {
              "outlinewidth": 0,
              "ticks": ""
             }
            },
            "type": "scattercarpet"
           }
          ],
          "scattergeo": [
           {
            "marker": {
             "colorbar": {
              "outlinewidth": 0,
              "ticks": ""
             }
            },
            "type": "scattergeo"
           }
          ],
          "scattergl": [
           {
            "marker": {
             "colorbar": {
              "outlinewidth": 0,
              "ticks": ""
             }
            },
            "type": "scattergl"
           }
          ],
          "scattermapbox": [
           {
            "marker": {
             "colorbar": {
              "outlinewidth": 0,
              "ticks": ""
             }
            },
            "type": "scattermapbox"
           }
          ],
          "scatterpolar": [
           {
            "marker": {
             "colorbar": {
              "outlinewidth": 0,
              "ticks": ""
             }
            },
            "type": "scatterpolar"
           }
          ],
          "scatterpolargl": [
           {
            "marker": {
             "colorbar": {
              "outlinewidth": 0,
              "ticks": ""
             }
            },
            "type": "scatterpolargl"
           }
          ],
          "scatterternary": [
           {
            "marker": {
             "colorbar": {
              "outlinewidth": 0,
              "ticks": ""
             }
            },
            "type": "scatterternary"
           }
          ],
          "surface": [
           {
            "colorbar": {
             "outlinewidth": 0,
             "ticks": ""
            },
            "colorscale": [
             [
              0,
              "#0d0887"
             ],
             [
              0.1111111111111111,
              "#46039f"
             ],
             [
              0.2222222222222222,
              "#7201a8"
             ],
             [
              0.3333333333333333,
              "#9c179e"
             ],
             [
              0.4444444444444444,
              "#bd3786"
             ],
             [
              0.5555555555555556,
              "#d8576b"
             ],
             [
              0.6666666666666666,
              "#ed7953"
             ],
             [
              0.7777777777777778,
              "#fb9f3a"
             ],
             [
              0.8888888888888888,
              "#fdca26"
             ],
             [
              1,
              "#f0f921"
             ]
            ],
            "type": "surface"
           }
          ],
          "table": [
           {
            "cells": {
             "fill": {
              "color": "#EBF0F8"
             },
             "line": {
              "color": "white"
             }
            },
            "header": {
             "fill": {
              "color": "#C8D4E3"
             },
             "line": {
              "color": "white"
             }
            },
            "type": "table"
           }
          ]
         },
         "layout": {
          "annotationdefaults": {
           "arrowcolor": "#2a3f5f",
           "arrowhead": 0,
           "arrowwidth": 1
          },
          "autotypenumbers": "strict",
          "coloraxis": {
           "colorbar": {
            "outlinewidth": 0,
            "ticks": ""
           }
          },
          "colorscale": {
           "diverging": [
            [
             0,
             "#8e0152"
            ],
            [
             0.1,
             "#c51b7d"
            ],
            [
             0.2,
             "#de77ae"
            ],
            [
             0.3,
             "#f1b6da"
            ],
            [
             0.4,
             "#fde0ef"
            ],
            [
             0.5,
             "#f7f7f7"
            ],
            [
             0.6,
             "#e6f5d0"
            ],
            [
             0.7,
             "#b8e186"
            ],
            [
             0.8,
             "#7fbc41"
            ],
            [
             0.9,
             "#4d9221"
            ],
            [
             1,
             "#276419"
            ]
           ],
           "sequential": [
            [
             0,
             "#0d0887"
            ],
            [
             0.1111111111111111,
             "#46039f"
            ],
            [
             0.2222222222222222,
             "#7201a8"
            ],
            [
             0.3333333333333333,
             "#9c179e"
            ],
            [
             0.4444444444444444,
             "#bd3786"
            ],
            [
             0.5555555555555556,
             "#d8576b"
            ],
            [
             0.6666666666666666,
             "#ed7953"
            ],
            [
             0.7777777777777778,
             "#fb9f3a"
            ],
            [
             0.8888888888888888,
             "#fdca26"
            ],
            [
             1,
             "#f0f921"
            ]
           ],
           "sequentialminus": [
            [
             0,
             "#0d0887"
            ],
            [
             0.1111111111111111,
             "#46039f"
            ],
            [
             0.2222222222222222,
             "#7201a8"
            ],
            [
             0.3333333333333333,
             "#9c179e"
            ],
            [
             0.4444444444444444,
             "#bd3786"
            ],
            [
             0.5555555555555556,
             "#d8576b"
            ],
            [
             0.6666666666666666,
             "#ed7953"
            ],
            [
             0.7777777777777778,
             "#fb9f3a"
            ],
            [
             0.8888888888888888,
             "#fdca26"
            ],
            [
             1,
             "#f0f921"
            ]
           ]
          },
          "colorway": [
           "#636efa",
           "#EF553B",
           "#00cc96",
           "#ab63fa",
           "#FFA15A",
           "#19d3f3",
           "#FF6692",
           "#B6E880",
           "#FF97FF",
           "#FECB52"
          ],
          "font": {
           "color": "#2a3f5f"
          },
          "geo": {
           "bgcolor": "white",
           "lakecolor": "white",
           "landcolor": "#E5ECF6",
           "showlakes": true,
           "showland": true,
           "subunitcolor": "white"
          },
          "hoverlabel": {
           "align": "left"
          },
          "hovermode": "closest",
          "mapbox": {
           "style": "light"
          },
          "paper_bgcolor": "white",
          "plot_bgcolor": "#E5ECF6",
          "polar": {
           "angularaxis": {
            "gridcolor": "white",
            "linecolor": "white",
            "ticks": ""
           },
           "bgcolor": "#E5ECF6",
           "radialaxis": {
            "gridcolor": "white",
            "linecolor": "white",
            "ticks": ""
           }
          },
          "scene": {
           "xaxis": {
            "backgroundcolor": "#E5ECF6",
            "gridcolor": "white",
            "gridwidth": 2,
            "linecolor": "white",
            "showbackground": true,
            "ticks": "",
            "zerolinecolor": "white"
           },
           "yaxis": {
            "backgroundcolor": "#E5ECF6",
            "gridcolor": "white",
            "gridwidth": 2,
            "linecolor": "white",
            "showbackground": true,
            "ticks": "",
            "zerolinecolor": "white"
           },
           "zaxis": {
            "backgroundcolor": "#E5ECF6",
            "gridcolor": "white",
            "gridwidth": 2,
            "linecolor": "white",
            "showbackground": true,
            "ticks": "",
            "zerolinecolor": "white"
           }
          },
          "shapedefaults": {
           "line": {
            "color": "#2a3f5f"
           }
          },
          "ternary": {
           "aaxis": {
            "gridcolor": "white",
            "linecolor": "white",
            "ticks": ""
           },
           "baxis": {
            "gridcolor": "white",
            "linecolor": "white",
            "ticks": ""
           },
           "bgcolor": "#E5ECF6",
           "caxis": {
            "gridcolor": "white",
            "linecolor": "white",
            "ticks": ""
           }
          },
          "title": {
           "x": 0.05
          },
          "xaxis": {
           "automargin": true,
           "gridcolor": "white",
           "linecolor": "white",
           "ticks": "",
           "title": {
            "standoff": 15
           },
           "zerolinecolor": "white",
           "zerolinewidth": 2
          },
          "yaxis": {
           "automargin": true,
           "gridcolor": "white",
           "linecolor": "white",
           "ticks": "",
           "title": {
            "standoff": 15
           },
           "zerolinecolor": "white",
           "zerolinewidth": 2
          }
         }
        },
        "title": {
         "text": "Boxplot of House Price"
        },
        "xaxis": {
         "anchor": "y",
         "domain": [
          0,
          1
         ],
         "title": {
          "text": "Price"
         }
        },
        "yaxis": {
         "anchor": "x",
         "domain": [
          0,
          1
         ],
         "title": {
          "text": "House Price"
         }
        }
       }
      }
     },
     "metadata": {},
     "output_type": "display_data"
    }
   ],
   "source": [
    "import plotly.express as px\n",
    "\n",
    "fig = px.box(df, y='PRICE', title='Boxplot of House Price')\n",
    "fig.update_layout(xaxis_title='Price', yaxis_title='House Price')\n",
    "fig.show()\n"
   ]
  },
  {
   "cell_type": "code",
   "execution_count": 346,
   "metadata": {},
   "outputs": [
    {
     "data": {
      "image/png": "[encoded data removed]",
      "text/plain": [
       "<Figure size 1000x600 with 1 Axes>"
      ]
     },
     "metadata": {
      "image/png": {
       "height": 600,
       "width": 1000
      }
     },
     "output_type": "display_data"
    }
   ],
   "source": [
    "# indenfiying the outliers\n",
    "plt.figure(figsize=(10,6))\n",
    "sns.boxplot(x=df['PRICE'])\n",
    "plt.title(\"Boxplot of House Price\")\n",
    "plt.xlabel(\"Price\")\n",
    "plt.xscale('log')  # using log scale due to wide range of prices\n",
    "plt.xlabel(\"Price\")\n",
    "plt.show()\n",
    "\n",
    "#explaining the the boxplot\n",
    "#The boxplot shows that there are many outliers in the price variable.\n",
    "#The outliers are the houses with very high prices.\n",
    "#The median price is around 400,000 dollars.\n",
    "#The boxplot also shows that there are some houses with very low prices.\n",
    "\n",
    "\n"
   ]
  },
  {
   "cell_type": "code",
   "execution_count": 347,
   "metadata": {},
   "outputs": [
    {
     "data": {
      "text/plain": [
       "(4391, 7)"
      ]
     },
     "execution_count": 347,
     "metadata": {},
     "output_type": "execute_result"
    }
   ],
   "source": [
    "#removing the outliers\n",
    "#removing the top 1% of the data\n",
    "q = df['PRICE'].quantile(0.99)\n",
    "df = df[df['PRICE']<q]\n",
    "df.shape"
   ]
  },
  {
   "cell_type": "code",
   "execution_count": 348,
   "metadata": {},
   "outputs": [
    {
     "data": {
      "image/png": "[encoded data removed]",
      "text/plain": [
       "<Figure size 640x480 with 1 Axes>"
      ]
     },
     "metadata": {
      "image/png": {
       "height": 480,
       "width": 640
      },
      "needs_background": "light"
     },
     "output_type": "display_data"
    },
    {
     "data": {
      "text/plain": [
       "<Figure Size: (640 x 480)>"
      ]
     },
     "execution_count": 348,
     "metadata": {},
     "output_type": "execute_result"
    }
   ],
   "source": [
    "from plotnine import ggplot, aes, geom_point, labs, scale_x_log10, scale_y_log10, theme_minimal\n",
    "#Property size analysis\n",
    "#Exploring the relationship between the price and the size of the property\n",
    "(ggplot(df) +\n",
    " aes(x='PROPERTYSQFT', y='PRICE') +\n",
    " geom_point() +\n",
    " labs(title='Price vs Property Size', x='Property Size', y='Price') +\n",
    " scale_x_log10() +\n",
    " scale_y_log10() +\n",
    " theme_minimal()\n",
    ")\n",
    "\n",
    "#explaining the analysis\n",
    "#The scatter plot shows that there is a positive correlation between the price and the size of the property.\n",
    "#The scatter plot also shows that there are some outliers in the data.\n",
    "#The outliers are the houses with very high prices and very large sizes.\n",
    "#The scatter plot also shows that there are some houses with very low prices and very small sizes.\n",
    "#The scattter plot is not linear. This means that the relationship between the price and the size of the property is not linear.\n",
    "\n",
    "\n",
    "\n",
    "#explaining the correlation\n",
    "#The correlation between the price and the size of the property is 0.44.\n",
    "#This shows that there is a positive correlation between the price and the size of the property.\n",
    "#This means that as the size of the property increases, the price also increases.\n",
    "#However, the correlation is not very strong.\n",
    "#This means that the size of the property is not a very good predictor of the price.\n",
    "# This means that the price of the property could be influenced by other factors as well.\n",
    "\n",
    "\n",
    "\n"
   ]
  },
  {
   "cell_type": "code",
   "execution_count": 349,
   "metadata": {},
   "outputs": [
    {
     "data": {
      "text/plain": [
       "0.4392901163162851"
      ]
     },
     "execution_count": 349,
     "metadata": {},
     "output_type": "execute_result"
    }
   ],
   "source": [
    "#calculating the correlation between the price and the size of the property\n",
    "correlation =df['PRICE'].corr(df['PROPERTYSQFT'])\n",
    "correlation\n"
   ]
  },
  {
   "cell_type": "code",
   "execution_count": 350,
   "metadata": {},
   "outputs": [
    {
     "data": {
      "image/png": "[encoded data removed]",
      "text/plain": [
       "<Figure size 640x480 with 1 Axes>"
      ]
     },
     "metadata": {
      "image/png": {
       "height": 480,
       "width": 640
      },
      "needs_background": "light"
     },
     "output_type": "display_data"
    },
    {
     "data": {
      "text/plain": [
       "<Figure Size: (640 x 480)>"
      ]
     },
     "execution_count": 350,
     "metadata": {},
     "output_type": "execute_result"
    }
   ],
   "source": [
    "from plotnine import ggplot, aes, geom_bar, labs, scale_y_log10, theme_minimal\n",
    "#Location based analysis\n",
    "# Investigating geographical patterns in property prices\n",
    "#Grouping properties by locatity and calculating average prices\n",
    "\n",
    "df.groupby('LOCALITY')['PRICE'].mean().sort_values(ascending=False)\n",
    "\n",
    "#plotting the top 10 localities by average price\n",
    "\n",
    "top_localities = df.groupby('LOCALITY')['PRICE'].mean().sort_values(ascending=False).head(10).reset_index()\n",
    "\n",
    "(ggplot(top_localities) +\n",
    " aes(x='LOCALITY', y='PRICE') +\n",
    " geom_bar(stat='identity', fill='steelblue', color='black') +\n",
    " labs(title='Top 10 Localities by Average Price', x='Locality', y='Average Price') +\n",
    " scale_y_log10() +\n",
    " theme_minimal()\n",
    ")\n",
    "\n"
   ]
  },
  {
   "cell_type": "code",
   "execution_count": 351,
   "metadata": {},
   "outputs": [
    {
     "data": {
      "image/png": "[encoded data removed]",
      "text/plain": [
       "<Figure size 1000x600 with 1 Axes>"
      ]
     },
     "metadata": {
      "image/png": {
       "height": 600,
       "width": 1000
      }
     },
     "output_type": "display_data"
    }
   ],
   "source": [
    "#plotting the average price by number of bedrooms\n",
    "\n",
    "plt.figure(figsize=(10,6))\n",
    "df.groupby('BEDS')['PRICE'].mean().plot(kind='bar')\n",
    "plt.title(\"Average Price by Number of Bedrooms\")\n",
    "plt.xlabel(\"Number of Bedrooms\")\n",
    "plt.ylabel(\"Average Price\")\n",
    "plt.xticks(rotation=0) \n",
    "plt.show()\n",
    "\n",
    "\n",
    "\n",
    "\n",
    "\n"
   ]
  },
  {
   "cell_type": "code",
   "execution_count": 352,
   "metadata": {},
   "outputs": [
    {
     "data": {
      "image/png": "[encoded data removed]",
      "text/plain": [
       "<Figure size 640x480 with 1 Axes>"
      ]
     },
     "metadata": {
      "image/png": {
       "height": 480,
       "width": 640
      },
      "needs_background": "light"
     },
     "output_type": "display_data"
    },
    {
     "data": {
      "text/plain": [
       "<Figure Size: (640 x 480)>"
      ]
     },
     "execution_count": 352,
     "metadata": {},
     "output_type": "execute_result"
    }
   ],
   "source": [
    "import numpy as np\n",
    "\n",
    "(ggplot(df) +\n",
    " aes(x='BEDS', y='PRICE') +\n",
    " geom_bar(stat='summary', fun_y=np.mean, fill='steelblue', color='black') +\n",
    " labs(title='Average Price by Number of Bedrooms', x='Number of Bedrooms', y='Average Price') +\n",
    " theme_minimal()\n",
    ")\n"
   ]
  },
  {
   "cell_type": "markdown",
   "metadata": {},
   "source": [
    "Average House Prices by Number of Bedrooms:\n",
    "\n",
    "The bar chart illustrates a general upward trend in average prices with an increase in the number of bedrooms. This indicates that properties with more bedrooms tend to be priced higher.\n",
    "However, there is some fluctuation in this trend, particularly for properties with a very high number of bedrooms."
   ]
  },
  {
   "cell_type": "code",
   "execution_count": 353,
   "metadata": {},
   "outputs": [
    {
     "data": {
      "application/vnd.plotly.v1+json": {
       "config": {
        "plotlyServerURL": "https://plot.ly"
       },
       "data": [
        {
         "alignmentgroup": "True",
         "hovertemplate": "Number of Bathrooms=%{x}<br>Average Price=%{y}<extra></extra>",
         "legendgroup": "",
         "marker": {
          "color": "#636efa",
          "pattern": {
           "shape": ""
          }
         },
         "name": "",
         "offsetgroup": "",
         "orientation": "v",
         "showlegend": false,
         "textposition": "auto",
         "type": "bar",
         "x": [
          1,
          2,
          2.3738608579684373,
          3,
          4,
          5,
          6,
          7,
          8,
          9,
          10
         ],
         "xaxis": "x",
         "y": [
          473111.67133847234,
          1225677.0391414142,
          2585589.5884615383,
          1709748.7420091324,
          3391835.473333333,
          3047433.4725274723,
          5863214.714285715,
          6694600,
          6396250,
          7875000,
          8846543.111111112
         ],
         "yaxis": "y"
        }
       ],
       "layout": {
        "barmode": "relative",
        "legend": {
         "tracegroupgap": 0
        },
        "template": {
         "data": {
          "bar": [
           {
            "error_x": {
             "color": "#2a3f5f"
            },
            "error_y": {
             "color": "#2a3f5f"
            },
            "marker": {
             "line": {
              "color": "#E5ECF6",
              "width": 0.5
             },
             "pattern": {
              "fillmode": "overlay",
              "size": 10,
              "solidity": 0.2
             }
            },
            "type": "bar"
           }
          ],
          "barpolar": [
           {
            "marker": {
             "line": {
              "color": "#E5ECF6",
              "width": 0.5
             },
             "pattern": {
              "fillmode": "overlay",
              "size": 10,
              "solidity": 0.2
             }
            },
            "type": "barpolar"
           }
          ],
          "carpet": [
           {
            "aaxis": {
             "endlinecolor": "#2a3f5f",
             "gridcolor": "white",
             "linecolor": "white",
             "minorgridcolor": "white",
             "startlinecolor": "#2a3f5f"
            },
            "baxis": {
             "endlinecolor": "#2a3f5f",
             "gridcolor": "white",
             "linecolor": "white",
             "minorgridcolor": "white",
             "startlinecolor": "#2a3f5f"
            },
            "type": "carpet"
           }
          ],
          "choropleth": [
           {
            "colorbar": {
             "outlinewidth": 0,
             "ticks": ""
            },
            "type": "choropleth"
           }
          ],
          "contour": [
           {
            "colorbar": {
             "outlinewidth": 0,
             "ticks": ""
            },
            "colorscale": [
             [
              0,
              "#0d0887"
             ],
             [
              0.1111111111111111,
              "#46039f"
             ],
             [
              0.2222222222222222,
              "#7201a8"
             ],
             [
              0.3333333333333333,
              "#9c179e"
             ],
             [
              0.4444444444444444,
              "#bd3786"
             ],
             [
              0.5555555555555556,
              "#d8576b"
             ],
             [
              0.6666666666666666,
              "#ed7953"
             ],
             [
              0.7777777777777778,
              "#fb9f3a"
             ],
             [
              0.8888888888888888,
              "#fdca26"
             ],
             [
              1,
              "#f0f921"
             ]
            ],
            "type": "contour"
           }
          ],
          "contourcarpet": [
           {
            "colorbar": {
             "outlinewidth": 0,
             "ticks": ""
            },
            "type": "contourcarpet"
           }
          ],
          "heatmap": [
           {
            "colorbar": {
             "outlinewidth": 0,
             "ticks": ""
            },
            "colorscale": [
             [
              0,
              "#0d0887"
             ],
             [
              0.1111111111111111,
              "#46039f"
             ],
             [
              0.2222222222222222,
              "#7201a8"
             ],
             [
              0.3333333333333333,
              "#9c179e"
             ],
             [
              0.4444444444444444,
              "#bd3786"
             ],
             [
              0.5555555555555556,
              "#d8576b"
             ],
             [
              0.6666666666666666,
              "#ed7953"
             ],
             [
              0.7777777777777778,
              "#fb9f3a"
             ],
             [
              0.8888888888888888,
              "#fdca26"
             ],
             [
              1,
              "#f0f921"
             ]
            ],
            "type": "heatmap"
           }
          ],
          "heatmapgl": [
           {
            "colorbar": {
             "outlinewidth": 0,
             "ticks": ""
            },
            "colorscale": [
             [
              0,
              "#0d0887"
             ],
             [
              0.1111111111111111,
              "#46039f"
             ],
             [
              0.2222222222222222,
              "#7201a8"
             ],
             [
              0.3333333333333333,
              "#9c179e"
             ],
             [
              0.4444444444444444,
              "#bd3786"
             ],
             [
              0.5555555555555556,
              "#d8576b"
             ],
             [
              0.6666666666666666,
              "#ed7953"
             ],
             [
              0.7777777777777778,
              "#fb9f3a"
             ],
             [
              0.8888888888888888,
              "#fdca26"
             ],
             [
              1,
              "#f0f921"
             ]
            ],
            "type": "heatmapgl"
           }
          ],
          "histogram": [
           {
            "marker": {
             "pattern": {
              "fillmode": "overlay",
              "size": 10,
              "solidity": 0.2
             }
            },
            "type": "histogram"
           }
          ],
          "histogram2d": [
           {
            "colorbar": {
             "outlinewidth": 0,
             "ticks": ""
            },
            "colorscale": [
             [
              0,
              "#0d0887"
             ],
             [
              0.1111111111111111,
              "#46039f"
             ],
             [
              0.2222222222222222,
              "#7201a8"
             ],
             [
              0.3333333333333333,
              "#9c179e"
             ],
             [
              0.4444444444444444,
              "#bd3786"
             ],
             [
              0.5555555555555556,
              "#d8576b"
             ],
             [
              0.6666666666666666,
              "#ed7953"
             ],
             [
              0.7777777777777778,
              "#fb9f3a"
             ],
             [
              0.8888888888888888,
              "#fdca26"
             ],
             [
              1,
              "#f0f921"
             ]
            ],
            "type": "histogram2d"
           }
          ],
          "histogram2dcontour": [
           {
            "colorbar": {
             "outlinewidth": 0,
             "ticks": ""
            },
            "colorscale": [
             [
              0,
              "#0d0887"
             ],
             [
              0.1111111111111111,
              "#46039f"
             ],
             [
              0.2222222222222222,
              "#7201a8"
             ],
             [
              0.3333333333333333,
              "#9c179e"
             ],
             [
              0.4444444444444444,
              "#bd3786"
             ],
             [
              0.5555555555555556,
              "#d8576b"
             ],
             [
              0.6666666666666666,
              "#ed7953"
             ],
             [
              0.7777777777777778,
              "#fb9f3a"
             ],
             [
              0.8888888888888888,
              "#fdca26"
             ],
             [
              1,
              "#f0f921"
             ]
            ],
            "type": "histogram2dcontour"
           }
          ],
          "mesh3d": [
           {
            "colorbar": {
             "outlinewidth": 0,
             "ticks": ""
            },
            "type": "mesh3d"
           }
          ],
          "parcoords": [
           {
            "line": {
             "colorbar": {
              "outlinewidth": 0,
              "ticks": ""
             }
            },
            "type": "parcoords"
           }
          ],
          "pie": [
           {
            "automargin": true,
            "type": "pie"
           }
          ],
          "scatter": [
           {
            "fillpattern": {
             "fillmode": "overlay",
             "size": 10,
             "solidity": 0.2
            },
            "type": "scatter"
           }
          ],
          "scatter3d": [
           {
            "line": {
             "colorbar": {
              "outlinewidth": 0,
              "ticks": ""
             }
            },
            "marker": {
             "colorbar": {
              "outlinewidth": 0,
              "ticks": ""
             }
            },
            "type": "scatter3d"
           }
          ],
          "scattercarpet": [
           {
            "marker": {
             "colorbar": {
              "outlinewidth": 0,
              "ticks": ""
             }
            },
            "type": "scattercarpet"
           }
          ],
          "scattergeo": [
           {
            "marker": {
             "colorbar": {
              "outlinewidth": 0,
              "ticks": ""
             }
            },
            "type": "scattergeo"
           }
          ],
          "scattergl": [
           {
            "marker": {
             "colorbar": {
              "outlinewidth": 0,
              "ticks": ""
             }
            },
            "type": "scattergl"
           }
          ],
          "scattermapbox": [
           {
            "marker": {
             "colorbar": {
              "outlinewidth": 0,
              "ticks": ""
             }
            },
            "type": "scattermapbox"
           }
          ],
          "scatterpolar": [
           {
            "marker": {
             "colorbar": {
              "outlinewidth": 0,
              "ticks": ""
             }
            },
            "type": "scatterpolar"
           }
          ],
          "scatterpolargl": [
           {
            "marker": {
             "colorbar": {
              "outlinewidth": 0,
              "ticks": ""
             }
            },
            "type": "scatterpolargl"
           }
          ],
          "scatterternary": [
           {
            "marker": {
             "colorbar": {
              "outlinewidth": 0,
              "ticks": ""
             }
            },
            "type": "scatterternary"
           }
          ],
          "surface": [
           {
            "colorbar": {
             "outlinewidth": 0,
             "ticks": ""
            },
            "colorscale": [
             [
              0,
              "#0d0887"
             ],
             [
              0.1111111111111111,
              "#46039f"
             ],
             [
              0.2222222222222222,
              "#7201a8"
             ],
             [
              0.3333333333333333,
              "#9c179e"
             ],
             [
              0.4444444444444444,
              "#bd3786"
             ],
             [
              0.5555555555555556,
              "#d8576b"
             ],
             [
              0.6666666666666666,
              "#ed7953"
             ],
             [
              0.7777777777777778,
              "#fb9f3a"
             ],
             [
              0.8888888888888888,
              "#fdca26"
             ],
             [
              1,
              "#f0f921"
             ]
            ],
            "type": "surface"
           }
          ],
          "table": [
           {
            "cells": {
             "fill": {
              "color": "#EBF0F8"
             },
             "line": {
              "color": "white"
             }
            },
            "header": {
             "fill": {
              "color": "#C8D4E3"
             },
             "line": {
              "color": "white"
             }
            },
            "type": "table"
           }
          ]
         },
         "layout": {
          "annotationdefaults": {
           "arrowcolor": "#2a3f5f",
           "arrowhead": 0,
           "arrowwidth": 1
          },
          "autotypenumbers": "strict",
          "coloraxis": {
           "colorbar": {
            "outlinewidth": 0,
            "ticks": ""
           }
          },
          "colorscale": {
           "diverging": [
            [
             0,
             "#8e0152"
            ],
            [
             0.1,
             "#c51b7d"
            ],
            [
             0.2,
             "#de77ae"
            ],
            [
             0.3,
             "#f1b6da"
            ],
            [
             0.4,
             "#fde0ef"
            ],
            [
             0.5,
             "#f7f7f7"
            ],
            [
             0.6,
             "#e6f5d0"
            ],
            [
             0.7,
             "#b8e186"
            ],
            [
             0.8,
             "#7fbc41"
            ],
            [
             0.9,
             "#4d9221"
            ],
            [
             1,
             "#276419"
            ]
           ],
           "sequential": [
            [
             0,
             "#0d0887"
            ],
            [
             0.1111111111111111,
             "#46039f"
            ],
            [
             0.2222222222222222,
             "#7201a8"
            ],
            [
             0.3333333333333333,
             "#9c179e"
            ],
            [
             0.4444444444444444,
             "#bd3786"
            ],
            [
             0.5555555555555556,
             "#d8576b"
            ],
            [
             0.6666666666666666,
             "#ed7953"
            ],
            [
             0.7777777777777778,
             "#fb9f3a"
            ],
            [
             0.8888888888888888,
             "#fdca26"
            ],
            [
             1,
             "#f0f921"
            ]
           ],
           "sequentialminus": [
            [
             0,
             "#0d0887"
            ],
            [
             0.1111111111111111,
             "#46039f"
            ],
            [
             0.2222222222222222,
             "#7201a8"
            ],
            [
             0.3333333333333333,
             "#9c179e"
            ],
            [
             0.4444444444444444,
             "#bd3786"
            ],
            [
             0.5555555555555556,
             "#d8576b"
            ],
            [
             0.6666666666666666,
             "#ed7953"
            ],
            [
             0.7777777777777778,
             "#fb9f3a"
            ],
            [
             0.8888888888888888,
             "#fdca26"
            ],
            [
             1,
             "#f0f921"
            ]
           ]
          },
          "colorway": [
           "#636efa",
           "#EF553B",
           "#00cc96",
           "#ab63fa",
           "#FFA15A",
           "#19d3f3",
           "#FF6692",
           "#B6E880",
           "#FF97FF",
           "#FECB52"
          ],
          "font": {
           "color": "#2a3f5f"
          },
          "geo": {
           "bgcolor": "white",
           "lakecolor": "white",
           "landcolor": "#E5ECF6",
           "showlakes": true,
           "showland": true,
           "subunitcolor": "white"
          },
          "hoverlabel": {
           "align": "left"
          },
          "hovermode": "closest",
          "mapbox": {
           "style": "light"
          },
          "paper_bgcolor": "white",
          "plot_bgcolor": "#E5ECF6",
          "polar": {
           "angularaxis": {
            "gridcolor": "white",
            "linecolor": "white",
            "ticks": ""
           },
           "bgcolor": "#E5ECF6",
           "radialaxis": {
            "gridcolor": "white",
            "linecolor": "white",
            "ticks": ""
           }
          },
          "scene": {
           "xaxis": {
            "backgroundcolor": "#E5ECF6",
            "gridcolor": "white",
            "gridwidth": 2,
            "linecolor": "white",
            "showbackground": true,
            "ticks": "",
            "zerolinecolor": "white"
           },
           "yaxis": {
            "backgroundcolor": "#E5ECF6",
            "gridcolor": "white",
            "gridwidth": 2,
            "linecolor": "white",
            "showbackground": true,
            "ticks": "",
            "zerolinecolor": "white"
           },
           "zaxis": {
            "backgroundcolor": "#E5ECF6",
            "gridcolor": "white",
            "gridwidth": 2,
            "linecolor": "white",
            "showbackground": true,
            "ticks": "",
            "zerolinecolor": "white"
           }
          },
          "shapedefaults": {
           "line": {
            "color": "#2a3f5f"
           }
          },
          "ternary": {
           "aaxis": {
            "gridcolor": "white",
            "linecolor": "white",
            "ticks": ""
           },
           "baxis": {
            "gridcolor": "white",
            "linecolor": "white",
            "ticks": ""
           },
           "bgcolor": "#E5ECF6",
           "caxis": {
            "gridcolor": "white",
            "linecolor": "white",
            "ticks": ""
           }
          },
          "title": {
           "x": 0.05
          },
          "xaxis": {
           "automargin": true,
           "gridcolor": "white",
           "linecolor": "white",
           "ticks": "",
           "title": {
            "standoff": 15
           },
           "zerolinecolor": "white",
           "zerolinewidth": 2
          },
          "yaxis": {
           "automargin": true,
           "gridcolor": "white",
           "linecolor": "white",
           "ticks": "",
           "title": {
            "standoff": 15
           },
           "zerolinecolor": "white",
           "zerolinewidth": 2
          }
         }
        },
        "title": {
         "text": "Average Price by Number of Bathrooms"
        },
        "xaxis": {
         "anchor": "y",
         "domain": [
          0,
          1
         ],
         "tickangle": 45,
         "title": {
          "text": "Number of Bathrooms"
         }
        },
        "yaxis": {
         "anchor": "x",
         "domain": [
          0,
          1
         ],
         "title": {
          "text": "Average Price"
         }
        }
       }
      }
     },
     "metadata": {},
     "output_type": "display_data"
    }
   ],
   "source": [
    "import plotly.express as px\n",
    "\n",
    "fig = px.bar(df.groupby('BATH')['PRICE'].mean().reset_index(), x='BATH', y='PRICE', \n",
    "             title='Average Price by Number of Bathrooms', \n",
    "             labels={'BATH': 'Number of Bathrooms', 'PRICE': 'Average Price'})\n",
    "\n",
    "fig.update_layout(xaxis={'tickangle': 45})\n",
    "\n",
    "fig.show()\n"
   ]
  },
  {
   "cell_type": "code",
   "execution_count": 354,
   "metadata": {},
   "outputs": [
    {
     "data": {
      "image/png": "[encoded data removed]",
      "text/plain": [
       "<Figure size 640x480 with 1 Axes>"
      ]
     },
     "metadata": {
      "image/png": {
       "height": 480,
       "width": 640
      },
      "needs_background": "light"
     },
     "output_type": "display_data"
    },
    {
     "data": {
      "text/plain": [
       "<Figure Size: (640 x 480)>"
      ]
     },
     "execution_count": 354,
     "metadata": {},
     "output_type": "execute_result"
    }
   ],
   "source": [
    "import numpy as np\n",
    "from plotnine import ggplot, aes, geom_bar, labs, theme_minimal\n",
    "(ggplot(df) +\n",
    " aes(x='BATH', y='PRICE') +\n",
    " geom_bar(stat='summary', fun_y=np.mean, fill='steelblue', color='black') +\n",
    " labs(title='Average Price by Number of Bathrooms', x='Number of Bathrooms', y='Average Price') +\n",
    " theme_minimal()\n",
    ")\n"
   ]
  },
  {
   "cell_type": "markdown",
   "metadata": {},
   "source": [
    "Average House Prices by Number of Bathrooms:\n",
    "\n",
    "Similarly, there's an increasing trend in average prices with the number of bathrooms. Properties with more bathrooms generally have higher average prices.\n",
    "This trend also shows some inconsistencies, especially for properties with a very high number of bathrooms."
   ]
  },
  {
   "cell_type": "markdown",
   "metadata": {},
   "source": [
    "Insights from Bedroom and Bathroom Trends:\n",
    "\n",
    "Impact on Prices: Both the number of bedrooms and bathrooms have a significant impact on property prices, with a general trend of higher prices for properties with more bedrooms and bathrooms.\n",
    "Non-linear Trends: There are some non-linear trends observed, especially at the higher end of bedrooms and bathrooms, which might be due to the presence of luxury or unique properties."
   ]
  },
  {
   "cell_type": "code",
   "execution_count": 355,
   "metadata": {},
   "outputs": [
    {
     "data": {
      "application/vnd.plotly.v1+json": {
       "config": {
        "plotlyServerURL": "https://plot.ly"
       },
       "data": [
        {
         "alignmentgroup": "True",
         "hovertemplate": "BROKERTITLE=%{x}<br>y=%{y}<extra></extra>",
         "legendgroup": "",
         "marker": {
          "color": "#636efa",
          "pattern": {
           "shape": ""
          }
         },
         "name": "",
         "offsetgroup": "",
         "orientation": "v",
         "showlegend": false,
         "textposition": "auto",
         "type": "bar",
         "x": [
          "Brokered by COMPASS",
          "Brokered by Douglas Elliman - 575 Madison Ave",
          "Brokered by Brown Harris Stevens",
          "Brokered by Corcoran East Side",
          "Brokered by RE MAX Edge",
          "Brokered by Winzone Realty Inc",
          "Brokered by E Realty International Corp",
          "Brokered by Sotheby's International Realty - East Side Manhattan Brokerage",
          "Brokered by Serhant",
          "Brokered by Exp Realty"
         ],
         "xaxis": "x",
         "y": [
          417,
          99,
          91,
          78,
          67,
          61,
          55,
          54,
          46,
          46
         ],
         "yaxis": "y"
        }
       ],
       "layout": {
        "barmode": "relative",
        "legend": {
         "tracegroupgap": 0
        },
        "margin": {
         "t": 60
        },
        "template": {
         "data": {
          "bar": [
           {
            "error_x": {
             "color": "#2a3f5f"
            },
            "error_y": {
             "color": "#2a3f5f"
            },
            "marker": {
             "line": {
              "color": "#E5ECF6",
              "width": 0.5
             },
             "pattern": {
              "fillmode": "overlay",
              "size": 10,
              "solidity": 0.2
             }
            },
            "type": "bar"
           }
          ],
          "barpolar": [
           {
            "marker": {
             "line": {
              "color": "#E5ECF6",
              "width": 0.5
             },
             "pattern": {
              "fillmode": "overlay",
              "size": 10,
              "solidity": 0.2
             }
            },
            "type": "barpolar"
           }
          ],
          "carpet": [
           {
            "aaxis": {
             "endlinecolor": "#2a3f5f",
             "gridcolor": "white",
             "linecolor": "white",
             "minorgridcolor": "white",
             "startlinecolor": "#2a3f5f"
            },
            "baxis": {
             "endlinecolor": "#2a3f5f",
             "gridcolor": "white",
             "linecolor": "white",
             "minorgridcolor": "white",
             "startlinecolor": "#2a3f5f"
            },
            "type": "carpet"
           }
          ],
          "choropleth": [
           {
            "colorbar": {
             "outlinewidth": 0,
             "ticks": ""
            },
            "type": "choropleth"
           }
          ],
          "contour": [
           {
            "colorbar": {
             "outlinewidth": 0,
             "ticks": ""
            },
            "colorscale": [
             [
              0,
              "#0d0887"
             ],
             [
              0.1111111111111111,
              "#46039f"
             ],
             [
              0.2222222222222222,
              "#7201a8"
             ],
             [
              0.3333333333333333,
              "#9c179e"
             ],
             [
              0.4444444444444444,
              "#bd3786"
             ],
             [
              0.5555555555555556,
              "#d8576b"
             ],
             [
              0.6666666666666666,
              "#ed7953"
             ],
             [
              0.7777777777777778,
              "#fb9f3a"
             ],
             [
              0.8888888888888888,
              "#fdca26"
             ],
             [
              1,
              "#f0f921"
             ]
            ],
            "type": "contour"
           }
          ],
          "contourcarpet": [
           {
            "colorbar": {
             "outlinewidth": 0,
             "ticks": ""
            },
            "type": "contourcarpet"
           }
          ],
          "heatmap": [
           {
            "colorbar": {
             "outlinewidth": 0,
             "ticks": ""
            },
            "colorscale": [
             [
              0,
              "#0d0887"
             ],
             [
              0.1111111111111111,
              "#46039f"
             ],
             [
              0.2222222222222222,
              "#7201a8"
             ],
             [
              0.3333333333333333,
              "#9c179e"
             ],
             [
              0.4444444444444444,
              "#bd3786"
             ],
             [
              0.5555555555555556,
              "#d8576b"
             ],
             [
              0.6666666666666666,
              "#ed7953"
             ],
             [
              0.7777777777777778,
              "#fb9f3a"
             ],
             [
              0.8888888888888888,
              "#fdca26"
             ],
             [
              1,
              "#f0f921"
             ]
            ],
            "type": "heatmap"
           }
          ],
          "heatmapgl": [
           {
            "colorbar": {
             "outlinewidth": 0,
             "ticks": ""
            },
            "colorscale": [
             [
              0,
              "#0d0887"
             ],
             [
              0.1111111111111111,
              "#46039f"
             ],
             [
              0.2222222222222222,
              "#7201a8"
             ],
             [
              0.3333333333333333,
              "#9c179e"
             ],
             [
              0.4444444444444444,
              "#bd3786"
             ],
             [
              0.5555555555555556,
              "#d8576b"
             ],
             [
              0.6666666666666666,
              "#ed7953"
             ],
             [
              0.7777777777777778,
              "#fb9f3a"
             ],
             [
              0.8888888888888888,
              "#fdca26"
             ],
             [
              1,
              "#f0f921"
             ]
            ],
            "type": "heatmapgl"
           }
          ],
          "histogram": [
           {
            "marker": {
             "pattern": {
              "fillmode": "overlay",
              "size": 10,
              "solidity": 0.2
             }
            },
            "type": "histogram"
           }
          ],
          "histogram2d": [
           {
            "colorbar": {
             "outlinewidth": 0,
             "ticks": ""
            },
            "colorscale": [
             [
              0,
              "#0d0887"
             ],
             [
              0.1111111111111111,
              "#46039f"
             ],
             [
              0.2222222222222222,
              "#7201a8"
             ],
             [
              0.3333333333333333,
              "#9c179e"
             ],
             [
              0.4444444444444444,
              "#bd3786"
             ],
             [
              0.5555555555555556,
              "#d8576b"
             ],
             [
              0.6666666666666666,
              "#ed7953"
             ],
             [
              0.7777777777777778,
              "#fb9f3a"
             ],
             [
              0.8888888888888888,
              "#fdca26"
             ],
             [
              1,
              "#f0f921"
             ]
            ],
            "type": "histogram2d"
           }
          ],
          "histogram2dcontour": [
           {
            "colorbar": {
             "outlinewidth": 0,
             "ticks": ""
            },
            "colorscale": [
             [
              0,
              "#0d0887"
             ],
             [
              0.1111111111111111,
              "#46039f"
             ],
             [
              0.2222222222222222,
              "#7201a8"
             ],
             [
              0.3333333333333333,
              "#9c179e"
             ],
             [
              0.4444444444444444,
              "#bd3786"
             ],
             [
              0.5555555555555556,
              "#d8576b"
             ],
             [
              0.6666666666666666,
              "#ed7953"
             ],
             [
              0.7777777777777778,
              "#fb9f3a"
             ],
             [
              0.8888888888888888,
              "#fdca26"
             ],
             [
              1,
              "#f0f921"
             ]
            ],
            "type": "histogram2dcontour"
           }
          ],
          "mesh3d": [
           {
            "colorbar": {
             "outlinewidth": 0,
             "ticks": ""
            },
            "type": "mesh3d"
           }
          ],
          "parcoords": [
           {
            "line": {
             "colorbar": {
              "outlinewidth": 0,
              "ticks": ""
             }
            },
            "type": "parcoords"
           }
          ],
          "pie": [
           {
            "automargin": true,
            "type": "pie"
           }
          ],
          "scatter": [
           {
            "fillpattern": {
             "fillmode": "overlay",
             "size": 10,
             "solidity": 0.2
            },
            "type": "scatter"
           }
          ],
          "scatter3d": [
           {
            "line": {
             "colorbar": {
              "outlinewidth": 0,
              "ticks": ""
             }
            },
            "marker": {
             "colorbar": {
              "outlinewidth": 0,
              "ticks": ""
             }
            },
            "type": "scatter3d"
           }
          ],
          "scattercarpet": [
           {
            "marker": {
             "colorbar": {
              "outlinewidth": 0,
              "ticks": ""
             }
            },
            "type": "scattercarpet"
           }
          ],
          "scattergeo": [
           {
            "marker": {
             "colorbar": {
              "outlinewidth": 0,
              "ticks": ""
             }
            },
            "type": "scattergeo"
           }
          ],
          "scattergl": [
           {
            "marker": {
             "colorbar": {
              "outlinewidth": 0,
              "ticks": ""
             }
            },
            "type": "scattergl"
           }
          ],
          "scattermapbox": [
           {
            "marker": {
             "colorbar": {
              "outlinewidth": 0,
              "ticks": ""
             }
            },
            "type": "scattermapbox"
           }
          ],
          "scatterpolar": [
           {
            "marker": {
             "colorbar": {
              "outlinewidth": 0,
              "ticks": ""
             }
            },
            "type": "scatterpolar"
           }
          ],
          "scatterpolargl": [
           {
            "marker": {
             "colorbar": {
              "outlinewidth": 0,
              "ticks": ""
             }
            },
            "type": "scatterpolargl"
           }
          ],
          "scatterternary": [
           {
            "marker": {
             "colorbar": {
              "outlinewidth": 0,
              "ticks": ""
             }
            },
            "type": "scatterternary"
           }
          ],
          "surface": [
           {
            "colorbar": {
             "outlinewidth": 0,
             "ticks": ""
            },
            "colorscale": [
             [
              0,
              "#0d0887"
             ],
             [
              0.1111111111111111,
              "#46039f"
             ],
             [
              0.2222222222222222,
              "#7201a8"
             ],
             [
              0.3333333333333333,
              "#9c179e"
             ],
             [
              0.4444444444444444,
              "#bd3786"
             ],
             [
              0.5555555555555556,
              "#d8576b"
             ],
             [
              0.6666666666666666,
              "#ed7953"
             ],
             [
              0.7777777777777778,
              "#fb9f3a"
             ],
             [
              0.8888888888888888,
              "#fdca26"
             ],
             [
              1,
              "#f0f921"
             ]
            ],
            "type": "surface"
           }
          ],
          "table": [
           {
            "cells": {
             "fill": {
              "color": "#EBF0F8"
             },
             "line": {
              "color": "white"
             }
            },
            "header": {
             "fill": {
              "color": "#C8D4E3"
             },
             "line": {
              "color": "white"
             }
            },
            "type": "table"
           }
          ]
         },
         "layout": {
          "annotationdefaults": {
           "arrowcolor": "#2a3f5f",
           "arrowhead": 0,
           "arrowwidth": 1
          },
          "autotypenumbers": "strict",
          "coloraxis": {
           "colorbar": {
            "outlinewidth": 0,
            "ticks": ""
           }
          },
          "colorscale": {
           "diverging": [
            [
             0,
             "#8e0152"
            ],
            [
             0.1,
             "#c51b7d"
            ],
            [
             0.2,
             "#de77ae"
            ],
            [
             0.3,
             "#f1b6da"
            ],
            [
             0.4,
             "#fde0ef"
            ],
            [
             0.5,
             "#f7f7f7"
            ],
            [
             0.6,
             "#e6f5d0"
            ],
            [
             0.7,
             "#b8e186"
            ],
            [
             0.8,
             "#7fbc41"
            ],
            [
             0.9,
             "#4d9221"
            ],
            [
             1,
             "#276419"
            ]
           ],
           "sequential": [
            [
             0,
             "#0d0887"
            ],
            [
             0.1111111111111111,
             "#46039f"
            ],
            [
             0.2222222222222222,
             "#7201a8"
            ],
            [
             0.3333333333333333,
             "#9c179e"
            ],
            [
             0.4444444444444444,
             "#bd3786"
            ],
            [
             0.5555555555555556,
             "#d8576b"
            ],
            [
             0.6666666666666666,
             "#ed7953"
            ],
            [
             0.7777777777777778,
             "#fb9f3a"
            ],
            [
             0.8888888888888888,
             "#fdca26"
            ],
            [
             1,
             "#f0f921"
            ]
           ],
           "sequentialminus": [
            [
             0,
             "#0d0887"
            ],
            [
             0.1111111111111111,
             "#46039f"
            ],
            [
             0.2222222222222222,
             "#7201a8"
            ],
            [
             0.3333333333333333,
             "#9c179e"
            ],
            [
             0.4444444444444444,
             "#bd3786"
            ],
            [
             0.5555555555555556,
             "#d8576b"
            ],
            [
             0.6666666666666666,
             "#ed7953"
            ],
            [
             0.7777777777777778,
             "#fb9f3a"
            ],
            [
             0.8888888888888888,
             "#fdca26"
            ],
            [
             1,
             "#f0f921"
            ]
           ]
          },
          "colorway": [
           "#636efa",
           "#EF553B",
           "#00cc96",
           "#ab63fa",
           "#FFA15A",
           "#19d3f3",
           "#FF6692",
           "#B6E880",
           "#FF97FF",
           "#FECB52"
          ],
          "font": {
           "color": "#2a3f5f"
          },
          "geo": {
           "bgcolor": "white",
           "lakecolor": "white",
           "landcolor": "#E5ECF6",
           "showlakes": true,
           "showland": true,
           "subunitcolor": "white"
          },
          "hoverlabel": {
           "align": "left"
          },
          "hovermode": "closest",
          "mapbox": {
           "style": "light"
          },
          "paper_bgcolor": "white",
          "plot_bgcolor": "#E5ECF6",
          "polar": {
           "angularaxis": {
            "gridcolor": "white",
            "linecolor": "white",
            "ticks": ""
           },
           "bgcolor": "#E5ECF6",
           "radialaxis": {
            "gridcolor": "white",
            "linecolor": "white",
            "ticks": ""
           }
          },
          "scene": {
           "xaxis": {
            "backgroundcolor": "#E5ECF6",
            "gridcolor": "white",
            "gridwidth": 2,
            "linecolor": "white",
            "showbackground": true,
            "ticks": "",
            "zerolinecolor": "white"
           },
           "yaxis": {
            "backgroundcolor": "#E5ECF6",
            "gridcolor": "white",
            "gridwidth": 2,
            "linecolor": "white",
            "showbackground": true,
            "ticks": "",
            "zerolinecolor": "white"
           },
           "zaxis": {
            "backgroundcolor": "#E5ECF6",
            "gridcolor": "white",
            "gridwidth": 2,
            "linecolor": "white",
            "showbackground": true,
            "ticks": "",
            "zerolinecolor": "white"
           }
          },
          "shapedefaults": {
           "line": {
            "color": "#2a3f5f"
           }
          },
          "ternary": {
           "aaxis": {
            "gridcolor": "white",
            "linecolor": "white",
            "ticks": ""
           },
           "baxis": {
            "gridcolor": "white",
            "linecolor": "white",
            "ticks": ""
           },
           "bgcolor": "#E5ECF6",
           "caxis": {
            "gridcolor": "white",
            "linecolor": "white",
            "ticks": ""
           }
          },
          "title": {
           "x": 0.05
          },
          "xaxis": {
           "automargin": true,
           "gridcolor": "white",
           "linecolor": "white",
           "ticks": "",
           "title": {
            "standoff": 15
           },
           "zerolinecolor": "white",
           "zerolinewidth": 2
          },
          "yaxis": {
           "automargin": true,
           "gridcolor": "white",
           "linecolor": "white",
           "ticks": "",
           "title": {
            "standoff": 15
           },
           "zerolinecolor": "white",
           "zerolinewidth": 2
          }
         }
        },
        "title": {
         "text": "Top 10 Brokers by Number of Properties Sold",
         "x": 0.5
        },
        "xaxis": {
         "anchor": "y",
         "domain": [
          0,
          1
         ],
         "tickangle": -45,
         "title": {
          "text": "Broker"
         }
        },
        "yaxis": {
         "anchor": "x",
         "domain": [
          0,
          1
         ],
         "title": {
          "text": "No of properties"
         }
        }
       }
      }
     },
     "metadata": {},
     "output_type": "display_data"
    }
   ],
   "source": [
    "#Broker performance analysis\n",
    "#Identifying the top 10 brokers by number of properties sold\n",
    "import plotly.express as px\n",
    "\n",
    "top_brokers = df['BROKERTITLE'].value_counts().head(10)\n",
    "\n",
    "fig = px.bar(top_brokers, x=top_brokers.index, y=top_brokers.values)\n",
    "fig.update_layout(\n",
    "    title=\"Top 10 Brokers by Number of Properties Sold\",\n",
    "    title_x=0.5,  # Move the title to the center\n",
    "    yaxis_title=\"No of properties\",\n",
    "    xaxis_title=\"Broker\",\n",
    "    xaxis_tickangle=-45\n",
    ")\n",
    "fig.show()\n"
   ]
  },
  {
   "cell_type": "code",
   "execution_count": 356,
   "metadata": {},
   "outputs": [
    {
     "data": {
      "image/png": "[encoded data removed]",
      "text/plain": [
       "<Figure size 640x480 with 1 Axes>"
      ]
     },
     "metadata": {
      "image/png": {
       "height": 480,
       "width": 640
      },
      "needs_background": "light"
     },
     "output_type": "display_data"
    },
    {
     "data": {
      "text/plain": [
       "<Figure Size: (640 x 480)>"
      ]
     },
     "execution_count": 356,
     "metadata": {},
     "output_type": "execute_result"
    }
   ],
   "source": [
    "#Analyzing the performance of the top 10 brokers by average price\n",
    "\n",
    "from plotnine import ggplot, aes, geom_bar, labs, theme_minimal\n",
    "top_brokers = df.groupby('BROKERTITLE')['PRICE'].mean().sort_values(ascending=False).head(10).reset_index()\n",
    "\n",
    "(ggplot(top_brokers) +\n",
    " aes(x='BROKERTITLE', y='PRICE') +\n",
    " geom_bar(stat='identity', fill='steelblue', color='black') +\n",
    " labs(title='Top 10 Brokers by Average Price', x='Broker', y='Average Price') +\n",
    " theme_minimal() +\n",
    " theme(axis_text_x=element_text(angle=90, size=8, hjust=1))\n",
    ")\n"
   ]
  },
  {
   "cell_type": "markdown",
   "metadata": {},
   "source": [
    "##### Insights from Broker Performance Analysis:\n",
    "\n",
    "Variation Among Brokers: There is a noticeable variation in average prices among different brokers, suggesting that broker choice might have an influence on the pricing of properties.\n",
    "High-End Brokers: Some brokers appear to specialize in higher-priced properties, which could indicate a focus on luxury or premium real estate markets."
   ]
  },
  {
   "cell_type": "markdown",
   "metadata": {},
   "source": [
    "**Conclusion**\n",
    "\n",
    "This analysis provides insights into various aspects of the New York housing market, including price trends, the impact of property size, location influences, and the role of bedrooms/bathrooms in pricing. Additionally, it highlights how different brokers position themselves in the market."
   ]
  },
  {
   "cell_type": "markdown",
   "metadata": {},
   "source": [
    "# Machine Learning Modelling"
   ]
  },
  {
   "cell_type": "markdown",
   "metadata": {},
   "source": [
    "I will perform Linear Regression Analysis to Predict the Price of a house based on BEDS, BATHS, PROPERTYSQFT "
   ]
  },
  {
   "cell_type": "code",
   "execution_count": 357,
   "metadata": {},
   "outputs": [],
   "source": [
    "#import the necessary libraries\n",
    "\n",
    "from sklearn.model_selection import train_test_split\n",
    "from sklearn.linear_model import LinearRegression\n",
    "from sklearn.metrics import mean_squared_error, r2_score\n",
    "import numpy as np"
   ]
  },
  {
   "cell_type": "code",
   "execution_count": 358,
   "metadata": {},
   "outputs": [
    {
     "data": {
      "text/html": [
       "<div>\n",
       "<style scoped>\n",
       "    .dataframe tbody tr th:only-of-type {\n",
       "        vertical-align: middle;\n",
       "    }\n",
       "\n",
       "    .dataframe tbody tr th {\n",
       "        vertical-align: top;\n",
       "    }\n",
       "\n",
       "    .dataframe thead th {\n",
       "        text-align: right;\n",
       "    }\n",
       "</style>\n",
       "<table border=\"1\" class=\"dataframe\">\n",
       "  <thead>\n",
       "    <tr style=\"text-align: right;\">\n",
       "      <th></th>\n",
       "      <th>BROKERTITLE</th>\n",
       "      <th>TYPE</th>\n",
       "      <th>PRICE</th>\n",
       "      <th>BEDS</th>\n",
       "      <th>BATH</th>\n",
       "      <th>PROPERTYSQFT</th>\n",
       "      <th>LOCALITY</th>\n",
       "    </tr>\n",
       "  </thead>\n",
       "  <tbody>\n",
       "    <tr>\n",
       "      <th>0</th>\n",
       "      <td>Brokered by Douglas Elliman  -111 Fifth Ave</td>\n",
       "      <td>Condo for sale</td>\n",
       "      <td>315000</td>\n",
       "      <td>2</td>\n",
       "      <td>2.0</td>\n",
       "      <td>1400.000000</td>\n",
       "      <td>New York County</td>\n",
       "    </tr>\n",
       "    <tr>\n",
       "      <th>2</th>\n",
       "      <td>Brokered by Sowae Corp</td>\n",
       "      <td>House for sale</td>\n",
       "      <td>260000</td>\n",
       "      <td>4</td>\n",
       "      <td>2.0</td>\n",
       "      <td>2015.000000</td>\n",
       "      <td>New York County</td>\n",
       "    </tr>\n",
       "    <tr>\n",
       "      <th>3</th>\n",
       "      <td>Brokered by COMPASS</td>\n",
       "      <td>Condo for sale</td>\n",
       "      <td>69000</td>\n",
       "      <td>3</td>\n",
       "      <td>1.0</td>\n",
       "      <td>445.000000</td>\n",
       "      <td>New York County</td>\n",
       "    </tr>\n",
       "    <tr>\n",
       "      <th>5</th>\n",
       "      <td>Brokered by Sowae Corp</td>\n",
       "      <td>House for sale</td>\n",
       "      <td>690000</td>\n",
       "      <td>5</td>\n",
       "      <td>2.0</td>\n",
       "      <td>4004.000000</td>\n",
       "      <td>New York County</td>\n",
       "    </tr>\n",
       "    <tr>\n",
       "      <th>6</th>\n",
       "      <td>Brokered by Douglas Elliman - 575 Madison Ave</td>\n",
       "      <td>Condo for sale</td>\n",
       "      <td>899500</td>\n",
       "      <td>2</td>\n",
       "      <td>2.0</td>\n",
       "      <td>2184.207862</td>\n",
       "      <td>New York County</td>\n",
       "    </tr>\n",
       "  </tbody>\n",
       "</table>\n",
       "</div>"
      ],
      "text/plain": [
       "                                     BROKERTITLE            TYPE   PRICE  \\\n",
       "0    Brokered by Douglas Elliman  -111 Fifth Ave  Condo for sale  315000   \n",
       "2                         Brokered by Sowae Corp  House for sale  260000   \n",
       "3                            Brokered by COMPASS  Condo for sale   69000   \n",
       "5                         Brokered by Sowae Corp  House for sale  690000   \n",
       "6  Brokered by Douglas Elliman - 575 Madison Ave  Condo for sale  899500   \n",
       "\n",
       "   BEDS  BATH  PROPERTYSQFT         LOCALITY  \n",
       "0     2   2.0   1400.000000  New York County  \n",
       "2     4   2.0   2015.000000  New York County  \n",
       "3     3   1.0    445.000000  New York County  \n",
       "5     5   2.0   4004.000000  New York County  \n",
       "6     2   2.0   2184.207862  New York County  "
      ]
     },
     "execution_count": 358,
     "metadata": {},
     "output_type": "execute_result"
    }
   ],
   "source": [
    "# inspect the data\n",
    "df.head()"
   ]
  },
  {
   "cell_type": "code",
   "execution_count": 359,
   "metadata": {},
   "outputs": [
    {
     "name": "stdout",
     "output_type": "stream",
     "text": [
      "    PRICE  BEDS  BATH  PROPERTYSQFT\n",
      "0  315000     2   2.0   1400.000000\n",
      "2  260000     4   2.0   2015.000000\n",
      "3   69000     3   1.0    445.000000\n",
      "5  690000     5   2.0   4004.000000\n",
      "6  899500     2   2.0   2184.207862\n"
     ]
    }
   ],
   "source": [
    "#drop BROKERTITLE, TYPE and LOCALITY columns\n",
    "df = df.drop(['BROKERTITLE', 'TYPE', 'LOCALITY'], axis=1)\n",
    "print(df.head())"
   ]
  },
  {
   "cell_type": "code",
   "execution_count": 360,
   "metadata": {},
   "outputs": [],
   "source": [
    "#Apply log transformation to the price and property size columns\n",
    "df['PRICE'] = np.log1p(df['PRICE'])\n",
    "#df['PROPERTYSQFT'] = np.log1p(df['PROPERTYSQFT'])\n"
   ]
  },
  {
   "cell_type": "code",
   "execution_count": 361,
   "metadata": {},
   "outputs": [
    {
     "data": {
      "text/html": [
       "<div>\n",
       "<style scoped>\n",
       "    .dataframe tbody tr th:only-of-type {\n",
       "        vertical-align: middle;\n",
       "    }\n",
       "\n",
       "    .dataframe tbody tr th {\n",
       "        vertical-align: top;\n",
       "    }\n",
       "\n",
       "    .dataframe thead th {\n",
       "        text-align: right;\n",
       "    }\n",
       "</style>\n",
       "<table border=\"1\" class=\"dataframe\">\n",
       "  <thead>\n",
       "    <tr style=\"text-align: right;\">\n",
       "      <th></th>\n",
       "      <th>PRICE</th>\n",
       "      <th>BEDS</th>\n",
       "      <th>BATH</th>\n",
       "      <th>PROPERTYSQFT</th>\n",
       "    </tr>\n",
       "  </thead>\n",
       "  <tbody>\n",
       "    <tr>\n",
       "      <th>0</th>\n",
       "      <td>12.660331</td>\n",
       "      <td>2</td>\n",
       "      <td>2.0</td>\n",
       "      <td>1400.000000</td>\n",
       "    </tr>\n",
       "    <tr>\n",
       "      <th>2</th>\n",
       "      <td>12.468441</td>\n",
       "      <td>4</td>\n",
       "      <td>2.0</td>\n",
       "      <td>2015.000000</td>\n",
       "    </tr>\n",
       "    <tr>\n",
       "      <th>3</th>\n",
       "      <td>11.141876</td>\n",
       "      <td>3</td>\n",
       "      <td>1.0</td>\n",
       "      <td>445.000000</td>\n",
       "    </tr>\n",
       "    <tr>\n",
       "      <th>5</th>\n",
       "      <td>13.444448</td>\n",
       "      <td>5</td>\n",
       "      <td>2.0</td>\n",
       "      <td>4004.000000</td>\n",
       "    </tr>\n",
       "    <tr>\n",
       "      <th>6</th>\n",
       "      <td>13.709595</td>\n",
       "      <td>2</td>\n",
       "      <td>2.0</td>\n",
       "      <td>2184.207862</td>\n",
       "    </tr>\n",
       "  </tbody>\n",
       "</table>\n",
       "</div>"
      ],
      "text/plain": [
       "       PRICE  BEDS  BATH  PROPERTYSQFT\n",
       "0  12.660331     2   2.0   1400.000000\n",
       "2  12.468441     4   2.0   2015.000000\n",
       "3  11.141876     3   1.0    445.000000\n",
       "5  13.444448     5   2.0   4004.000000\n",
       "6  13.709595     2   2.0   2184.207862"
      ]
     },
     "execution_count": 361,
     "metadata": {},
     "output_type": "execute_result"
    }
   ],
   "source": [
    "#inspect the data\n",
    "df.head()"
   ]
  },
  {
   "cell_type": "code",
   "execution_count": 362,
   "metadata": {},
   "outputs": [],
   "source": [
    "# Define features and target variable\n",
    "X = df.drop('PRICE', axis=1)\n",
    "y = df['PRICE']\n"
   ]
  },
  {
   "cell_type": "code",
   "execution_count": 363,
   "metadata": {},
   "outputs": [
    {
     "data": {
      "text/html": [
       "<div>\n",
       "<style scoped>\n",
       "    .dataframe tbody tr th:only-of-type {\n",
       "        vertical-align: middle;\n",
       "    }\n",
       "\n",
       "    .dataframe tbody tr th {\n",
       "        vertical-align: top;\n",
       "    }\n",
       "\n",
       "    .dataframe thead th {\n",
       "        text-align: right;\n",
       "    }\n",
       "</style>\n",
       "<table border=\"1\" class=\"dataframe\">\n",
       "  <thead>\n",
       "    <tr style=\"text-align: right;\">\n",
       "      <th></th>\n",
       "      <th>BEDS</th>\n",
       "      <th>BATH</th>\n",
       "      <th>PROPERTYSQFT</th>\n",
       "    </tr>\n",
       "  </thead>\n",
       "  <tbody>\n",
       "    <tr>\n",
       "      <th>0</th>\n",
       "      <td>2</td>\n",
       "      <td>2.0</td>\n",
       "      <td>1400.000000</td>\n",
       "    </tr>\n",
       "    <tr>\n",
       "      <th>2</th>\n",
       "      <td>4</td>\n",
       "      <td>2.0</td>\n",
       "      <td>2015.000000</td>\n",
       "    </tr>\n",
       "    <tr>\n",
       "      <th>3</th>\n",
       "      <td>3</td>\n",
       "      <td>1.0</td>\n",
       "      <td>445.000000</td>\n",
       "    </tr>\n",
       "    <tr>\n",
       "      <th>5</th>\n",
       "      <td>5</td>\n",
       "      <td>2.0</td>\n",
       "      <td>4004.000000</td>\n",
       "    </tr>\n",
       "    <tr>\n",
       "      <th>6</th>\n",
       "      <td>2</td>\n",
       "      <td>2.0</td>\n",
       "      <td>2184.207862</td>\n",
       "    </tr>\n",
       "  </tbody>\n",
       "</table>\n",
       "</div>"
      ],
      "text/plain": [
       "   BEDS  BATH  PROPERTYSQFT\n",
       "0     2   2.0   1400.000000\n",
       "2     4   2.0   2015.000000\n",
       "3     3   1.0    445.000000\n",
       "5     5   2.0   4004.000000\n",
       "6     2   2.0   2184.207862"
      ]
     },
     "execution_count": 363,
     "metadata": {},
     "output_type": "execute_result"
    }
   ],
   "source": [
    "#inspect the features\n",
    "X.head()"
   ]
  },
  {
   "cell_type": "code",
   "execution_count": 364,
   "metadata": {},
   "outputs": [
    {
     "data": {
      "text/plain": [
       "0    12.660331\n",
       "2    12.468441\n",
       "3    11.141876\n",
       "5    13.444448\n",
       "6    13.709595\n",
       "Name: PRICE, dtype: float64"
      ]
     },
     "execution_count": 364,
     "metadata": {},
     "output_type": "execute_result"
    }
   ],
   "source": [
    "#inspect the target variable\n",
    "y.head()"
   ]
  },
  {
   "cell_type": "code",
   "execution_count": 365,
   "metadata": {},
   "outputs": [],
   "source": [
    "#split the data into training and testing sets\n",
    "\n",
    "X_train, X_test, y_train, y_test = train_test_split(X, y, test_size=0.2, random_state=42)"
   ]
  },
  {
   "cell_type": "code",
   "execution_count": 366,
   "metadata": {},
   "outputs": [],
   "source": [
    "#intialize the linear regression model\n",
    "LinReg = LinearRegression()"
   ]
  },
  {
   "cell_type": "code",
   "execution_count": 367,
   "metadata": {},
   "outputs": [
    {
     "data": {
      "text/html": [
       "<style>#sk-container-id-3 {color: black;}#sk-container-id-3 pre{padding: 0;}#sk-container-id-3 div.sk-toggleable {background-color: white;}#sk-container-id-3 label.sk-toggleable__label {cursor: pointer;display: block;width: 100%;margin-bottom: 0;padding: 0.3em;box-sizing: border-box;text-align: center;}#sk-container-id-3 label.sk-toggleable__label-arrow:before {content: \"▸\";float: left;margin-right: 0.25em;color: #696969;}#sk-container-id-3 label.sk-toggleable__label-arrow:hover:before {color: black;}#sk-container-id-3 div.sk-estimator:hover label.sk-toggleable__label-arrow:before {color: black;}#sk-container-id-3 div.sk-toggleable__content {max-height: 0;max-width: 0;overflow: hidden;text-align: left;background-color: #f0f8ff;}#sk-container-id-3 div.sk-toggleable__content pre {margin: 0.2em;color: black;border-radius: 0.25em;background-color: #f0f8ff;}#sk-container-id-3 input.sk-toggleable__control:checked~div.sk-toggleable__content {max-height: 200px;max-width: 100%;overflow: auto;}#sk-container-id-3 input.sk-toggleable__control:checked~label.sk-toggleable__label-arrow:before {content: \"▾\";}#sk-container-id-3 div.sk-estimator input.sk-toggleable__control:checked~label.sk-toggleable__label {background-color: #d4ebff;}#sk-container-id-3 div.sk-label input.sk-toggleable__control:checked~label.sk-toggleable__label {background-color: #d4ebff;}#sk-container-id-3 input.sk-hidden--visually {border: 0;clip: rect(1px 1px 1px 1px);clip: rect(1px, 1px, 1px, 1px);height: 1px;margin: -1px;overflow: hidden;padding: 0;position: absolute;width: 1px;}#sk-container-id-3 div.sk-estimator {font-family: monospace;background-color: #f0f8ff;border: 1px dotted black;border-radius: 0.25em;box-sizing: border-box;margin-bottom: 0.5em;}#sk-container-id-3 div.sk-estimator:hover {background-color: #d4ebff;}#sk-container-id-3 div.sk-parallel-item::after {content: \"\";width: 100%;border-bottom: 1px solid gray;flex-grow: 1;}#sk-container-id-3 div.sk-label:hover label.sk-toggleable__label {background-color: #d4ebff;}#sk-container-id-3 div.sk-serial::before {content: \"\";position: absolute;border-left: 1px solid gray;box-sizing: border-box;top: 0;bottom: 0;left: 50%;z-index: 0;}#sk-container-id-3 div.sk-serial {display: flex;flex-direction: column;align-items: center;background-color: white;padding-right: 0.2em;padding-left: 0.2em;position: relative;}#sk-container-id-3 div.sk-item {position: relative;z-index: 1;}#sk-container-id-3 div.sk-parallel {display: flex;align-items: stretch;justify-content: center;background-color: white;position: relative;}#sk-container-id-3 div.sk-item::before, #sk-container-id-3 div.sk-parallel-item::before {content: \"\";position: absolute;border-left: 1px solid gray;box-sizing: border-box;top: 0;bottom: 0;left: 50%;z-index: -1;}#sk-container-id-3 div.sk-parallel-item {display: flex;flex-direction: column;z-index: 1;position: relative;background-color: white;}#sk-container-id-3 div.sk-parallel-item:first-child::after {align-self: flex-end;width: 50%;}#sk-container-id-3 div.sk-parallel-item:last-child::after {align-self: flex-start;width: 50%;}#sk-container-id-3 div.sk-parallel-item:only-child::after {width: 0;}#sk-container-id-3 div.sk-dashed-wrapped {border: 1px dashed gray;margin: 0 0.4em 0.5em 0.4em;box-sizing: border-box;padding-bottom: 0.4em;background-color: white;}#sk-container-id-3 div.sk-label label {font-family: monospace;font-weight: bold;display: inline-block;line-height: 1.2em;}#sk-container-id-3 div.sk-label-container {text-align: center;}#sk-container-id-3 div.sk-container {/* jupyter's `normalize.less` sets `[hidden] { display: none; }` but bootstrap.min.css set `[hidden] { display: none !important; }` so we also need the `!important` here to be able to override the default hidden behavior on the sphinx rendered scikit-learn.org. See: https://github.com/scikit-learn/scikit-learn/issues/21755 */display: inline-block !important;position: relative;}#sk-container-id-3 div.sk-text-repr-fallback {display: none;}</style><div id=\"sk-container-id-3\" class=\"sk-top-container\"><div class=\"sk-text-repr-fallback\"><pre>LinearRegression()</pre><b>In a Jupyter environment, please rerun this cell to show the HTML representation or trust the notebook. <br />On GitHub, the HTML representation is unable to render, please try loading this page with nbviewer.org.</b></div><div class=\"sk-container\" hidden><div class=\"sk-item\"><div class=\"sk-estimator sk-toggleable\"><input class=\"sk-toggleable__control sk-hidden--visually\" id=\"sk-estimator-id-3\" type=\"checkbox\" checked><label for=\"sk-estimator-id-3\" class=\"sk-toggleable__label sk-toggleable__label-arrow\">LinearRegression</label><div class=\"sk-toggleable__content\"><pre>LinearRegression()</pre></div></div></div></div></div>"
      ],
      "text/plain": [
       "LinearRegression()"
      ]
     },
     "execution_count": 367,
     "metadata": {},
     "output_type": "execute_result"
    }
   ],
   "source": [
    "#fit the model to the training data\n",
    "LinReg.fit(X_train, y_train)\n"
   ]
  },
  {
   "cell_type": "code",
   "execution_count": 368,
   "metadata": {},
   "outputs": [],
   "source": [
    "#make predictions using the model\n",
    "\n",
    "y_pred = LinReg.predict(X_test)\n"
   ]
  },
  {
   "cell_type": "code",
   "execution_count": 369,
   "metadata": {},
   "outputs": [
    {
     "name": "stdout",
     "output_type": "stream",
     "text": [
      "0.7142028872726106\n",
      "0.445803066126791\n"
     ]
    }
   ],
   "source": [
    "#evaluate the model\n",
    "#calculate the root mean squared error\n",
    "rmse = np.sqrt(mean_squared_error(y_test, y_pred))\n",
    "\n",
    "#calculate the r-squared value\n",
    "r2 = r2_score(y_test, y_pred)\n",
    "\n",
    "print(rmse)\n",
    "print(r2)\n"
   ]
  },
  {
   "cell_type": "code",
   "execution_count": 370,
   "metadata": {},
   "outputs": [
    {
     "name": "stdout",
     "output_type": "stream",
     "text": [
      "12.577228053204184\n",
      "[-4.75260970e-03  4.00213590e-01  1.21266662e-04]\n"
     ]
    }
   ],
   "source": [
    "#intercept and coefficients\n",
    "print(LinReg.intercept_)\n",
    "print(LinReg.coef_)"
   ]
  },
  {
   "cell_type": "code",
   "execution_count": 371,
   "metadata": {},
   "outputs": [
    {
     "data": {
      "text/plain": [
       "[('BEDS', -0.004752609700155022),\n",
       " ('BATH', 0.4002135897657434),\n",
       " ('PROPERTYSQFT', 0.00012126666182912875)]"
      ]
     },
     "execution_count": 371,
     "metadata": {},
     "output_type": "execute_result"
    }
   ],
   "source": [
    "#pair feature names with coefficients\n",
    "list(zip(X.columns, LinReg.coef_))\n"
   ]
  },
  {
   "cell_type": "code",
   "execution_count": 374,
   "metadata": {},
   "outputs": [
    {
     "data": {
      "image/png": "[encoded data removed]",
      "text/plain": [
       "<Figure size 1000x600 with 1 Axes>"
      ]
     },
     "metadata": {
      "image/png": {
       "height": 600,
       "width": 1000
      }
     },
     "output_type": "display_data"
    }
   ],
   "source": [
    "#plotting the actual vs predicted values\n",
    "plt.figure(figsize=(10, 6))\n",
    "plt.scatter(np.expm1(y_test), np.expm1(y_pred), c='blue', alpha=0.3, label='Predicted')\n",
    "plt.scatter(np.expm1(y_test), np.expm1(y_test), c='red', alpha=0.3, label='Actual')\n",
    "plt.plot([np.expm1(y_test).min(), np.expm1(y_test).max()], [np.expm1(y_test).min(), np.expm1(y_test).max()], 'k--', lw=2) # Line for perfect predictions\n",
    "plt.xlabel('Actual Price')\n",
    "plt.ylabel('Predicted Price')\n",
    "plt.title('Predicted vs. Actual Property Prices')\n",
    "plt.legend()\n",
    "plt.show()\n",
    "\n"
   ]
  }
 ],
 "metadata": {
  "kernelspec": {
   "display_name": "base",
   "language": "python",
   "name": "python3"
  },
  "language_info": {
   "codemirror_mode": {
    "name": "ipython",
    "version": 3
   },
   "file_extension": ".py",
   "mimetype": "text/x-python",
   "name": "python",
   "nbconvert_exporter": "python",
   "pygments_lexer": "ipython3",
   "version": "3.11.5"
  }
 },
 "nbformat": 4,
 "nbformat_minor": 2
}
