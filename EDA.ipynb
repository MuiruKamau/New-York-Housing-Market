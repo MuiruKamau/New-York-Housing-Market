{
 "cells": [
  {
   "cell_type": "code",
   "execution_count": 28,
   "metadata": {},
   "outputs": [],
   "source": [
    "# importing the required libraries\n",
    "\n",
    "import pandas as pd\n",
    "import numpy as np\n",
    "import matplotlib.pyplot as plt\n",
    "import seaborn as sns\n",
    "plt.style.use('ggplot')"
   ]
  },
  {
   "cell_type": "code",
   "execution_count": 29,
   "metadata": {},
   "outputs": [
    {
     "data": {
      "text/html": [
       "<div>\n",
       "<style scoped>\n",
       "    .dataframe tbody tr th:only-of-type {\n",
       "        vertical-align: middle;\n",
       "    }\n",
       "\n",
       "    .dataframe tbody tr th {\n",
       "        vertical-align: top;\n",
       "    }\n",
       "\n",
       "    .dataframe thead th {\n",
       "        text-align: right;\n",
       "    }\n",
       "</style>\n",
       "<table border=\"1\" class=\"dataframe\">\n",
       "  <thead>\n",
       "    <tr style=\"text-align: right;\">\n",
       "      <th></th>\n",
       "      <th>BROKERTITLE</th>\n",
       "      <th>TYPE</th>\n",
       "      <th>PRICE</th>\n",
       "      <th>BEDS</th>\n",
       "      <th>BATH</th>\n",
       "      <th>PROPERTYSQFT</th>\n",
       "      <th>ADDRESS</th>\n",
       "      <th>STATE</th>\n",
       "      <th>MAIN_ADDRESS</th>\n",
       "      <th>ADMINISTRATIVE_AREA_LEVEL_2</th>\n",
       "      <th>LOCALITY</th>\n",
       "      <th>SUBLOCALITY</th>\n",
       "      <th>STREET_NAME</th>\n",
       "      <th>LONG_NAME</th>\n",
       "      <th>FORMATTED_ADDRESS</th>\n",
       "      <th>LATITUDE</th>\n",
       "      <th>LONGITUDE</th>\n",
       "    </tr>\n",
       "  </thead>\n",
       "  <tbody>\n",
       "    <tr>\n",
       "      <th>0</th>\n",
       "      <td>Brokered by Douglas Elliman  -111 Fifth Ave</td>\n",
       "      <td>Condo for sale</td>\n",
       "      <td>315000</td>\n",
       "      <td>2</td>\n",
       "      <td>2.000000</td>\n",
       "      <td>1400.0</td>\n",
       "      <td>2 E 55th St Unit 803</td>\n",
       "      <td>New York, NY 10022</td>\n",
       "      <td>2 E 55th St Unit 803New York, NY 10022</td>\n",
       "      <td>New York County</td>\n",
       "      <td>New York</td>\n",
       "      <td>Manhattan</td>\n",
       "      <td>East 55th Street</td>\n",
       "      <td>Regis Residence</td>\n",
       "      <td>Regis Residence, 2 E 55th St #803, New York, N...</td>\n",
       "      <td>40.761255</td>\n",
       "      <td>-73.974483</td>\n",
       "    </tr>\n",
       "    <tr>\n",
       "      <th>1</th>\n",
       "      <td>Brokered by Serhant</td>\n",
       "      <td>Condo for sale</td>\n",
       "      <td>195000000</td>\n",
       "      <td>7</td>\n",
       "      <td>10.000000</td>\n",
       "      <td>17545.0</td>\n",
       "      <td>Central Park Tower Penthouse-217 W 57th New Yo...</td>\n",
       "      <td>New York, NY 10019</td>\n",
       "      <td>Central Park Tower Penthouse-217 W 57th New Yo...</td>\n",
       "      <td>United States</td>\n",
       "      <td>New York</td>\n",
       "      <td>New York County</td>\n",
       "      <td>New York</td>\n",
       "      <td>West 57th Street</td>\n",
       "      <td>217 W 57th St, New York, NY 10019, USA</td>\n",
       "      <td>40.766393</td>\n",
       "      <td>-73.980991</td>\n",
       "    </tr>\n",
       "    <tr>\n",
       "      <th>2</th>\n",
       "      <td>Brokered by Sowae Corp</td>\n",
       "      <td>House for sale</td>\n",
       "      <td>260000</td>\n",
       "      <td>4</td>\n",
       "      <td>2.000000</td>\n",
       "      <td>2015.0</td>\n",
       "      <td>620 Sinclair Ave</td>\n",
       "      <td>Staten Island, NY 10312</td>\n",
       "      <td>620 Sinclair AveStaten Island, NY 10312</td>\n",
       "      <td>United States</td>\n",
       "      <td>New York</td>\n",
       "      <td>Richmond County</td>\n",
       "      <td>Staten Island</td>\n",
       "      <td>Sinclair Avenue</td>\n",
       "      <td>620 Sinclair Ave, Staten Island, NY 10312, USA</td>\n",
       "      <td>40.541805</td>\n",
       "      <td>-74.196109</td>\n",
       "    </tr>\n",
       "    <tr>\n",
       "      <th>3</th>\n",
       "      <td>Brokered by COMPASS</td>\n",
       "      <td>Condo for sale</td>\n",
       "      <td>69000</td>\n",
       "      <td>3</td>\n",
       "      <td>1.000000</td>\n",
       "      <td>445.0</td>\n",
       "      <td>2 E 55th St Unit 908W33</td>\n",
       "      <td>Manhattan, NY 10022</td>\n",
       "      <td>2 E 55th St Unit 908W33Manhattan, NY 10022</td>\n",
       "      <td>United States</td>\n",
       "      <td>New York</td>\n",
       "      <td>New York County</td>\n",
       "      <td>New York</td>\n",
       "      <td>East 55th Street</td>\n",
       "      <td>2 E 55th St, New York, NY 10022, USA</td>\n",
       "      <td>40.761398</td>\n",
       "      <td>-73.974613</td>\n",
       "    </tr>\n",
       "    <tr>\n",
       "      <th>4</th>\n",
       "      <td>Brokered by Sotheby's International Realty - E...</td>\n",
       "      <td>Townhouse for sale</td>\n",
       "      <td>55000000</td>\n",
       "      <td>7</td>\n",
       "      <td>2.373861</td>\n",
       "      <td>14175.0</td>\n",
       "      <td>5 E 64th St</td>\n",
       "      <td>New York, NY 10065</td>\n",
       "      <td>5 E 64th StNew York, NY 10065</td>\n",
       "      <td>United States</td>\n",
       "      <td>New York</td>\n",
       "      <td>New York County</td>\n",
       "      <td>New York</td>\n",
       "      <td>East 64th Street</td>\n",
       "      <td>5 E 64th St, New York, NY 10065, USA</td>\n",
       "      <td>40.767224</td>\n",
       "      <td>-73.969856</td>\n",
       "    </tr>\n",
       "  </tbody>\n",
       "</table>\n",
       "</div>"
      ],
      "text/plain": [
       "                                         BROKERTITLE                TYPE  \\\n",
       "0        Brokered by Douglas Elliman  -111 Fifth Ave      Condo for sale   \n",
       "1                                Brokered by Serhant      Condo for sale   \n",
       "2                             Brokered by Sowae Corp      House for sale   \n",
       "3                                Brokered by COMPASS      Condo for sale   \n",
       "4  Brokered by Sotheby's International Realty - E...  Townhouse for sale   \n",
       "\n",
       "       PRICE  BEDS       BATH  PROPERTYSQFT  \\\n",
       "0     315000     2   2.000000        1400.0   \n",
       "1  195000000     7  10.000000       17545.0   \n",
       "2     260000     4   2.000000        2015.0   \n",
       "3      69000     3   1.000000         445.0   \n",
       "4   55000000     7   2.373861       14175.0   \n",
       "\n",
       "                                             ADDRESS                    STATE  \\\n",
       "0                               2 E 55th St Unit 803       New York, NY 10022   \n",
       "1  Central Park Tower Penthouse-217 W 57th New Yo...       New York, NY 10019   \n",
       "2                                   620 Sinclair Ave  Staten Island, NY 10312   \n",
       "3                            2 E 55th St Unit 908W33      Manhattan, NY 10022   \n",
       "4                                        5 E 64th St       New York, NY 10065   \n",
       "\n",
       "                                        MAIN_ADDRESS  \\\n",
       "0             2 E 55th St Unit 803New York, NY 10022   \n",
       "1  Central Park Tower Penthouse-217 W 57th New Yo...   \n",
       "2            620 Sinclair AveStaten Island, NY 10312   \n",
       "3         2 E 55th St Unit 908W33Manhattan, NY 10022   \n",
       "4                      5 E 64th StNew York, NY 10065   \n",
       "\n",
       "  ADMINISTRATIVE_AREA_LEVEL_2  LOCALITY      SUBLOCALITY       STREET_NAME  \\\n",
       "0             New York County  New York        Manhattan  East 55th Street   \n",
       "1               United States  New York  New York County          New York   \n",
       "2               United States  New York  Richmond County     Staten Island   \n",
       "3               United States  New York  New York County          New York   \n",
       "4               United States  New York  New York County          New York   \n",
       "\n",
       "          LONG_NAME                                  FORMATTED_ADDRESS  \\\n",
       "0   Regis Residence  Regis Residence, 2 E 55th St #803, New York, N...   \n",
       "1  West 57th Street             217 W 57th St, New York, NY 10019, USA   \n",
       "2   Sinclair Avenue     620 Sinclair Ave, Staten Island, NY 10312, USA   \n",
       "3  East 55th Street               2 E 55th St, New York, NY 10022, USA   \n",
       "4  East 64th Street               5 E 64th St, New York, NY 10065, USA   \n",
       "\n",
       "    LATITUDE  LONGITUDE  \n",
       "0  40.761255 -73.974483  \n",
       "1  40.766393 -73.980991  \n",
       "2  40.541805 -74.196109  \n",
       "3  40.761398 -73.974613  \n",
       "4  40.767224 -73.969856  "
      ]
     },
     "execution_count": 29,
     "metadata": {},
     "output_type": "execute_result"
    }
   ],
   "source": [
    "#loading the data\n",
    "df = pd.read_csv('NY-House-Dataset.csv')\n",
    "\n",
    "df.head()"
   ]
  },
  {
   "cell_type": "code",
   "execution_count": 30,
   "metadata": {},
   "outputs": [
    {
     "data": {
      "text/plain": [
       "(4801, 17)"
      ]
     },
     "execution_count": 30,
     "metadata": {},
     "output_type": "execute_result"
    }
   ],
   "source": [
    "#checking the shape of the data\n",
    "df.shape"
   ]
  },
  {
   "cell_type": "code",
   "execution_count": 31,
   "metadata": {},
   "outputs": [
    {
     "name": "stdout",
     "output_type": "stream",
     "text": [
      "<class 'pandas.core.frame.DataFrame'>\n",
      "RangeIndex: 4801 entries, 0 to 4800\n",
      "Data columns (total 17 columns):\n",
      " #   Column                       Non-Null Count  Dtype  \n",
      "---  ------                       --------------  -----  \n",
      " 0   BROKERTITLE                  4801 non-null   object \n",
      " 1   TYPE                         4801 non-null   object \n",
      " 2   PRICE                        4801 non-null   int64  \n",
      " 3   BEDS                         4801 non-null   int64  \n",
      " 4   BATH                         4801 non-null   float64\n",
      " 5   PROPERTYSQFT                 4801 non-null   float64\n",
      " 6   ADDRESS                      4801 non-null   object \n",
      " 7   STATE                        4801 non-null   object \n",
      " 8   MAIN_ADDRESS                 4801 non-null   object \n",
      " 9   ADMINISTRATIVE_AREA_LEVEL_2  4801 non-null   object \n",
      " 10  LOCALITY                     4801 non-null   object \n",
      " 11  SUBLOCALITY                  4801 non-null   object \n",
      " 12  STREET_NAME                  4801 non-null   object \n",
      " 13  LONG_NAME                    4801 non-null   object \n",
      " 14  FORMATTED_ADDRESS            4801 non-null   object \n",
      " 15  LATITUDE                     4801 non-null   float64\n",
      " 16  LONGITUDE                    4801 non-null   float64\n",
      "dtypes: float64(4), int64(2), object(11)\n",
      "memory usage: 637.8+ KB\n"
     ]
    }
   ],
   "source": [
    "#checking the data types\n",
    "df.info()"
   ]
  },
  {
   "cell_type": "markdown",
   "metadata": {},
   "source": [
    "#### Data Cleaning"
   ]
  },
  {
   "cell_type": "code",
   "execution_count": 38,
   "metadata": {},
   "outputs": [
    {
     "data": {
      "text/html": [
       "<div>\n",
       "<style scoped>\n",
       "    .dataframe tbody tr th:only-of-type {\n",
       "        vertical-align: middle;\n",
       "    }\n",
       "\n",
       "    .dataframe tbody tr th {\n",
       "        vertical-align: top;\n",
       "    }\n",
       "\n",
       "    .dataframe thead th {\n",
       "        text-align: right;\n",
       "    }\n",
       "</style>\n",
       "<table border=\"1\" class=\"dataframe\">\n",
       "  <thead>\n",
       "    <tr style=\"text-align: right;\">\n",
       "      <th></th>\n",
       "      <th>BROKERTITLE</th>\n",
       "      <th>TYPE</th>\n",
       "      <th>PRICE</th>\n",
       "      <th>BEDS</th>\n",
       "      <th>BATH</th>\n",
       "      <th>PROPERTYSQFT</th>\n",
       "      <th>LOCALITY</th>\n",
       "    </tr>\n",
       "  </thead>\n",
       "  <tbody>\n",
       "    <tr>\n",
       "      <th>0</th>\n",
       "      <td>Brokered by Douglas Elliman  -111 Fifth Ave</td>\n",
       "      <td>Condo for sale</td>\n",
       "      <td>315000</td>\n",
       "      <td>2</td>\n",
       "      <td>2.000000</td>\n",
       "      <td>1400.0</td>\n",
       "      <td>New York</td>\n",
       "    </tr>\n",
       "    <tr>\n",
       "      <th>1</th>\n",
       "      <td>Brokered by Serhant</td>\n",
       "      <td>Condo for sale</td>\n",
       "      <td>195000000</td>\n",
       "      <td>7</td>\n",
       "      <td>10.000000</td>\n",
       "      <td>17545.0</td>\n",
       "      <td>New York</td>\n",
       "    </tr>\n",
       "    <tr>\n",
       "      <th>2</th>\n",
       "      <td>Brokered by Sowae Corp</td>\n",
       "      <td>House for sale</td>\n",
       "      <td>260000</td>\n",
       "      <td>4</td>\n",
       "      <td>2.000000</td>\n",
       "      <td>2015.0</td>\n",
       "      <td>New York</td>\n",
       "    </tr>\n",
       "    <tr>\n",
       "      <th>3</th>\n",
       "      <td>Brokered by COMPASS</td>\n",
       "      <td>Condo for sale</td>\n",
       "      <td>69000</td>\n",
       "      <td>3</td>\n",
       "      <td>1.000000</td>\n",
       "      <td>445.0</td>\n",
       "      <td>New York</td>\n",
       "    </tr>\n",
       "    <tr>\n",
       "      <th>4</th>\n",
       "      <td>Brokered by Sotheby's International Realty - E...</td>\n",
       "      <td>Townhouse for sale</td>\n",
       "      <td>55000000</td>\n",
       "      <td>7</td>\n",
       "      <td>2.373861</td>\n",
       "      <td>14175.0</td>\n",
       "      <td>New York</td>\n",
       "    </tr>\n",
       "  </tbody>\n",
       "</table>\n",
       "</div>"
      ],
      "text/plain": [
       "                                         BROKERTITLE                TYPE  \\\n",
       "0        Brokered by Douglas Elliman  -111 Fifth Ave      Condo for sale   \n",
       "1                                Brokered by Serhant      Condo for sale   \n",
       "2                             Brokered by Sowae Corp      House for sale   \n",
       "3                                Brokered by COMPASS      Condo for sale   \n",
       "4  Brokered by Sotheby's International Realty - E...  Townhouse for sale   \n",
       "\n",
       "       PRICE  BEDS       BATH  PROPERTYSQFT  LOCALITY  \n",
       "0     315000     2   2.000000        1400.0  New York  \n",
       "1  195000000     7  10.000000       17545.0  New York  \n",
       "2     260000     4   2.000000        2015.0  New York  \n",
       "3      69000     3   1.000000         445.0  New York  \n",
       "4   55000000     7   2.373861       14175.0  New York  "
      ]
     },
     "execution_count": 38,
     "metadata": {},
     "output_type": "execute_result"
    }
   ],
   "source": [
    "#Drop unneccessary columns\n",
    "#The only columns that will be retained are :BROKERTITLE, TYPE, PRICE, BEDS, BATH, PROPERTYSQFT, LOCALITY\n",
    "\n",
    "df = df[['BROKERTITLE', 'TYPE', 'PRICE', 'BEDS', 'BATH', 'PROPERTYSQFT', 'LOCALITY']]\n",
    "df.head()\n"
   ]
  },
  {
   "cell_type": "code",
   "execution_count": 39,
   "metadata": {},
   "outputs": [
    {
     "name": "stdout",
     "output_type": "stream",
     "text": [
      "['New York' 'New York County' 'The Bronx' 'Kings County' 'Bronx County'\n",
      " 'Queens County' 'Richmond County' 'United States' 'Brooklyn' 'Queens'\n",
      " 'Flatbush']\n"
     ]
    }
   ],
   "source": [
    "#checking on locality of the houses\n",
    "print(df['LOCALITY'].unique())"
   ]
  },
  {
   "cell_type": "code",
   "execution_count": 40,
   "metadata": {},
   "outputs": [
    {
     "data": {
      "text/plain": [
       "LOCALITY\n",
       "New York           2505\n",
       "New York County     979\n",
       "Queens County       557\n",
       "Kings County        464\n",
       "Bronx County        182\n",
       "Richmond County      59\n",
       "United States        37\n",
       "Brooklyn              6\n",
       "Queens                6\n",
       "The Bronx             5\n",
       "Flatbush              1\n",
       "Name: count, dtype: int64"
      ]
     },
     "execution_count": 40,
     "metadata": {},
     "output_type": "execute_result"
    }
   ],
   "source": [
    "#checking on the count of the localities\n",
    "df['LOCALITY'].value_counts()"
   ]
  },
  {
   "cell_type": "code",
   "execution_count": 41,
   "metadata": {},
   "outputs": [
    {
     "name": "stdout",
     "output_type": "stream",
     "text": [
      "LOCALITY\n",
      "New York County    3484\n",
      "Queens County       563\n",
      "Kings County        470\n",
      "Bronx County        187\n",
      "Richmond County      59\n",
      "Name: count, dtype: int64\n"
     ]
    }
   ],
   "source": [
    "# We need to clean up the locality column, merge some localities and remove the ones that are not necessary\n",
    "\n",
    "#Delete the rows which have United States and Flatbush as the locality\n",
    "df = df[df.LOCALITY != 'United States']\n",
    "df = df[df.LOCALITY != 'Flatbush']\n",
    "\n",
    "#Under locality column merge the rows which has New York and New York County as the locality to form New York County\n",
    "df['LOCALITY'] = df['LOCALITY'].replace(['New York', 'New York County'], 'New York County')\n",
    "\n",
    "#merge the rows which has Brooklyn and Kings County as the locality to form Kings County\n",
    "df['LOCALITY'] = df['LOCALITY'].replace(['Brooklyn', 'Kings County'], 'Kings County')\n",
    "\n",
    "#merge the rows which has Queens and Queens County as the locality to form Queens County\n",
    "df['LOCALITY'] = df['LOCALITY'].replace(['Queens', 'Queens County'], 'Queens County')\n",
    "\n",
    "#merge the rows which has The Bronx and Bronx County as the locality to form Bronx County\n",
    "df['LOCALITY'] = df['LOCALITY'].replace(['The Bronx', 'Bronx County'], 'Bronx County')\n",
    "\n",
    "#checking the data\n",
    "print(df['LOCALITY'].value_counts())"
   ]
  },
  {
   "cell_type": "code",
   "execution_count": 42,
   "metadata": {},
   "outputs": [
    {
     "data": {
      "text/plain": [
       "(4763, 7)"
      ]
     },
     "execution_count": 42,
     "metadata": {},
     "output_type": "execute_result"
    }
   ],
   "source": [
    "#shape of the data\n",
    "df.shape"
   ]
  },
  {
   "cell_type": "code",
   "execution_count": 43,
   "metadata": {},
   "outputs": [
    {
     "name": "stdout",
     "output_type": "stream",
     "text": [
      "<class 'pandas.core.frame.DataFrame'>\n",
      "Index: 4763 entries, 0 to 4800\n",
      "Data columns (total 7 columns):\n",
      " #   Column        Non-Null Count  Dtype  \n",
      "---  ------        --------------  -----  \n",
      " 0   BROKERTITLE   4763 non-null   object \n",
      " 1   TYPE          4763 non-null   object \n",
      " 2   PRICE         4763 non-null   int64  \n",
      " 3   BEDS          4763 non-null   int64  \n",
      " 4   BATH          4763 non-null   float64\n",
      " 5   PROPERTYSQFT  4763 non-null   float64\n",
      " 6   LOCALITY      4763 non-null   object \n",
      "dtypes: float64(2), int64(2), object(3)\n",
      "memory usage: 297.7+ KB\n"
     ]
    }
   ],
   "source": [
    "#info of the data\n",
    "df.info()"
   ]
  },
  {
   "cell_type": "code",
   "execution_count": 46,
   "metadata": {},
   "outputs": [
    {
     "name": "stdout",
     "output_type": "stream",
     "text": [
      "TYPE\n",
      "Co-op for sale                1442\n",
      "House for sale                1000\n",
      "Condo for sale                 888\n",
      "Multi-family home for sale     716\n",
      "Townhouse for sale             299\n",
      "Pending                        242\n",
      "Contingent                      87\n",
      "Land for sale                   47\n",
      "For sale                        20\n",
      "Foreclosure                     14\n",
      "Condop for sale                  5\n",
      "Coming Soon                      2\n",
      "Mobile house for sale            1\n",
      "Name: count, dtype: int64\n",
      "['Condo for sale' 'House for sale' 'Townhouse for sale' 'Co-op for sale'\n",
      " 'Multi-family home for sale' 'For sale' 'Contingent' 'Land for sale'\n",
      " 'Foreclosure' 'Pending' 'Coming Soon' 'Mobile house for sale'\n",
      " 'Condop for sale']\n",
      "13\n"
     ]
    }
   ],
   "source": [
    "#inspect the type column\n",
    "print(df['TYPE'].value_counts())\n",
    "\n",
    "#unique values in the type column\n",
    "print(df['TYPE'].unique())\n",
    "\n",
    "#how many unique values in the type column\n",
    "print(df['TYPE'].nunique())"
   ]
  },
  {
   "cell_type": "code",
   "execution_count": 47,
   "metadata": {},
   "outputs": [
    {
     "name": "stdout",
     "output_type": "stream",
     "text": [
      "BEDS\n",
      "3     1443\n",
      "2      990\n",
      "1      815\n",
      "4      564\n",
      "5      357\n",
      "6      269\n",
      "7      103\n",
      "8       84\n",
      "9       39\n",
      "10      21\n",
      "12      21\n",
      "11      20\n",
      "14       7\n",
      "15       5\n",
      "13       5\n",
      "16       4\n",
      "20       3\n",
      "24       3\n",
      "32       2\n",
      "35       1\n",
      "50       1\n",
      "36       1\n",
      "42       1\n",
      "40       1\n",
      "30       1\n",
      "19       1\n",
      "18       1\n",
      "Name: count, dtype: int64\n",
      "[ 2  7  4  3  5  8  1  6 10 11  9 12 15 14 16 20 35 24 50 13 32 36 42 40\n",
      " 30 19 18]\n",
      "27\n"
     ]
    }
   ],
   "source": [
    "#inspect the beds column\n",
    "print(df['BEDS'].value_counts())\n",
    "\n",
    "#unique values in the beds column\n",
    "print(df['BEDS'].unique())\n",
    "\n",
    "#how many unique values in the beds column\n",
    "print(df['BEDS'].nunique())"
   ]
  },
  {
   "cell_type": "code",
   "execution_count": 58,
   "metadata": {},
   "outputs": [
    {
     "name": "stdout",
     "output_type": "stream",
     "text": [
      "98.36237665336972\n"
     ]
    }
   ],
   "source": [
    "#percentage of houses with 10 beds and above\n",
    "print((df[df['BEDS'] <= 10].shape[0]/df.shape[0])*100)"
   ]
  },
  {
   "cell_type": "code",
   "execution_count": 59,
   "metadata": {},
   "outputs": [],
   "source": [
    "#drop the rows with 10 beds and above\n",
    "df = df[df['BEDS'] <= 10]\n",
    "\n"
   ]
  },
  {
   "cell_type": "code",
   "execution_count": 60,
   "metadata": {},
   "outputs": [
    {
     "name": "stdout",
     "output_type": "stream",
     "text": [
      "BATH\n",
      "2.000000     1664\n",
      "1.000000     1509\n",
      "4.000000      474\n",
      "3.000000      458\n",
      "2.373861      296\n",
      "6.000000      115\n",
      "5.000000       97\n",
      "8.000000       32\n",
      "7.000000       17\n",
      "10.000000      12\n",
      "9.000000        3\n",
      "0.000000        3\n",
      "16.000000       1\n",
      "32.000000       1\n",
      "13.000000       1\n",
      "11.000000       1\n",
      "17.000000       1\n",
      "Name: count, dtype: int64\n",
      "[ 2.         10.          1.          2.37386086 16.          3.\n",
      "  4.          6.          8.          5.          9.          7.\n",
      " 32.         13.         11.          0.         17.        ]\n",
      "17\n"
     ]
    }
   ],
   "source": [
    "#inspect the bath column\n",
    "print(df['BATH'].value_counts())\n",
    "\n",
    "#unique values in the bath column\n",
    "print(df['BATH'].unique())\n",
    "\n",
    "#how many unique values in the bath column\n",
    "print(df['BATH'].nunique())"
   ]
  },
  {
   "cell_type": "code",
   "execution_count": 66,
   "metadata": {},
   "outputs": [
    {
     "name": "stdout",
     "output_type": "stream",
     "text": [
      "99.89327641408752\n"
     ]
    }
   ],
   "source": [
    "#Percentage of houses with 10 baths and below\n",
    "print((df[df['BATH'] <= 10].shape[0]/df.shape[0])*100)"
   ]
  },
  {
   "cell_type": "code",
   "execution_count": 68,
   "metadata": {},
   "outputs": [],
   "source": [
    "#drop the rows with 10 baths and above\n",
    "df = df[df['BATH'] <= 10]"
   ]
  },
  {
   "cell_type": "code",
   "execution_count": 70,
   "metadata": {},
   "outputs": [
    {
     "name": "stdout",
     "output_type": "stream",
     "text": [
      "BROKERTITLE     0\n",
      "TYPE            0\n",
      "PRICE           0\n",
      "BEDS            0\n",
      "BATH            0\n",
      "PROPERTYSQFT    0\n",
      "LOCALITY        0\n",
      "dtype: int64\n"
     ]
    }
   ],
   "source": [
    "#checking the missing values\n",
    "\n",
    "missing_values = df.isnull().sum()\n",
    "\n",
    "print(missing_values)\n"
   ]
  },
  {
   "cell_type": "code",
   "execution_count": 71,
   "metadata": {},
   "outputs": [
    {
     "data": {
      "text/html": [
       "<div>\n",
       "<style scoped>\n",
       "    .dataframe tbody tr th:only-of-type {\n",
       "        vertical-align: middle;\n",
       "    }\n",
       "\n",
       "    .dataframe tbody tr th {\n",
       "        vertical-align: top;\n",
       "    }\n",
       "\n",
       "    .dataframe thead th {\n",
       "        text-align: right;\n",
       "    }\n",
       "</style>\n",
       "<table border=\"1\" class=\"dataframe\">\n",
       "  <thead>\n",
       "    <tr style=\"text-align: right;\">\n",
       "      <th></th>\n",
       "      <th>PRICE</th>\n",
       "      <th>BEDS</th>\n",
       "      <th>BATH</th>\n",
       "      <th>PROPERTYSQFT</th>\n",
       "    </tr>\n",
       "  </thead>\n",
       "  <tbody>\n",
       "    <tr>\n",
       "      <th>count</th>\n",
       "      <td>4.680000e+03</td>\n",
       "      <td>4680.000000</td>\n",
       "      <td>4680.000000</td>\n",
       "      <td>4680.000000</td>\n",
       "    </tr>\n",
       "    <tr>\n",
       "      <th>mean</th>\n",
       "      <td>2.333982e+06</td>\n",
       "      <td>3.140385</td>\n",
       "      <td>2.245013</td>\n",
       "      <td>2105.701816</td>\n",
       "    </tr>\n",
       "    <tr>\n",
       "      <th>std</th>\n",
       "      <td>3.174027e+07</td>\n",
       "      <td>1.768425</td>\n",
       "      <td>1.374548</td>\n",
       "      <td>2188.087041</td>\n",
       "    </tr>\n",
       "    <tr>\n",
       "      <th>min</th>\n",
       "      <td>2.494000e+03</td>\n",
       "      <td>1.000000</td>\n",
       "      <td>0.000000</td>\n",
       "      <td>230.000000</td>\n",
       "    </tr>\n",
       "    <tr>\n",
       "      <th>25%</th>\n",
       "      <td>4.950000e+05</td>\n",
       "      <td>2.000000</td>\n",
       "      <td>1.000000</td>\n",
       "      <td>1200.000000</td>\n",
       "    </tr>\n",
       "    <tr>\n",
       "      <th>50%</th>\n",
       "      <td>7.999990e+05</td>\n",
       "      <td>3.000000</td>\n",
       "      <td>2.000000</td>\n",
       "      <td>2184.207862</td>\n",
       "    </tr>\n",
       "    <tr>\n",
       "      <th>75%</th>\n",
       "      <td>1.450000e+06</td>\n",
       "      <td>4.000000</td>\n",
       "      <td>3.000000</td>\n",
       "      <td>2184.207862</td>\n",
       "    </tr>\n",
       "    <tr>\n",
       "      <th>max</th>\n",
       "      <td>2.147484e+09</td>\n",
       "      <td>10.000000</td>\n",
       "      <td>10.000000</td>\n",
       "      <td>65535.000000</td>\n",
       "    </tr>\n",
       "  </tbody>\n",
       "</table>\n",
       "</div>"
      ],
      "text/plain": [
       "              PRICE         BEDS         BATH  PROPERTYSQFT\n",
       "count  4.680000e+03  4680.000000  4680.000000   4680.000000\n",
       "mean   2.333982e+06     3.140385     2.245013   2105.701816\n",
       "std    3.174027e+07     1.768425     1.374548   2188.087041\n",
       "min    2.494000e+03     1.000000     0.000000    230.000000\n",
       "25%    4.950000e+05     2.000000     1.000000   1200.000000\n",
       "50%    7.999990e+05     3.000000     2.000000   2184.207862\n",
       "75%    1.450000e+06     4.000000     3.000000   2184.207862\n",
       "max    2.147484e+09    10.000000    10.000000  65535.000000"
      ]
     },
     "execution_count": 71,
     "metadata": {},
     "output_type": "execute_result"
    }
   ],
   "source": [
    "#descriptive statistics\n",
    "df.describe()"
   ]
  },
  {
   "cell_type": "code",
   "execution_count": 82,
   "metadata": {},
   "outputs": [
    {
     "data": {
      "text/plain": [
       "(4440, 7)"
      ]
     },
     "execution_count": 82,
     "metadata": {},
     "output_type": "execute_result"
    }
   ],
   "source": [
    "#checking for duplicates and removing them\n",
    "\n",
    "df.duplicated().sum()\n",
    "\n",
    "df.drop_duplicates(inplace=True)\n",
    "\n",
    "#checking the shape of the data\n",
    "df.shape\n",
    "\n",
    "\n",
    "\n"
   ]
  },
  {
   "cell_type": "code",
   "execution_count": 83,
   "metadata": {},
   "outputs": [
    {
     "data": {
      "text/plain": [
       "count    4.440000e+03\n",
       "mean     2.366780e+06\n",
       "std      3.257641e+07\n",
       "min      2.494000e+03\n",
       "25%      4.950000e+05\n",
       "50%      7.999990e+05\n",
       "75%      1.461250e+06\n",
       "max      2.147484e+09\n",
       "Name: PRICE, dtype: float64"
      ]
     },
     "execution_count": 83,
     "metadata": {},
     "output_type": "execute_result"
    }
   ],
   "source": [
    "# price analysis\n",
    "df['PRICE'].describe()\n"
   ]
  },
  {
   "cell_type": "code",
   "execution_count": 88,
   "metadata": {},
   "outputs": [
    {
     "data": {
      "image/png": "[encoded data removed]",
      "text/plain": [
       "<Figure size 1000x600 with 1 Axes>"
      ]
     },
     "metadata": {},
     "output_type": "display_data"
    }
   ],
   "source": [
    "#Analyze the distribution of house prices\n",
    "\n",
    "plt.figure(figsize=(10,6))\n",
    "sns.histplot(df['PRICE'],bins=100,kde=True)\n",
    "plt.title(\"Distribution of Price\")\n",
    "plt.xlabel(\"Price\")\n",
    "plt.ylabel(\"Frequency\")\n",
    "plt.xscale('log') # using log scale due to wide range of prices\n",
    "plt.show()\n",
    "\n",
    "#Explain the analysis\n",
    "#The distribution of price is right skewed. This means that most of the houses are in the lower price range.\n",
    "#There are very few houses in the higher price range.\n",
    "#The distribution of price is not normal.\n",
    "\n"
   ]
  },
  {
   "cell_type": "code",
   "execution_count": 92,
   "metadata": {},
   "outputs": [
    {
     "data": {
      "image/png": "[encoded data removed]",
      "text/plain": [
       "<Figure size 640x480 with 1 Axes>"
      ]
     },
     "metadata": {
      "image/png": {
       "height": 480,
       "width": 640
      },
      "needs_background": "light"
     },
     "output_type": "display_data"
    },
    {
     "data": {
      "text/plain": [
       "<Figure Size: (640 x 480)>"
      ]
     },
     "execution_count": 92,
     "metadata": {},
     "output_type": "execute_result"
    }
   ],
   "source": [
    "import plotnine as p9\n",
    "from plotnine import ggplot, aes, geom_histogram, labs, scale_x_log10, theme_minimal\n",
    "(ggplot(df) +\n",
    " geom_histogram(aes(x='PRICE'), bins=100, fill='steelblue', color='black') +\n",
    " labs(title='Distribution of Price', x='Price', y='Frequency') +\n",
    " scale_x_log10() +\n",
    " theme_minimal()\n",
    ")\n"
   ]
  },
  {
   "cell_type": "code",
   "execution_count": 93,
   "metadata": {},
   "outputs": [
    {
     "data": {
      "image/png": "[encoded data removed]",
      "text/plain": [
       "<Figure size 1000x600 with 1 Axes>"
      ]
     },
     "metadata": {
      "image/png": {
       "height": 600,
       "width": 1000
      }
     },
     "output_type": "display_data"
    }
   ],
   "source": [
    "# indenfiying the outliers\n",
    "plt.figure(figsize=(10,6))\n",
    "sns.boxplot(x=df['PRICE'])\n",
    "plt.title(\"Boxplot of House Price\")\n",
    "plt.xlabel(\"Price\")\n",
    "plt.xscale('log')  # using log scale due to wide range of prices\n",
    "plt.xlabel(\"Price\")\n",
    "plt.show()\n",
    "\n",
    "#explaining the the boxplot\n",
    "#The boxplot shows that there are many outliers in the price variable.\n",
    "#The outliers are the houses with very high prices.\n",
    "#The median price is around 400,000 dollars.\n",
    "#The boxplot also shows that there are some houses with very low prices.\n",
    "\n",
    "\n"
   ]
  },
  {
   "cell_type": "code",
   "execution_count": 99,
   "metadata": {},
   "outputs": [
    {
     "data": {
      "image/png": "[encoded data removed]",
      "text/plain": [
       "<Figure size 640x480 with 1 Axes>"
      ]
     },
     "metadata": {
      "image/png": {
       "height": 480,
       "width": 640
      },
      "needs_background": "light"
     },
     "output_type": "display_data"
    },
    {
     "data": {
      "text/plain": [
       "<Figure Size: (640 x 480)>"
      ]
     },
     "execution_count": 99,
     "metadata": {},
     "output_type": "execute_result"
    }
   ],
   "source": [
    "import plotnine as p9\n",
    "from plotnine import ggplot, aes, geom_boxplot, labs, scale_x_log10, theme_minimal\n",
    "\n",
    "# Identifying the outliers\n",
    "(ggplot(df) +\n",
    " geom_boxplot(aes(y='PRICE'), fill='steelblue', color='black') +\n",
    " labs(title='Boxplot of House Price', x='Price') +\n",
    " scale_x_log10() +\n",
    " theme_minimal()\n",
    ")\n"
   ]
  },
  {
   "cell_type": "code",
   "execution_count": null,
   "metadata": {},
   "outputs": [],
   "source": [
    "#removing the outliers\n",
    "#removing the top 1% of the data\n",
    "q = df['PRICE'].quantile(0.99)\n",
    "df = df[df['PRICE']<q]\n",
    "df.shape"
   ]
  },
  {
   "cell_type": "code",
   "execution_count": null,
   "metadata": {},
   "outputs": [],
   "source": [
    "#Property size analysis\n",
    "#Exploring the relationship between the price and the size of the property\n",
    "\n",
    "plt.figure(figsize=(10,6))\n",
    "sns.scatterplot(x=df['PROPERTYSQFT'],y=df['PRICE'])\n",
    "plt.title(\"Price vs Property Size\")\n",
    "plt.xlabel(\"Property Size\")\n",
    "plt.ylabel(\"Price\")\n",
    "plt.xscale('log')  # using log scale due to wide range of prices\n",
    "plt.yscale('log')  # using log scale due to wide range of prices\n",
    "plt.show()\n",
    "\n",
    "#explaining the analysis\n",
    "#The scatter plot shows that there is a positive correlation between the price and the size of the property.\n",
    "#The scatter plot also shows that there are some outliers in the data.\n",
    "#The outliers are the houses with very high prices and very large sizes.\n",
    "#The scatter plot also shows that there are some houses with very low prices and very small sizes.\n",
    "#The scattter plot is not linear. This means that the relationship between the price and the size of the property is not linear.\n",
    "\n",
    "\n",
    "#calculating the correlation between the price and the size of the property\n",
    "correlation =df['PRICE'].corr(df['PROPERTYSQFT'])\n",
    "correlation\n",
    "\n",
    "#explaining the correlation\n",
    "#The correlation between the price and the size of the property is 0.44.\n",
    "#This shows that there is a positive correlation between the price and the size of the property.\n",
    "#This means that as the size of the property increases, the price also increases.\n",
    "#However, the correlation is not very strong.\n",
    "#This means that the size of the property is not a very good predictor of the price.\n",
    "# This means that the price of the property could be influenced by other factors as well.\n",
    "\n",
    "\n",
    "\n"
   ]
  },
  {
   "cell_type": "code",
   "execution_count": null,
   "metadata": {},
   "outputs": [],
   "source": [
    "#Location based analysis\n",
    "# Investigating geographical patterns in property prices\n",
    "#Grouping properties by locatity and calculating average prices\n",
    "\n",
    "df.groupby('LOCALITY')['PRICE'].mean().sort_values(ascending=False)\n",
    "\n",
    "#plotting the top 10 localities by average price\n",
    "\n",
    "plt.figure(figsize=(10,6))\n",
    "df.groupby('LOCALITY')['PRICE'].mean().sort_values(ascending=False).head(10).plot(kind='bar')\n",
    "plt.title(\"Top 10 Localities by Average Price\")\n",
    "plt.xlabel(\"Locality\")\n",
    "plt.ylabel(\"Average Price\")\n",
    "plt.yscale('log')  # using log scale due to wide range of prices\n",
    "#plt.xticks(rotation=45)\n",
    "plt.show()\n",
    "\n"
   ]
  },
  {
   "cell_type": "code",
   "execution_count": null,
   "metadata": {},
   "outputs": [],
   "source": [
    "#plotting the average price by number of bedrooms\n",
    "\n",
    "plt.figure(figsize=(10,6))\n",
    "df.groupby('BEDS')['PRICE'].mean().plot(kind='bar')\n",
    "plt.title(\"Average Price by Number of Bedrooms\")\n",
    "plt.xlabel(\"Number of Bedrooms\")\n",
    "plt.ylabel(\"Average Price\")\n",
    "plt.xticks(rotation=0) \n",
    "plt.show()\n",
    "\n",
    "\n",
    "\n",
    "\n",
    "\n"
   ]
  },
  {
   "cell_type": "markdown",
   "metadata": {},
   "source": [
    "Average House Prices by Number of Bedrooms:\n",
    "\n",
    "The bar chart illustrates a general upward trend in average prices with an increase in the number of bedrooms. This indicates that properties with more bedrooms tend to be priced higher.\n",
    "However, there is some fluctuation in this trend, particularly for properties with a very high number of bedrooms."
   ]
  },
  {
   "cell_type": "code",
   "execution_count": null,
   "metadata": {},
   "outputs": [],
   "source": [
    "#plotting the average price by number of bathrooms\n",
    "\n",
    "plt.figure(figsize=(10,6))\n",
    "df.groupby('BATH')['PRICE'].mean().plot(kind='bar')\n",
    "plt.title(\"Average Price by Number of Bathrooms\")\n",
    "plt.xlabel(\"Number of Bathrooms\")\n",
    "plt.ylabel(\"Average Price\") \n",
    "plt.xticks(rotation=45)\n",
    "plt.show()"
   ]
  },
  {
   "cell_type": "markdown",
   "metadata": {},
   "source": [
    "Average House Prices by Number of Bathrooms:\n",
    "\n",
    "Similarly, there's an increasing trend in average prices with the number of bathrooms. Properties with more bathrooms generally have higher average prices.\n",
    "This trend also shows some inconsistencies, especially for properties with a very high number of bathrooms."
   ]
  },
  {
   "cell_type": "markdown",
   "metadata": {},
   "source": [
    "Insights from Bedroom and Bathroom Trends:\n",
    "\n",
    "Impact on Prices: Both the number of bedrooms and bathrooms have a significant impact on property prices, with a general trend of higher prices for properties with more bedrooms and bathrooms.\n",
    "Non-linear Trends: There are some non-linear trends observed, especially at the higher end of bedrooms and bathrooms, which might be due to the presence of luxury or unique properties."
   ]
  },
  {
   "cell_type": "code",
   "execution_count": null,
   "metadata": {},
   "outputs": [],
   "source": [
    "#Broker performance analysis\n",
    "#Identifying the top 10 brokers by number of properties sold\n",
    "\n",
    "plt.figure(figsize=(10,6))\n",
    "df['BROKERTITLE'].value_counts().head(10).plot(kind='bar')\n",
    "plt.title(\"Top 10 Brokers by Number of Properties Sold\")\n",
    "plt.xlabel(\"Broker\")\n",
    "plt.ylabel(\"Number of Properties Sold\")\n",
    "plt.show()\n"
   ]
  },
  {
   "cell_type": "code",
   "execution_count": null,
   "metadata": {},
   "outputs": [],
   "source": [
    "#Analyzing the performance of the top 10 brokers by average price\n",
    "\n",
    "plt.figure(figsize=(10,6))\n",
    "df.groupby('BROKERTITLE')['PRICE'].mean().sort_values(ascending=False).head(10).plot(kind='bar')\n",
    "plt.title(\"Top 10 Brokers by Average Price\")\n",
    "plt.xlabel(\"Broker\")\n",
    "plt.ylabel(\"Average Price\")\n",
    "#plt.yscale('log')  # using log scale due to wide range of prices\n",
    "plt.xticks(rotation=45)\n",
    "plt.show()"
   ]
  },
  {
   "cell_type": "markdown",
   "metadata": {},
   "source": [
    "##### Insights from Broker Performance Analysis:\n",
    "\n",
    "Variation Among Brokers: There is a noticeable variation in average prices among different brokers, suggesting that broker choice might have an influence on the pricing of properties.\n",
    "High-End Brokers: Some brokers appear to specialize in higher-priced properties, which could indicate a focus on luxury or premium real estate markets."
   ]
  },
  {
   "cell_type": "markdown",
   "metadata": {},
   "source": [
    "**Conclusion**\n",
    "\n",
    "This analysis provides insights into various aspects of the New York housing market, including price trends, the impact of property size, location influences, and the role of bedrooms/bathrooms in pricing. Additionally, it highlights how different brokers position themselves in the market."
   ]
  },
  {
   "cell_type": "code",
   "execution_count": null,
   "metadata": {},
   "outputs": [],
   "source": [
    "# I should re look at analysis for bathrooms and bedrooms."
   ]
  }
 ],
 "metadata": {
  "kernelspec": {
   "display_name": "base",
   "language": "python",
   "name": "python3"
  },
  "language_info": {
   "codemirror_mode": {
    "name": "ipython",
    "version": 3
   },
   "file_extension": ".py",
   "mimetype": "text/x-python",
   "name": "python",
   "nbconvert_exporter": "python",
   "pygments_lexer": "ipython3",
   "version": "3.11.5"
  }
 },
 "nbformat": 4,
 "nbformat_minor": 2
}
