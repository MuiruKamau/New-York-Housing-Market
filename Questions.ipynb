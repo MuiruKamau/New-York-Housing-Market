{
 "cells": [
  {
   "cell_type": "markdown",
   "metadata": {},
   "source": [
    "**Question to answer with my Analysis**\n",
    "\n",
    "\n",
    "•\t**Price analysis**: Analyze the distribution of house prices to understand market trends and identify potential  \n",
    "                        investment opportunities.\n",
    "\n",
    "•\t**Property size analysis**: Explore the relationship between property square footage and prices to assess the \n",
    "                                value of different-sized houses.\n",
    "\n",
    "•\t**Location-based analysis**: Investigate geographical patterns to identify areas with higher or lower property\n",
    "                                  prices.\n",
    "\n",
    "•\t**Bedroom and bathroom trends** : Analyse the impact of the number of bedrooms and bathrooms on house prices.\n",
    "\n",
    "•\t**Broker performance analysis**: Evaluate the influence of different brokers on the pricing of houses.\n"
   ]
  }
 ],
 "metadata": {
  "language_info": {
   "name": "python"
  }
 },
 "nbformat": 4,
 "nbformat_minor": 2
}
